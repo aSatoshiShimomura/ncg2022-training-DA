{
 "cells": [
  {
   "cell_type": "markdown",
   "id": "5b6255b3-f01e-4c26-8e94-b8621ba971de",
   "metadata": {},
   "source": [
    "## どの話でどの文末表現が多く使用されているか．"
   ]
  },
  {
   "cell_type": "code",
   "execution_count": 1,
   "id": "09d1a868-4510-4cf0-b41d-4e582a996a7d",
   "metadata": {},
   "outputs": [
    {
     "name": "stdout",
     "output_type": "stream",
     "text": [
      "/home/access/work\n"
     ]
    }
   ],
   "source": [
    "import os\n",
    "import pandas as pd\n",
    "import numpy as np\n",
    "import re\n",
    "from matplotlib import pyplot as plt\n",
    "path = os.getcwd()\n",
    "print(path)\n"
   ]
  },
  {
   "cell_type": "code",
   "execution_count": 2,
   "id": "741526bd-cb03-4e06-b71c-26302b292d7b",
   "metadata": {},
   "outputs": [],
   "source": [
    "df = pd.read_csv('./data/comments_takopi.csv')"
   ]
  },
  {
   "cell_type": "markdown",
   "id": "b14d6ae5-66b6-43f8-baeb-fe828bf60267",
   "metadata": {},
   "source": [
    "content_idとメッセージの抽出  \n",
    "df.loc[:,['A','B']]"
   ]
  },
  {
   "cell_type": "code",
   "execution_count": 3,
   "id": "919ced5e-66d8-4c3b-b6dc-d9e48cacc4e8",
   "metadata": {},
   "outputs": [],
   "source": [
    "df_content_id_comment_list = df.loc[:,['content_id','message']]\n",
    "# df_content_id_comment_list"
   ]
  },
  {
   "cell_type": "markdown",
   "id": "ea215e36-78f0-41ca-a41f-77dc55b97ae4",
   "metadata": {},
   "source": [
    "messageの分類．特定語尾のメッセージだけを取り出す．"
   ]
  },
  {
   "cell_type": "code",
   "execution_count": 4,
   "id": "78eb55c6-1a18-49ab-989d-3363a6f6fa76",
   "metadata": {},
   "outputs": [],
   "source": [
    "df_message = df['message']\n",
    "# df_message\n",
    "#type(df_message)"
   ]
  },
  {
   "cell_type": "code",
   "execution_count": 5,
   "id": "b053a542-2e39-4f40-aec5-4af3f0cf3be6",
   "metadata": {},
   "outputs": [],
   "source": [
    "#df_草 = df_message.str.extract('(草|笑)$',expand=True)\n",
    "df_草_sum = df_message.str.endswith('草').sum()"
   ]
  },
  {
   "cell_type": "code",
   "execution_count": 6,
   "id": "8aba3fb0-19b9-479e-af83-5dcb144a2b4b",
   "metadata": {},
   "outputs": [
    {
     "data": {
      "text/plain": [
       "492"
      ]
     },
     "execution_count": 6,
     "metadata": {},
     "output_type": "execute_result"
    }
   ],
   "source": [
    "df_草_sum"
   ]
  },
  {
   "cell_type": "code",
   "execution_count": 7,
   "id": "5783afdb-6cf0-45e5-aaa3-99c281e463f1",
   "metadata": {},
   "outputs": [
    {
     "name": "stdout",
     "output_type": "stream",
     "text": [
      "<class 'pandas.core.frame.DataFrame'>\n",
      "RangeIndex: 84241 entries, 0 to 84240\n",
      "Data columns (total 5 columns):\n",
      " #   Column       Non-Null Count  Dtype \n",
      "---  ------       --------------  ----- \n",
      " 0   content_id   84241 non-null  int64 \n",
      " 1   user_id      84241 non-null  int64 \n",
      " 2   inserted_at  84241 non-null  object\n",
      " 3   like_count   84241 non-null  int64 \n",
      " 4   message      84241 non-null  object\n",
      "dtypes: int64(3), object(2)\n",
      "memory usage: 3.2+ MB\n"
     ]
    }
   ],
   "source": [
    "df.info()"
   ]
  },
  {
   "cell_type": "code",
   "execution_count": 8,
   "id": "4fa2da13-42b4-411e-b375-cb718b8a077d",
   "metadata": {},
   "outputs": [
    {
     "name": "stdout",
     "output_type": "stream",
     "text": [
      "0    21808\n",
      "dtype: int64\n",
      "         0\n",
      "4        !\n",
      "6        ！\n",
      "7      。。。\n",
      "10       ？\n",
      "13       ？\n",
      "...    ...\n",
      "84222    w\n",
      "84224    ！\n",
      "84226    ？\n",
      "84227    ！\n",
      "84229  ...\n",
      "\n",
      "[21808 rows x 1 columns]\n"
     ]
    }
   ],
   "source": [
    "df_end_of_sentence = df_message.str.extract('.*(草|笑|。。。|w|、、、|\\.\\.\\.|\\!|\\?|！|？)$',expand=True).dropna(how='all')\n",
    "print(df_end_of_sentence.count())\n",
    "print(df_end_of_sentence)"
   ]
  },
  {
   "cell_type": "code",
   "execution_count": 9,
   "id": "1b0725d1-ae2e-4edb-84cd-ce2f19d2d06b",
   "metadata": {},
   "outputs": [],
   "source": [
    "df_message = df_message.str.rstrip('\\n')#改行を除去"
   ]
  },
  {
   "cell_type": "code",
   "execution_count": 10,
   "id": "31b20e86-fa1f-4dde-ad50-676f3042c54b",
   "metadata": {},
   "outputs": [
    {
     "name": "stdout",
     "output_type": "stream",
     "text": [
      "4                                      面白いけど流石にエグすぎるかも...!\n",
      "6                            ハッピーエンドになってほしいなってほしいたのむ！！！！！！\n",
      "7                                                    おも。。。\n",
      "10                                                  エグゥッ！？\n",
      "13                                  最高にハッピーな小学生人間ドラマ、、、？？？\n",
      "                               ...                        \n",
      "84217                                           タコピーマジか...\n",
      "84222                                         面白んだけど辛いわwww\n",
      "84224                                            つまり、、？え？！\n",
      "84227                               タコピー、なんでカメラで殴ったんだよォぉお！\n",
      "84229    東くんひたすらお前はダメだ、できないと言われ続けたらあんな言葉かけられてやらないわけないよな...\n",
      "Name: message, Length: 16860, dtype: object\n"
     ]
    },
    {
     "data": {
      "text/plain": [
       "16860"
      ]
     },
     "execution_count": 10,
     "metadata": {},
     "output_type": "execute_result"
    }
   ],
   "source": [
    "df_hoge = df_message[df_message.str.match('.*(草|笑|。。。|w|W|、、、|\\.\\.\\.|\\!|\\?|！|？)$')]#マッチしたdataframeが帰る\n",
    "print(df_hoge)\n",
    "df_hoge.count()\n",
    "#抽出できた．"
   ]
  },
  {
   "cell_type": "code",
   "execution_count": 11,
   "id": "5a00205c-565b-4685-a2af-c282dbc76aae",
   "metadata": {},
   "outputs": [
    {
     "name": "stdout",
     "output_type": "stream",
     "text": [
      "{'草': 475, '笑': 228, '。。。': 179, 'w': 589, 'W': 6, '、、、': 662, '\\\\.\\\\.\\\\.': 940, '\\\\!': 290, '\\\\?': 209, '！': 6898, '？': 6384, '芝': 0}\n"
     ]
    }
   ],
   "source": [
    "#タコピー全体のdf_messageを使用する．\n",
    "#漫画全体で特定の末尾使用数（こちらで手動特定）でグラフ\n",
    "\n",
    "strs = ['草','笑','。。。','w','W','、、、','\\.\\.\\.','\\!','\\?','！','？','芝']\n",
    "\n",
    "def counter(str):\n",
    "    count = 0\n",
    "    pattern = re.compile('.*' + str + '$')\n",
    "    count = df_message[df_message.str.match(pattern)].count()\n",
    "    return count\n",
    "\n",
    "sum = 0\n",
    "counter_dict = {}\n",
    "\n",
    "for i in strs:\n",
    "    counter_dict[i] = counter(i)\n",
    "    #sum += count\n",
    "    \n",
    "print(counter_dict)\n",
    "#counter_df = pd.DataFrame.from_dict(counter_dict)"
   ]
  },
  {
   "cell_type": "code",
   "execution_count": 12,
   "id": "79125670-a17f-4042-ad2e-0a32f4becc9d",
   "metadata": {},
   "outputs": [
    {
     "data": {
      "image/png": "[encoded data removed]",
      "text/plain": [
       "<Figure size 432x288 with 1 Axes>"
      ]
     },
     "metadata": {
      "needs_background": "light"
     },
     "output_type": "display_data"
    }
   ],
   "source": [
    "x = counter_dict.keys()\n",
    "plt.title(\"「タコピーの原罪」中で使用されている特定文末表現\")\n",
    "plt.bar(x, counter_dict.values(), tick_label=list(counter_dict.keys()))\n",
    "plt.show()"
   ]
  },
  {
   "cell_type": "code",
   "execution_count": 13,
   "id": "4896091e-45a5-4aae-b298-35596fcbef3c",
   "metadata": {
    "jupyter": {
     "source_hidden": true
    },
    "tags": []
   },
   "outputs": [],
   "source": [
    "#全漫画で使用されている文末表現\n"
   ]
  },
  {
   "cell_type": "code",
   "execution_count": 25,
   "id": "323db3b2-a07b-428e-a3d6-b66999f978eb",
   "metadata": {},
   "outputs": [
    {
     "name": "stdout",
     "output_type": "stream",
     "text": [
      "[   363    530   1303   2159   2318 102085]\n"
     ]
    },
    {
     "data": {
      "text/html": [
       "<div>\n",
       "<style scoped>\n",
       "    .dataframe tbody tr th:only-of-type {\n",
       "        vertical-align: middle;\n",
       "    }\n",
       "\n",
       "    .dataframe tbody tr th {\n",
       "        vertical-align: top;\n",
       "    }\n",
       "\n",
       "    .dataframe thead th {\n",
       "        text-align: right;\n",
       "    }\n",
       "</style>\n",
       "<table border=\"1\" class=\"dataframe\">\n",
       "  <thead>\n",
       "    <tr style=\"text-align: right;\">\n",
       "      <th></th>\n",
       "      <th>content_id</th>\n",
       "      <th>user_id</th>\n",
       "      <th>inserted_at</th>\n",
       "      <th>like_count</th>\n",
       "      <th>message</th>\n",
       "      <th>work_id</th>\n",
       "      <th>work_name</th>\n",
       "    </tr>\n",
       "  </thead>\n",
       "  <tbody>\n",
       "    <tr>\n",
       "      <th>0</th>\n",
       "      <td>1016369</td>\n",
       "      <td>298364</td>\n",
       "      <td>2021-10-31 15:00:16</td>\n",
       "      <td>22176</td>\n",
       "      <td>アニメ化おめでとう！！！！！</td>\n",
       "      <td>1303</td>\n",
       "      <td>SPY×FAMILY</td>\n",
       "    </tr>\n",
       "    <tr>\n",
       "      <th>1</th>\n",
       "      <td>1016369</td>\n",
       "      <td>219064</td>\n",
       "      <td>2021-10-31 15:00:30</td>\n",
       "      <td>1387</td>\n",
       "      <td>アニメ化おめでとう！！まじか？！</td>\n",
       "      <td>1303</td>\n",
       "      <td>SPY×FAMILY</td>\n",
       "    </tr>\n",
       "    <tr>\n",
       "      <th>2</th>\n",
       "      <td>1016369</td>\n",
       "      <td>103248838</td>\n",
       "      <td>2021-10-31 15:00:35</td>\n",
       "      <td>13940</td>\n",
       "      <td>遂にアニメ化来た！おめでとう！！！！</td>\n",
       "      <td>1303</td>\n",
       "      <td>SPY×FAMILY</td>\n",
       "    </tr>\n",
       "    <tr>\n",
       "      <th>3</th>\n",
       "      <td>1016369</td>\n",
       "      <td>35688635</td>\n",
       "      <td>2021-10-31 15:00:40</td>\n",
       "      <td>1</td>\n",
       "      <td>やっぱりアニメ化か！おめでとうございます🎊</td>\n",
       "      <td>1303</td>\n",
       "      <td>SPY×FAMILY</td>\n",
       "    </tr>\n",
       "    <tr>\n",
       "      <th>4</th>\n",
       "      <td>1016369</td>\n",
       "      <td>1213862</td>\n",
       "      <td>2021-10-31 15:00:41</td>\n",
       "      <td>1</td>\n",
       "      <td>おめでとうアニメ化！アーニャ可愛いなぁ</td>\n",
       "      <td>1303</td>\n",
       "      <td>SPY×FAMILY</td>\n",
       "    </tr>\n",
       "    <tr>\n",
       "      <th>...</th>\n",
       "      <td>...</td>\n",
       "      <td>...</td>\n",
       "      <td>...</td>\n",
       "      <td>...</td>\n",
       "      <td>...</td>\n",
       "      <td>...</td>\n",
       "      <td>...</td>\n",
       "    </tr>\n",
       "    <tr>\n",
       "      <th>101208</th>\n",
       "      <td>1026940</td>\n",
       "      <td>102890807</td>\n",
       "      <td>2022-03-31 08:50:27</td>\n",
       "      <td>0</td>\n",
       "      <td>お湯をかければ元に戻るのは らんまリスペクトかな</td>\n",
       "      <td>102085</td>\n",
       "      <td>ダンダダン</td>\n",
       "    </tr>\n",
       "    <tr>\n",
       "      <th>101209</th>\n",
       "      <td>1026940</td>\n",
       "      <td>38473504</td>\n",
       "      <td>2022-03-31 08:55:59</td>\n",
       "      <td>0</td>\n",
       "      <td>えぇーーー</td>\n",
       "      <td>102085</td>\n",
       "      <td>ダンダダン</td>\n",
       "    </tr>\n",
       "    <tr>\n",
       "      <th>101210</th>\n",
       "      <td>1026940</td>\n",
       "      <td>1848537</td>\n",
       "      <td>2022-03-31 09:27:27</td>\n",
       "      <td>0</td>\n",
       "      <td>キャラデザすごすぎぃ…ウルト○マンに出てくる怪獣みたいに洗練されてるじゃん…</td>\n",
       "      <td>102085</td>\n",
       "      <td>ダンダダン</td>\n",
       "    </tr>\n",
       "    <tr>\n",
       "      <th>101211</th>\n",
       "      <td>1026940</td>\n",
       "      <td>812330</td>\n",
       "      <td>2022-03-31 10:18:28</td>\n",
       "      <td>0</td>\n",
       "      <td>ジジは何食べてそんなにデカくなったんだ</td>\n",
       "      <td>102085</td>\n",
       "      <td>ダンダダン</td>\n",
       "    </tr>\n",
       "    <tr>\n",
       "      <th>101212</th>\n",
       "      <td>1026940</td>\n",
       "      <td>102121833</td>\n",
       "      <td>2022-03-31 10:30:15</td>\n",
       "      <td>0</td>\n",
       "      <td>やぱぱーって歌ってんじゃんよ！</td>\n",
       "      <td>102085</td>\n",
       "      <td>ダンダダン</td>\n",
       "    </tr>\n",
       "  </tbody>\n",
       "</table>\n",
       "<p>101213 rows × 7 columns</p>\n",
       "</div>"
      ],
      "text/plain": [
       "        content_id    user_id          inserted_at  like_count  \\\n",
       "0          1016369     298364  2021-10-31 15:00:16       22176   \n",
       "1          1016369     219064  2021-10-31 15:00:30        1387   \n",
       "2          1016369  103248838  2021-10-31 15:00:35       13940   \n",
       "3          1016369   35688635  2021-10-31 15:00:40           1   \n",
       "4          1016369    1213862  2021-10-31 15:00:41           1   \n",
       "...            ...        ...                  ...         ...   \n",
       "101208     1026940  102890807  2022-03-31 08:50:27           0   \n",
       "101209     1026940   38473504  2022-03-31 08:55:59           0   \n",
       "101210     1026940    1848537  2022-03-31 09:27:27           0   \n",
       "101211     1026940     812330  2022-03-31 10:18:28           0   \n",
       "101212     1026940  102121833  2022-03-31 10:30:15           0   \n",
       "\n",
       "                                       message  work_id   work_name  \n",
       "0                               アニメ化おめでとう！！！！！     1303  SPY×FAMILY  \n",
       "1                             アニメ化おめでとう！！まじか？！     1303  SPY×FAMILY  \n",
       "2                           遂にアニメ化来た！おめでとう！！！！     1303  SPY×FAMILY  \n",
       "3                        やっぱりアニメ化か！おめでとうございます🎊     1303  SPY×FAMILY  \n",
       "4                          おめでとうアニメ化！アーニャ可愛いなぁ     1303  SPY×FAMILY  \n",
       "...                                        ...      ...         ...  \n",
       "101208                お湯をかければ元に戻るのは らんまリスペクトかな   102085       ダンダダン  \n",
       "101209                                   えぇーーー   102085       ダンダダン  \n",
       "101210  キャラデザすごすぎぃ…ウルト○マンに出てくる怪獣みたいに洗練されてるじゃん…   102085       ダンダダン  \n",
       "101211                     ジジは何食べてそんなにデカくなったんだ   102085       ダンダダン  \n",
       "101212                         やぱぱーって歌ってんじゃんよ！   102085       ダンダダン  \n",
       "\n",
       "[101213 rows x 7 columns]"
      ]
     },
     "execution_count": 25,
     "metadata": {},
     "output_type": "execute_result"
    }
   ],
   "source": [
    "#1漫画毎のメッセージを取得\n",
    "\n",
    "content = pd.read_csv('./data/contents.csv')\n",
    "comment = pd.read_csv('./data/comments.csv')\n",
    "work_ids = content['work_id'].unique()\n",
    "print(work_ids)\n",
    "df_con_temp = content[['work_id','content_id','work_name']]\n",
    "df_w_m = comment.merge(df_con_temp, on=['content_id'])#work_idとmessageを紐付け\n",
    "df_w_m"
   ]
  },
  {
   "cell_type": "code",
   "execution_count": 58,
   "id": "f0020280-248d-4979-8142-3ca0c8a92168",
   "metadata": {},
   "outputs": [
    {
     "data": {
      "text/plain": [
       "{'草': 84,\n",
       " '笑': 44,\n",
       " '。。。': 5,\n",
       " 'w': 173,\n",
       " 'W': 0,\n",
       " '、、、': 22,\n",
       " '\\\\.\\\\.\\\\.': 28,\n",
       " '\\\\!': 22,\n",
       " '\\\\?': 12,\n",
       " '！': 300,\n",
       " '？': 413}"
      ]
     },
     "execution_count": 58,
     "metadata": {},
     "output_type": "execute_result"
    }
   ],
   "source": [
    "df_w = df_w_m.groupby('work_id')\n",
    "df_w.get_group(363)\n",
    "strs = ['草','笑','。。。','w','W','、、、','\\.\\.\\.','\\!','\\?','！','？']\n",
    "\n",
    "ls = list()\n",
    "\n",
    "for w in work_ids:\n",
    "    df = df_w.get_group(w)\n",
    "    df_message = df['message']\n",
    "    counter_dict = {}\n",
    "    \n",
    "    for str in strs:\n",
    "        pattern = re.compile('.*' + str + '$')\n",
    "        count = df_message[df_message.str.match(pattern)].count()#マッチした個数を返す\n",
    "        counter_dict[str] = counter(str)#辞書に放り込む\n",
    "    ls.append(counter_dict)\n",
    "    \n",
    "    #ls.append(counter_dict)\n",
    "ls[0]"
   ]
  },
  {
   "cell_type": "code",
   "execution_count": 61,
   "id": "ff1e2d22-0675-4162-8351-fc2291621060",
   "metadata": {},
   "outputs": [
    {
     "data": {
      "text/plain": [
       "<BarContainer object of 11 artists>"
      ]
     },
     "execution_count": 61,
     "metadata": {},
     "output_type": "execute_result"
    },
    {
     "data": {
      "image/png": "[encoded data removed]",
      "text/plain": [
       "<Figure size 864x576 with 6 Axes>"
      ]
     },
     "metadata": {
      "needs_background": "light"
     },
     "output_type": "display_data"
    }
   ],
   "source": [
    "Figure = plt.figure(figsize=(12,8))#全体のグラフ作成\n",
    "\n",
    "ax0 = Figure.add_subplot(2,3,1)\n",
    "ax1 = Figure.add_subplot(2,3,2)\n",
    "ax2 = Figure.add_subplot(2,3,3)\n",
    "ax3 = Figure.add_subplot(2,3,4)\n",
    "ax4 = Figure.add_subplot(2,3,5)\n",
    "ax5 = Figure.add_subplot(2,3,6)\n",
    "\n",
    "x0 = ls[0].keys()\n",
    "x1 = ls[1].keys()\n",
    "x2 = ls[2].keys()\n",
    "x3 = ls[3].keys()\n",
    "x4 = ls[4].keys()\n",
    "x5 = ls[5].keys()\n",
    "\n",
    "ax0.set_title('阿波連さんははかれない')\n",
    "ax1.set_title('左ききのエレン')\n",
    "ax2.set_title('SPY×FAMILY')\n",
    "ax3.set_title('怪獣８号')\n",
    "ax4.set_title('鴨乃橋ロンの禁断推理')\n",
    "ax5.set_title('ダンダダン')\n",
    "\n",
    "ax0.bar(x0, ls[0].values(), tick_label=list(ls[0].keys()))\n",
    "ax1.bar(x1, ls[1].values(), tick_label=list(ls[1].keys()))\n",
    "ax2.bar(x2, ls[0].values(), tick_label=list(ls[2].keys()))\n",
    "ax3.bar(x3, ls[1].values(), tick_label=list(ls[3].keys()))\n",
    "ax4.bar(x4, ls[0].values(), tick_label=list(ls[4].keys()))\n",
    "ax5.bar(x5, ls[1].values(), tick_label=list(ls[5].keys()))"
   ]
  },
  {
   "cell_type": "code",
   "execution_count": null,
   "id": "12c23ee9-186b-4648-b391-b44cfcc5c228",
   "metadata": {},
   "outputs": [],
   "source": []
  }
 ],
 "metadata": {
  "kernelspec": {
   "display_name": "Python 3 (ipykernel)",
   "language": "python",
   "name": "python3"
  },
  "language_info": {
   "codemirror_mode": {
    "name": "ipython",
    "version": 3
   },
   "file_extension": ".py",
   "mimetype": "text/x-python",
   "name": "python",
   "nbconvert_exporter": "python",
   "pygments_lexer": "ipython3",
   "version": "3.8.13"
  }
 },
 "nbformat": 4,
 "nbformat_minor": 5
}
