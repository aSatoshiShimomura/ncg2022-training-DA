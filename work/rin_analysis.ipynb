{
 "cells": [
  {
   "cell_type": "markdown",
   "id": "5b6255b3-f01e-4c26-8e94-b8621ba971de",
   "metadata": {},
   "source": [
    "## どの話でどの文末表現が多く使用されているか．"
   ]
  },
  {
   "cell_type": "code",
   "execution_count": 1,
   "id": "09d1a868-4510-4cf0-b41d-4e582a996a7d",
   "metadata": {},
   "outputs": [
    {
     "name": "stdout",
     "output_type": "stream",
     "text": [
      "/home/access/work\n"
     ]
    }
   ],
   "source": [
    "import os\n",
    "import pandas as pd\n",
    "import numpy as np\n",
    "import re\n",
    "from matplotlib import pyplot as plt\n",
    "path = os.getcwd()\n",
    "print(path)\n"
   ]
  },
  {
   "cell_type": "code",
   "execution_count": 2,
   "id": "741526bd-cb03-4e06-b71c-26302b292d7b",
   "metadata": {},
   "outputs": [],
   "source": [
    "df = pd.read_csv('./data/comments_takopi.csv')"
   ]
  },
  {
   "cell_type": "markdown",
   "id": "b14d6ae5-66b6-43f8-baeb-fe828bf60267",
   "metadata": {},
   "source": [
    "content_idとメッセージの抽出  \n",
    "df.loc[:,['A','B']]"
   ]
  },
  {
   "cell_type": "code",
   "execution_count": 3,
   "id": "919ced5e-66d8-4c3b-b6dc-d9e48cacc4e8",
   "metadata": {},
   "outputs": [],
   "source": [
    "df_content_id_comment_list = df.loc[:,['content_id','message']]\n",
    "# df_content_id_comment_list"
   ]
  },
  {
   "cell_type": "markdown",
   "id": "ea215e36-78f0-41ca-a41f-77dc55b97ae4",
   "metadata": {},
   "source": [
    "messageの分類．特定語尾のメッセージだけを取り出す．"
   ]
  },
  {
   "cell_type": "code",
   "execution_count": 4,
   "id": "78eb55c6-1a18-49ab-989d-3363a6f6fa76",
   "metadata": {},
   "outputs": [],
   "source": [
    "df_message = df['message']\n",
    "# df_message\n",
    "#type(df_message)"
   ]
  },
  {
   "cell_type": "code",
   "execution_count": 5,
   "id": "b053a542-2e39-4f40-aec5-4af3f0cf3be6",
   "metadata": {},
   "outputs": [],
   "source": [
    "#df_草 = df_message.str.extract('(草|笑)$',expand=True)\n",
    "df_草_sum = df_message.str.endswith('草').sum()"
   ]
  },
  {
   "cell_type": "code",
   "execution_count": 6,
   "id": "8aba3fb0-19b9-479e-af83-5dcb144a2b4b",
   "metadata": {},
   "outputs": [
    {
     "data": {
      "text/plain": [
       "492"
      ]
     },
     "execution_count": 6,
     "metadata": {},
     "output_type": "execute_result"
    }
   ],
   "source": [
    "df_草_sum"
   ]
  },
  {
   "cell_type": "code",
   "execution_count": 7,
   "id": "5783afdb-6cf0-45e5-aaa3-99c281e463f1",
   "metadata": {},
   "outputs": [
    {
     "name": "stdout",
     "output_type": "stream",
     "text": [
      "<class 'pandas.core.frame.DataFrame'>\n",
      "RangeIndex: 84241 entries, 0 to 84240\n",
      "Data columns (total 5 columns):\n",
      " #   Column       Non-Null Count  Dtype \n",
      "---  ------       --------------  ----- \n",
      " 0   content_id   84241 non-null  int64 \n",
      " 1   user_id      84241 non-null  int64 \n",
      " 2   inserted_at  84241 non-null  object\n",
      " 3   like_count   84241 non-null  int64 \n",
      " 4   message      84241 non-null  object\n",
      "dtypes: int64(3), object(2)\n",
      "memory usage: 3.2+ MB\n"
     ]
    }
   ],
   "source": [
    "df.info()"
   ]
  },
  {
   "cell_type": "code",
   "execution_count": 8,
   "id": "4fa2da13-42b4-411e-b375-cb718b8a077d",
   "metadata": {},
   "outputs": [
    {
     "name": "stdout",
     "output_type": "stream",
     "text": [
      "0    21808\n",
      "dtype: int64\n",
      "         0\n",
      "4        !\n",
      "6        ！\n",
      "7      。。。\n",
      "10       ？\n",
      "13       ？\n",
      "...    ...\n",
      "84222    w\n",
      "84224    ！\n",
      "84226    ？\n",
      "84227    ！\n",
      "84229  ...\n",
      "\n",
      "[21808 rows x 1 columns]\n"
     ]
    }
   ],
   "source": [
    "df_end_of_sentence = df_message.str.extract('.*(草|笑|。。。|w|、、、|\\.\\.\\.|\\!|\\?|！|？)$',expand=True).dropna(how='all')\n",
    "print(df_end_of_sentence.count())\n",
    "print(df_end_of_sentence)"
   ]
  },
  {
   "cell_type": "code",
   "execution_count": 9,
   "id": "1b0725d1-ae2e-4edb-84cd-ce2f19d2d06b",
   "metadata": {},
   "outputs": [],
   "source": [
    "df_message = df_message.str.rstrip('\\n')#改行を除去"
   ]
  },
  {
   "cell_type": "code",
   "execution_count": 10,
   "id": "31b20e86-fa1f-4dde-ad50-676f3042c54b",
   "metadata": {},
   "outputs": [
    {
     "name": "stdout",
     "output_type": "stream",
     "text": [
      "4                                      面白いけど流石にエグすぎるかも...!\n",
      "6                            ハッピーエンドになってほしいなってほしいたのむ！！！！！！\n",
      "7                                                    おも。。。\n",
      "10                                                  エグゥッ！？\n",
      "13                                  最高にハッピーな小学生人間ドラマ、、、？？？\n",
      "                               ...                        \n",
      "84217                                           タコピーマジか...\n",
      "84222                                         面白んだけど辛いわwww\n",
      "84224                                            つまり、、？え？！\n",
      "84227                               タコピー、なんでカメラで殴ったんだよォぉお！\n",
      "84229    東くんひたすらお前はダメだ、できないと言われ続けたらあんな言葉かけられてやらないわけないよな...\n",
      "Name: message, Length: 16860, dtype: object\n"
     ]
    },
    {
     "data": {
      "text/plain": [
       "16860"
      ]
     },
     "execution_count": 10,
     "metadata": {},
     "output_type": "execute_result"
    }
   ],
   "source": [
    "df_hoge = df_message[df_message.str.match('.*(草|笑|。。。|w|W|、、、|\\.\\.\\.|\\!|\\?|！|？)$')]#マッチしたdataframeが帰る\n",
    "print(df_hoge)\n",
    "df_hoge.count()\n",
    "#抽出できた．"
   ]
  },
  {
   "cell_type": "code",
   "execution_count": 11,
   "id": "5a00205c-565b-4685-a2af-c282dbc76aae",
   "metadata": {},
   "outputs": [
    {
     "name": "stdout",
     "output_type": "stream",
     "text": [
      "{'草': 475, '笑': 228, '。。。': 179, 'w': 589, 'W': 6, '、、、': 662, '\\\\.\\\\.\\\\.': 940, '\\\\!': 290, '\\\\?': 209, '！': 6898, '？': 6384, '芝': 0}\n"
     ]
    }
   ],
   "source": [
    "#タコピー全体のdf_messageを使用する．\n",
    "#漫画全体で特定の末尾使用数（こちらで手動特定）でグラフ\n",
    "\n",
    "strs = ['草','笑','。。。','w','W','、、、','\\.\\.\\.','\\!','\\?','！','？','芝']\n",
    "\n",
    "def counter(str):\n",
    "    count = 0\n",
    "    pattern = re.compile('.*' + str + '$')\n",
    "    count = df_message[df_message.str.match(pattern)].count()\n",
    "    return count\n",
    "\n",
    "sum = 0\n",
    "counter_dict = {}\n",
    "\n",
    "for i in strs:\n",
    "    counter_dict[i] = counter(i)\n",
    "    #sum += count\n",
    "    \n",
    "print(counter_dict)\n",
    "#counter_df = pd.DataFrame.from_dict(counter_dict)"
   ]
  },
  {
   "cell_type": "code",
   "execution_count": 12,
   "id": "79125670-a17f-4042-ad2e-0a32f4becc9d",
   "metadata": {},
   "outputs": [
    {
     "data": {
      "image/png": "[encoded data removed]",
      "text/plain": [
       "<Figure size 432x288 with 1 Axes>"
      ]
     },
     "metadata": {
      "needs_background": "light"
     },
     "output_type": "display_data"
    }
   ],
   "source": [
    "x = counter_dict.keys()\n",
    "plt.title(\"「タコピーの原罪」中で使用されている特定文末表現\")\n",
    "plt.bar(x, counter_dict.values(), tick_label=list(counter_dict.keys()))\n",
    "plt.show()"
   ]
  },
  {
   "cell_type": "code",
   "execution_count": 13,
   "id": "4896091e-45a5-4aae-b298-35596fcbef3c",
   "metadata": {
    "jupyter": {
     "source_hidden": true
    },
    "tags": []
   },
   "outputs": [],
   "source": [
    "#全漫画で使用されている文末表現\n"
   ]
  },
  {
   "cell_type": "code",
   "execution_count": 14,
   "id": "323db3b2-a07b-428e-a3d6-b66999f978eb",
   "metadata": {},
   "outputs": [
    {
     "name": "stdout",
     "output_type": "stream",
     "text": [
      "[   363    530   1303   2159   2318 102085]\n"
     ]
    }
   ],
   "source": [
    "#1漫画毎のメッセージを取得\n",
    "\n",
    "content = pd.read_csv('./data/contents.csv')\n",
    "comment = pd.read_csv('./data/comments.csv')\n",
    "work_ids = content['work_id'].unique()\n",
    "print(work_ids)\n",
    "df_con_temp = content[['work_id','content_id','work_name']]\n",
    "df_w_m = comment.merge(df_con_temp, on=['content_id'])#work_idとmessageを紐付け"
   ]
  },
  {
   "cell_type": "code",
   "execution_count": 24,
   "id": "f0020280-248d-4979-8142-3ca0c8a92168",
   "metadata": {},
   "outputs": [],
   "source": [
    "#work_id毎に，messageをdf分割\n",
    "#print(df_w_m)\n",
    "df_list = list()\n",
    "\n",
    "def make_df(work_ids):\n",
    "    temp = pd.DataFrame()\n",
    "    for i in work_ids:\n",
    "        temp = df_w_m[df_w_m['work_id'] == i]\n",
    "        print(temp['message'])\n",
    "        df_list.append(temp)\n",
    "\n",
    "\n",
    "\n",
    "#df_listを用いて，作品毎のmassageの文末表現分析\n"
   ]
  },
  {
   "cell_type": "code",
   "execution_count": 16,
   "id": "09a2af2f-9b61-41e8-81cf-8d863ea8844f",
   "metadata": {},
   "outputs": [
    {
     "ename": "SyntaxError",
     "evalue": "invalid syntax (1685346885.py, line 15)",
     "output_type": "error",
     "traceback": [
      "\u001b[0;36m  Input \u001b[0;32mIn [16]\u001b[0;36m\u001b[0m\n\u001b[0;31m    df_list[][0]\u001b[0m\n\u001b[0m            ^\u001b[0m\n\u001b[0;31mSyntaxError\u001b[0m\u001b[0;31m:\u001b[0m invalid syntax\n"
     ]
    }
   ],
   "source": [
    "#df_listにはwork_idとかmessageとかdf形式のリスト\n",
    "\n",
    "strs = ['草','笑','。。。','w','W','、、、','\\.\\.\\.','\\!','\\?','！','？','芝']\n",
    "'''\n",
    "def counter(df):\n",
    "    count = 0\n",
    "    df_message = df['message']#messageだけとりだす．\n",
    "    \n",
    "    for str in strs:\n",
    "        pattern = re.compile('.*' + str + '$')\n",
    "        count = df_message[df_message.str.match(pattern)].count()\n",
    "    return count\n",
    "'''\n",
    "\n",
    "df_list[][0]\n",
    "\n",
    "spy_dict = {}\n",
    "danda_dict = {}\n",
    "hidari_dict = {}\n",
    "aharen_dict = {}\n",
    "kaiju_dict = {}\n",
    "kindan_dict = {}\n",
    "\n",
    "\n",
    "def counter(str):\n",
    "    count = 0\n",
    "    pattern = re.compile('.*' + str + '$')\n",
    "    count = df_message[df_message.str.match(pattern)].count()\n",
    "    return count\n",
    "\n",
    "\n",
    "for i in strs:\n",
    "    spy_dict[i] = counter(i)\n",
    "    danda_dict[i] = counter(i)\n",
    "    hidari_dict[i] = counter(i)\n",
    "    aharen_dict[i] = counter(i)\n",
    "    kaiju_dict[i] = counter(i)\n",
    "    kindan_dict[i] = counter(i)\n",
    "    \n",
    "print(spy_dict)\n",
    "print(danda_dict)\n",
    "print(hidari_dict)\n",
    "print(aharen_dict)\n",
    "print(kaiju_dict)\n",
    "print(kindan_dict)"
   ]
  },
  {
   "cell_type": "code",
   "execution_count": null,
   "id": "ff1e2d22-0675-4162-8351-fc2291621060",
   "metadata": {},
   "outputs": [],
   "source": [
    "Figure = plt.figure()#全体のグラフ作成\n",
    "\n",
    "ax1 = Figure.add_subplot(2,2,1)\n",
    "ax2 = Figure.add_subplot(2,2,2)\n",
    "ax3 = Figure.add_subplot(2,2,3)\n",
    "ax4 = Figure.add_subplot(2,2,4)\n",
    "\n",
    "ax1.bar(x, counter_dict.values(), tick_label=list(counter_dict.keys()))"
   ]
  },
  {
   "cell_type": "code",
   "execution_count": null,
   "id": "12c23ee9-186b-4648-b391-b44cfcc5c228",
   "metadata": {},
   "outputs": [],
   "source": []
  }
 ],
 "metadata": {
  "kernelspec": {
   "display_name": "Python 3 (ipykernel)",
   "language": "python",
   "name": "python3"
  },
  "language_info": {
   "codemirror_mode": {
    "name": "ipython",
    "version": 3
   },
   "file_extension": ".py",
   "mimetype": "text/x-python",
   "name": "python",
   "nbconvert_exporter": "python",
   "pygments_lexer": "ipython3",
   "version": "3.8.13"
  }
 },
 "nbformat": 4,
 "nbformat_minor": 5
}
