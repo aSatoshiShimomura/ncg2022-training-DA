{
 "cells": [
  {
   "cell_type": "markdown",
   "metadata": {},
   "source": [
    "# Python 最低限"
   ]
  },
  {
   "cell_type": "markdown",
   "metadata": {},
   "source": [
    "## はじめに\n",
    "\n",
    "### 作法について\n",
    "\n",
    "Python コードを書く際の作法については、[PEP8スタイルガイド](https://pep8-ja.readthedocs.io/ja/latest/)を参考してみてください。"
   ]
  },
  {
   "cell_type": "markdown",
   "metadata": {},
   "source": [
    "## 変数への代入\n",
    "\n",
    "2という整数(オブジェクト)に`x`という名前を与えること= `x`という変数がオブジェクト2を参照する様にする"
   ]
  },
  {
   "cell_type": "code",
   "execution_count": null,
   "metadata": {},
   "outputs": [],
   "source": [
    "x = 2"
   ]
  },
  {
   "cell_type": "code",
   "execution_count": null,
   "metadata": {},
   "outputs": [],
   "source": [
    "print(x)"
   ]
  },
  {
   "cell_type": "code",
   "execution_count": null,
   "metadata": {},
   "outputs": [],
   "source": [
    "y = x\n",
    "y"
   ]
  },
  {
   "cell_type": "markdown",
   "metadata": {},
   "source": [
    "この様に、常に右の値が左を定義します。このことを使うと、値をずらすことができます"
   ]
  },
  {
   "cell_type": "markdown",
   "metadata": {},
   "source": [
    "## `for`"
   ]
  },
  {
   "cell_type": "code",
   "execution_count": null,
   "metadata": {},
   "outputs": [],
   "source": [
    "for i in range(5):\n",
    "    print(i)"
   ]
  },
  {
   "cell_type": "code",
   "execution_count": null,
   "metadata": {},
   "outputs": [],
   "source": [
    "for i in range(10):\n",
    "    print('o'+'h'*i)"
   ]
  },
  {
   "cell_type": "code",
   "execution_count": null,
   "metadata": {},
   "outputs": [],
   "source": [
    "x = 0   # initialize\n",
    "\n",
    "for _ in range(10):\n",
    "    x = x + 1\n",
    "    \n",
    "print(x)"
   ]
  },
  {
   "cell_type": "markdown",
   "metadata": {},
   "source": [
    "## `list`\n",
    "\n",
    "list型のオブジェクトは`[]`でくくることで、宣言できる。"
   ]
  },
  {
   "cell_type": "code",
   "execution_count": null,
   "metadata": {},
   "outputs": [],
   "source": [
    "numbers = [0,1,2,3,4,5,6,7]\n",
    "numbers"
   ]
  },
  {
   "cell_type": "code",
   "execution_count": null,
   "metadata": {},
   "outputs": [],
   "source": [
    "type(numbers)"
   ]
  },
  {
   "cell_type": "markdown",
   "metadata": {},
   "source": [
    "### リストへの要素の追加\n",
    "\n",
    "`append()` で行う"
   ]
  },
  {
   "cell_type": "code",
   "execution_count": null,
   "metadata": {},
   "outputs": [],
   "source": [
    "numbers.append(8)\n",
    "numbers"
   ]
  },
  {
   "cell_type": "markdown",
   "metadata": {},
   "source": [
    "### リストへのリストの追加\n",
    "\n",
    "`extend()` で行う"
   ]
  },
  {
   "cell_type": "code",
   "execution_count": null,
   "metadata": {},
   "outputs": [],
   "source": [
    "numbers = list()\n",
    "odd_numbers = [ 1, 3, 5, 7 ]\n",
    "even_numbers = [ 2, 4, 6, 8 ]\n",
    "numbers.extend(odd_numbers)\n",
    "numbers.extend(even_numbers)\n",
    "numbers"
   ]
  },
  {
   "cell_type": "markdown",
   "metadata": {},
   "source": [
    "各要素にアクセスする方法（スライス）は、list型オブジェクトの直後に`[]`でインデックスを指定する"
   ]
  },
  {
   "cell_type": "code",
   "execution_count": null,
   "metadata": {},
   "outputs": [],
   "source": [
    "numbers[3]"
   ]
  },
  {
   "cell_type": "code",
   "execution_count": null,
   "metadata": {},
   "outputs": [],
   "source": [
    "numbers[1:4]"
   ]
  },
  {
   "cell_type": "code",
   "execution_count": null,
   "metadata": {},
   "outputs": [],
   "source": [
    "numbers[4:]"
   ]
  },
  {
   "cell_type": "code",
   "execution_count": null,
   "metadata": {},
   "outputs": [],
   "source": [
    "numbers[:4]"
   ]
  },
  {
   "cell_type": "markdown",
   "metadata": {},
   "source": [
    "### リストの要素変更"
   ]
  },
  {
   "cell_type": "code",
   "execution_count": null,
   "metadata": {},
   "outputs": [],
   "source": [
    "numbers[3] = 8\n",
    "numbers"
   ]
  },
  {
   "cell_type": "markdown",
   "metadata": {},
   "source": [
    "## `dict`\n",
    "\n",
    "dict型のオブジェクトは`{}`でくくることで、宣言できる。    \n",
    "dict型のオブジェクトというのは、keyとvalueの組み合わせでできている。"
   ]
  },
  {
   "cell_type": "code",
   "execution_count": null,
   "metadata": {},
   "outputs": [],
   "source": [
    "prices = { 'apple':120, 'orange':160, 'melon': 700 }  # クォーテーション '' でくくるとstr型のオブジェクトになる\n",
    "prices"
   ]
  },
  {
   "cell_type": "code",
   "execution_count": null,
   "metadata": {},
   "outputs": [],
   "source": [
    "type(prices)"
   ]
  },
  {
   "cell_type": "markdown",
   "metadata": {},
   "source": [
    "### keyとvalueの取得"
   ]
  },
  {
   "cell_type": "code",
   "execution_count": null,
   "metadata": {},
   "outputs": [],
   "source": [
    "prices.keys()"
   ]
  },
  {
   "cell_type": "code",
   "execution_count": null,
   "metadata": {},
   "outputs": [],
   "source": [
    "prices.values()"
   ]
  },
  {
   "cell_type": "markdown",
   "metadata": {},
   "source": [
    "両方ともあわせて取得する場合は、`items()`メソッドを用いる。"
   ]
  },
  {
   "cell_type": "code",
   "execution_count": null,
   "metadata": {},
   "outputs": [],
   "source": [
    "prices.items()"
   ]
  },
  {
   "cell_type": "markdown",
   "metadata": {},
   "source": [
    "keyを指定してvalueを得ることもできる"
   ]
  },
  {
   "cell_type": "code",
   "execution_count": null,
   "metadata": {},
   "outputs": [],
   "source": [
    "prices['melon']"
   ]
  },
  {
   "cell_type": "markdown",
   "metadata": {},
   "source": [
    "## 自前のライブラリの仕様\n",
    "\n",
    "自分で作ったツール等を `import` する方法を紹介する。  \n",
    "この環境では、`src/` 以下に `sample.py` というファイルがあり、`sample_func` メソッドを以下の様に定義している。  \n",
    "\n",
    "```python\n",
    "def sample_func() -> None:\n",
    "    print(f'This method is defined in {__file__}.')\n",
    "```\n",
    "\n",
    "このメソッドを `import` する。"
   ]
  },
  {
   "cell_type": "code",
   "execution_count": null,
   "metadata": {},
   "outputs": [],
   "source": [
    "from src.sample import sample_func"
   ]
  },
  {
   "cell_type": "code",
   "execution_count": null,
   "metadata": {},
   "outputs": [],
   "source": [
    "# 実行\n",
    "sample_func()"
   ]
  },
  {
   "cell_type": "markdown",
   "metadata": {},
   "source": [
    "このサンプルを参考に自分で実装したツールやモジュールを `src/` 以下に保存するとよい。  \n",
    "`src/` 以下に新たにディレクトリを作成して、そのディレクトリにモジュールを実装する場合は、パッケージとして Python に扱わせるために`__init__.py` が必要なことに注意。  \n",
    "`src/sample_modules` のディレクトリを参考にすること。"
   ]
  },
  {
   "cell_type": "markdown",
   "metadata": {},
   "source": [
    "# NumPy\n",
    "\n",
    "特に高速なベクトル化された配列演算を可能にしてくれるのが[NumPy](https://numpy.org)。\n",
    "公式のドキュメントは[ここ](https://numpy.org/doc/)から読める。    \n",
    "ライブラリは使うものだけ`import`する。その際、これに`np`というあだ名（別名）をつけて、以下では作業する。    "
   ]
  },
  {
   "cell_type": "code",
   "execution_count": null,
   "metadata": {},
   "outputs": [],
   "source": [
    "import numpy as np"
   ]
  },
  {
   "cell_type": "markdown",
   "metadata": {},
   "source": [
    "## numpy.ndarray\n",
    "\n",
    "list型オブジェクトから配列(NumPyのarrayオブジェクト)が作れる。"
   ]
  },
  {
   "cell_type": "code",
   "execution_count": null,
   "metadata": {},
   "outputs": [],
   "source": [
    "numbers = [0,1,2,3,4,5,6,7]\n",
    "x= np.array(numbers)\n",
    "x"
   ]
  },
  {
   "cell_type": "code",
   "execution_count": null,
   "metadata": {},
   "outputs": [],
   "source": [
    "odd_numbers = [ 1, 3, 5, 7 ]\n",
    "even_numbers = [ 2, 4, 6, 8 ]\n",
    "x = np.array([odd_numbers,even_numbers])\n",
    "x"
   ]
  },
  {
   "cell_type": "code",
   "execution_count": null,
   "metadata": {},
   "outputs": [],
   "source": [
    "print(type(x),x.shape)"
   ]
  },
  {
   "cell_type": "markdown",
   "metadata": {},
   "source": [
    "### 要素の追加\n",
    "\n",
    "一次配列の場合、`insert()`を用いて、要素を任意の位置に追加できる。"
   ]
  },
  {
   "cell_type": "code",
   "execution_count": null,
   "metadata": {},
   "outputs": [],
   "source": [
    "x = [0,1,2,3,4,5,6,7]\n",
    "np.insert(x, 1, 8)"
   ]
  },
  {
   "cell_type": "code",
   "execution_count": null,
   "metadata": {},
   "outputs": [],
   "source": [
    "np.insert(x, 2, [8, 9])"
   ]
  },
  {
   "cell_type": "code",
   "execution_count": null,
   "metadata": {},
   "outputs": [],
   "source": [
    "np.insert(x, [2, 3, 4], [8, 9, 10])"
   ]
  },
  {
   "cell_type": "markdown",
   "metadata": {},
   "source": [
    "二次配列の場合、`insert()`を用いると以下のようになる。"
   ]
  },
  {
   "cell_type": "code",
   "execution_count": null,
   "metadata": {},
   "outputs": [],
   "source": [
    "numbers = [0,1,2,3,4,5,6,7]\n",
    "x = np.array(numbers).reshape(4,2)\n",
    "x"
   ]
  },
  {
   "cell_type": "code",
   "execution_count": null,
   "metadata": {},
   "outputs": [],
   "source": [
    "np.insert(x, 5, [8,9])"
   ]
  },
  {
   "cell_type": "markdown",
   "metadata": {},
   "source": [
    "単純に、`insert()` を用いると一次配列が返ってくる。\n",
    "`insert()`の引数に`axis=0`を追加すると、"
   ]
  },
  {
   "cell_type": "code",
   "execution_count": null,
   "metadata": {},
   "outputs": [],
   "source": [
    "np.insert(x, 4, [8,9],axis=0)"
   ]
  },
  {
   "cell_type": "markdown",
   "metadata": {},
   "source": [
    "`numpy.ndarray` 同士の結合には、`vstack()`, `hstack()`を用いるとよい。    \n",
    "[vstack](https://numpy.org/doc/1.17/reference/generated/numpy.vstack.html) and \n",
    "[hstack](https://numpy.org/doc/1.17/reference/generated/numpy.hstack.html) in official document."
   ]
  },
  {
   "cell_type": "code",
   "execution_count": null,
   "metadata": {},
   "outputs": [],
   "source": [
    "odd_numbers = [ 1, 3, 5, 7 ]\n",
    "even_numbers = [ 2, 4, 6, 8 ]\n",
    "x_odd = np.array(odd_numbers).reshape(2,2)\n",
    "x_even =  np.array(even_numbers).reshape(2,2)"
   ]
  },
  {
   "cell_type": "code",
   "execution_count": null,
   "metadata": {},
   "outputs": [],
   "source": [
    "np.vstack((x_odd, x_even))"
   ]
  },
  {
   "cell_type": "code",
   "execution_count": null,
   "metadata": {
    "scrolled": true
   },
   "outputs": [],
   "source": [
    "np.hstack((x_odd, x_even))"
   ]
  },
  {
   "cell_type": "markdown",
   "metadata": {},
   "source": [
    "### newaxis\n",
    "\n",
    "ちょいちょい使うので、理解して、覚えておくとよい。"
   ]
  },
  {
   "cell_type": "code",
   "execution_count": null,
   "metadata": {},
   "outputs": [],
   "source": [
    "A = np.array([1,2,3])\n",
    "A"
   ]
  },
  {
   "cell_type": "code",
   "execution_count": null,
   "metadata": {},
   "outputs": [],
   "source": [
    "A.shape"
   ]
  },
  {
   "cell_type": "code",
   "execution_count": null,
   "metadata": {},
   "outputs": [],
   "source": [
    "A[:, np.newaxis]"
   ]
  },
  {
   "cell_type": "code",
   "execution_count": null,
   "metadata": {},
   "outputs": [],
   "source": [
    "A[:, np.newaxis].shape"
   ]
  },
  {
   "cell_type": "code",
   "execution_count": null,
   "metadata": {},
   "outputs": [],
   "source": [
    "A[np.newaxis,:]"
   ]
  },
  {
   "cell_type": "code",
   "execution_count": null,
   "metadata": {},
   "outputs": [],
   "source": [
    "A[np.newaxis,:].shape"
   ]
  },
  {
   "cell_type": "markdown",
   "metadata": {},
   "source": [
    "### expand_dims\n",
    "\n",
    "`np.expand_dims()`は、`np.newaxis`は同じ作業の別のやり方。"
   ]
  },
  {
   "cell_type": "code",
   "execution_count": null,
   "metadata": {},
   "outputs": [],
   "source": [
    "A = np.array([1,2])\n",
    "B = np.expand_dims(A, axis=0)\n",
    "B"
   ]
  },
  {
   "cell_type": "code",
   "execution_count": null,
   "metadata": {},
   "outputs": [],
   "source": [
    "B.shape"
   ]
  },
  {
   "cell_type": "code",
   "execution_count": null,
   "metadata": {},
   "outputs": [],
   "source": [
    "C = np.expand_dims(A, axis=1)\n",
    "C"
   ]
  },
  {
   "cell_type": "code",
   "execution_count": null,
   "metadata": {},
   "outputs": [],
   "source": [
    " C.shape"
   ]
  },
  {
   "cell_type": "markdown",
   "metadata": {},
   "source": [
    "# Pandas\n",
    "\n",
    "[Pandas](https://pandas.pydata.org/)は、表計算やデータの統計処理等に便利モジュールが含まれた、データ分析作業を支援するライブラリ。    \n",
    "公式ドキュメントは[ここ](https://pandas.pydata.org/pandas-docs/stable/index.html#)から読め、手始めに[Getting start](http://pandas.pydata.org/pandas-docs/stable/getting_started/index.html)などを読むと良い。"
   ]
  },
  {
   "cell_type": "code",
   "execution_count": null,
   "metadata": {},
   "outputs": [],
   "source": [
    "import pandas as pd"
   ]
  },
  {
   "cell_type": "markdown",
   "metadata": {
    "id": "TZ2FZ_Gozdwn"
   },
   "source": [
    "## `Series` と `DataFrame`\n",
    "\n",
    "`pandas` の中心的なオブジェクトは、`Series`と`DataFrame`である。直感的な説明として、`DataFrame`はエクセルや Google スプレッドシートのようなワークシートの様なもので、`Series`は、そのワークシートの列である。  \n",
    "`Series`, `DataFrame` の行は、`index` で管理され、`0` から始まる番号、もしくは任意のラベルが付けられる。一方で、`DataFrame` の列は、`column` で管理される。"
   ]
  },
  {
   "cell_type": "markdown",
   "metadata": {
    "id": "yTBtiYjKzdwo"
   },
   "source": [
    "### `Series`\n",
    "\n",
    "`Series` オブジェクトは、以下のように、`list`, `dict`, `numpy.ndarray` などから作成できる。"
   ]
  },
  {
   "cell_type": "code",
   "execution_count": null,
   "metadata": {
    "id": "vU4pzL5nzdwo"
   },
   "outputs": [],
   "source": [
    "# list から\n",
    "s1 = pd.Series([0,1,2])\n",
    "print('s1')\n",
    "print(s1)\n",
    "\n",
    "# numpy.ndarray から\n",
    "s2 = pd.Series(np.array([0,1,2]))\n",
    "print('s2')\n",
    "print(s2)\n",
    "\n",
    "# dict から\n",
    "s3 = pd.Series({0:'boo',1:'foo',2:'woo'})\n",
    "print('s3')\n",
    "print(s3)"
   ]
  },
  {
   "cell_type": "markdown",
   "metadata": {
    "id": "8pthO_wTzdwo"
   },
   "source": [
    "### `DataFrame`\n",
    "\n",
    "`DataFrame` は、以下のように、`list`, `dict`, `numpy.ndarray` などから作成できる。  \n",
    "行のラベルは、`DataFrame` の `index` 引数で指定でき、省略した場合、`0` から番号が `index` となる。列のラベルは `columns` 引数で指定でき、省略した場合は `index` と同様。  \n",
    "`dict` から `DataFrame` を作成すると `key` が `columns` となる。"
   ]
  },
  {
   "cell_type": "code",
   "execution_count": null,
   "metadata": {
    "id": "hXOjqggJzdwp"
   },
   "outputs": [],
   "source": [
    "# 多次元リストからデータフレームの作成\n",
    "df_1 = pd.DataFrame([[0,1,2],\n",
    "                     [3,4,5],\n",
    "                     [6,7,8],\n",
    "                     [9,10,11]],\n",
    "                    index=['i1', 'i2', 'i2', 'i4'],\n",
    "                    columns=['c1','c2','c3'])\n",
    "print(df_1)\n",
    "\n",
    "# numpy.ndarray から DataFrame の作成\n",
    "# index, columns の引数を省略\n",
    "df_2 = pd.DataFrame(np.random.rand(12).reshape(4,3))\n",
    "print(df_2)\n",
    "\n",
    "# dict から DataFrame の作成\n",
    "df_3 = pd.DataFrame({'Name':['Boo', 'Foo', 'Woo'], 'Initial':['B','F','W']},\n",
    "                    index=['b', 'f', 'w'])\n",
    "print(df_3)"
   ]
  },
  {
   "cell_type": "markdown",
   "metadata": {
    "id": "8pthO_wTzdwo"
   },
   "source": [
    "[`pandas.read_csv`](https://pandas.pydata.org/docs/reference/api/pandas.read_csv.html) で csv ファイルを読み込んで `DataFrame` として扱うこともできる。  \n",
    "以下の引数は、省略可だが、指定するとデータの前処理の省略になるのでよい。\n",
    "\n",
    "* `dtype` : 列ごとに型を指定する。\n",
    "* `index_col` : 任意の列を `index` として指定する。\n",
    "* `usecols` : csv ファイルのうち使用する列を指定する。"
   ]
  },
  {
   "cell_type": "code",
   "execution_count": null,
   "metadata": {},
   "outputs": [],
   "source": [
    "df = pd.read_csv('./data/train/datetime.csv', \n",
    "                 dtype={'x': np.float64, 'y': np.int32},\n",
    "                 index_col='datetime', usecols=['x', 'y', 'datetime'])\n",
    "df"
   ]
  },
  {
   "cell_type": "markdown",
   "metadata": {
    "id": "8pthO_wTzdwo"
   },
   "source": [
    "## データの参照・操作"
   ]
  },
  {
   "cell_type": "markdown",
   "metadata": {},
   "source": [
    "以下では [`scikit-learn`](https://scikit-learn.org/stable/index.html) という機械学習のオープンソースライブラリで配布されている csv ファイル(`iris.csv`)を使用して `pandas` の使用方法を説明する。  \n",
    "ここでは、 `scikit-learn` をライブラリとしては使用しないので、インストールは不要。データの中身に関する説明も割愛する。"
   ]
  },
  {
   "cell_type": "code",
   "execution_count": null,
   "metadata": {},
   "outputs": [],
   "source": [
    "# http を含む URL を指定することもできる。\n",
    "df = pd.read_csv(\n",
    "    'https://raw.githubusercontent.com/scikit-learn/scikit-learn/main/sklearn/datasets/data/iris.csv',\n",
    "    names=['sepal_length', 'sepal_width', 'petal_length', 'petal_width', 'target'],\n",
    "    skiprows=1)\n",
    "df"
   ]
  },
  {
   "cell_type": "markdown",
   "metadata": {},
   "source": [
    "### データの参照"
   ]
  },
  {
   "cell_type": "markdown",
   "metadata": {},
   "source": [
    "#### `index`・`columns` の取得"
   ]
  },
  {
   "cell_type": "code",
   "execution_count": null,
   "metadata": {},
   "outputs": [],
   "source": [
    "# DataFrame の index の取得\n",
    "index_ = df.index\n",
    "print(index_)\n",
    "print(index_.size) # 行数"
   ]
  },
  {
   "cell_type": "code",
   "execution_count": null,
   "metadata": {},
   "outputs": [],
   "source": [
    "# DataFrame の column の取得\n",
    "columns_ = df.columns\n",
    "print(columns_)\n",
    "print(columns_.size) # 列数"
   ]
  },
  {
   "cell_type": "markdown",
   "metadata": {},
   "source": [
    "#### 特定のデータの参照"
   ]
  },
  {
   "cell_type": "markdown",
   "metadata": {},
   "source": [
    "任意の行を参照するには、 `loc` プロパティを使用する。`[]`を使用して、`index` を指定し、参照する。"
   ]
  },
  {
   "cell_type": "code",
   "execution_count": null,
   "metadata": {},
   "outputs": [],
   "source": [
    "# 1行目を参照\n",
    "row = df.loc[0]\n",
    "print(row)\n",
    "print(type(row))"
   ]
  },
  {
   "cell_type": "markdown",
   "metadata": {},
   "source": [
    "スライスを使用して複数行指定することもできる。"
   ]
  },
  {
   "cell_type": "code",
   "execution_count": null,
   "metadata": {},
   "outputs": [],
   "source": [
    "# 1から11行目を参照\n",
    "rows = df.loc[0:10]\n",
    "print(rows)\n",
    "print(type(rows))"
   ]
  },
  {
   "cell_type": "markdown",
   "metadata": {},
   "source": [
    "任意の列を参照するには、 \"列名\"がそのままプロパティとして定義されるので、そのプロパティを参照する。"
   ]
  },
  {
   "cell_type": "code",
   "execution_count": null,
   "metadata": {},
   "outputs": [],
   "source": [
    "# sepal_length 列を参照\n",
    "col = df.sepal_length\n",
    "print(col)\n",
    "print(type(col))"
   ]
  },
  {
   "cell_type": "markdown",
   "metadata": {},
   "source": [
    "`df['列名']` でも列を参照できる。"
   ]
  },
  {
   "cell_type": "code",
   "execution_count": null,
   "metadata": {},
   "outputs": [],
   "source": [
    "df['sepal_length']"
   ]
  },
  {
   "cell_type": "markdown",
   "metadata": {},
   "source": [
    "`df[['列名1', '列名2']]` とすると特定の複数列を参照できる。"
   ]
  },
  {
   "cell_type": "code",
   "execution_count": null,
   "metadata": {},
   "outputs": [],
   "source": [
    "df[['sepal_length','sepal_width']]"
   ]
  },
  {
   "cell_type": "markdown",
   "metadata": {},
   "source": [
    "`df.loc[:,'列名']` でも列を参照できる。"
   ]
  },
  {
   "cell_type": "code",
   "execution_count": null,
   "metadata": {},
   "outputs": [],
   "source": [
    "df.loc[:,'sepal_length']"
   ]
  },
  {
   "cell_type": "markdown",
   "metadata": {},
   "source": [
    "[`iloc`](https://pandas.pydata.org/docs/reference/api/pandas.DataFrame.iloc.html)を使うとスライスが使える。`iloc` では、何番目の列という指定の仕方になる。"
   ]
  },
  {
   "cell_type": "code",
   "execution_count": null,
   "metadata": {},
   "outputs": [],
   "source": [
    "df.iloc[:,:-1]"
   ]
  },
  {
   "cell_type": "markdown",
   "metadata": {},
   "source": [
    "`df.loc['行名','列名']` とすると特定の要素を参照できる。"
   ]
  },
  {
   "cell_type": "code",
   "execution_count": null,
   "metadata": {},
   "outputs": [],
   "source": [
    "df.loc[0,'sepal_length']"
   ]
  },
  {
   "cell_type": "code",
   "execution_count": null,
   "metadata": {},
   "outputs": [],
   "source": [
    "df.loc[0:9, ['sepal_length', 'sepal_width']]"
   ]
  },
  {
   "cell_type": "markdown",
   "metadata": {},
   "source": [
    "boolean の配列を渡すことで、条件に当てはまるデータを参照することもできる。"
   ]
  },
  {
   "cell_type": "code",
   "execution_count": null,
   "metadata": {},
   "outputs": [],
   "source": [
    "df.loc[df.sepal_length>5.0, 'sepal_length']"
   ]
  },
  {
   "cell_type": "markdown",
   "metadata": {},
   "source": [
    "[`pandas.DataFrame.head`](https://pandas.pydata.org/docs/reference/api/pandas.DataFrame.head.html) や [`pandas.DataFame.tail`](https://pandas.pydata.org/docs/reference/api/pandas.DataFrame.tail.html) を用いると先頭や末尾から行数を指定して参照することができる。"
   ]
  },
  {
   "cell_type": "code",
   "execution_count": null,
   "metadata": {},
   "outputs": [],
   "source": [
    "df.head(10)"
   ]
  },
  {
   "cell_type": "code",
   "execution_count": null,
   "metadata": {},
   "outputs": [],
   "source": [
    "df.tail(10)"
   ]
  },
  {
   "cell_type": "markdown",
   "metadata": {},
   "source": [
    "### データの操作"
   ]
  },
  {
   "cell_type": "markdown",
   "metadata": {},
   "source": [
    "#### 行・列名の変更"
   ]
  },
  {
   "cell_type": "markdown",
   "metadata": {},
   "source": [
    "`index`, `columns` は [`pandas.DataFrame.rename`](https://pandas.pydata.org/pandas-docs/stable/reference/api/pandas.DataFrame.rename.html) を用いて変更できる。\n",
    "変更した結果を元の `DataFrame` に反映したい場合は、`inplace=True`とする。"
   ]
  },
  {
   "cell_type": "code",
   "execution_count": null,
   "metadata": {},
   "outputs": [],
   "source": [
    "df.rename(index={0:'a'}, columns={'sepal_length':'SEPAL_LENGTH'}, inplace=False)"
   ]
  },
  {
   "cell_type": "markdown",
   "metadata": {},
   "source": [
    "#### 列の追加と削除\n",
    "\n",
    "既存の`DataFrame`に列を追加する場合は、追加したい新たな列名を指定し、値を代入すると新たな列を追加できる。追加するデータの要素数が `DataFrame` の行数と一致している必要がある。"
   ]
  },
  {
   "cell_type": "code",
   "execution_count": null,
   "metadata": {
    "id": "PuskSzeuzdwt"
   },
   "outputs": [],
   "source": [
    "# データフレームに'mycolumn'という列を追加\n",
    "df['random_a'] = np.random.rand(df.index.size)\n",
    "df['random_b'] = np.random.rand(df.index.size)\n",
    "df['random_c'] = np.random.rand(df.index.size)\n",
    "df.head(10)"
   ]
  },
  {
   "cell_type": "markdown",
   "metadata": {
    "id": "ceVHX9CAzdwt"
   },
   "source": [
    "`pandas.DataFrame.drop` を用いると、任意の列を削除できる。  \n",
    "削除した結果を元の `DataFrame` に反映したい場合は、`inplace=True`とする。"
   ]
  },
  {
   "cell_type": "code",
   "execution_count": null,
   "metadata": {
    "id": "AP5v_r0mzdwt"
   },
   "outputs": [],
   "source": [
    "df.drop(columns='random_a', inplace=True)\n",
    "df.drop(columns=['random_b', 'random_c'], inplace=True) # list を渡して複数指定\n",
    "df.head(5)"
   ]
  },
  {
   "cell_type": "markdown",
   "metadata": {
    "id": "EDvoWz9Jzdwt"
   },
   "source": [
    "[`assign()`](https://pandas.pydata.org/pandas-docs/stable/reference/api/pandas.DataFrame.assign.html) を用いると、追加したい列名とその値を指定することで、以下のように新たな列を追加した `DataFrame` を新たに作成することができる。この際、元の `DataFrame` は変更されないことに注意。"
   ]
  },
  {
   "cell_type": "code",
   "execution_count": null,
   "metadata": {
    "id": "VcaAXYXLzdwt"
   },
   "outputs": [],
   "source": [
    "df_2 = df.assign(random=np.random.rand(df.index.size))\n",
    "df_2.head(5)"
   ]
  },
  {
   "cell_type": "markdown",
   "metadata": {
    "id": "jMqxeeuSzdwu"
   },
   "source": [
    "#### 行の追加と削除\n",
    "\n",
    "`pandas.DataFrame.append()` を用いると、`DataFrame` に新たな行を追加できる。\n",
    "`ignore_index=True` の引数を与えることで、追加した `DataFrame` での `index` が自動で割り当てられる。"
   ]
  },
  {
   "cell_type": "code",
   "execution_count": null,
   "metadata": {
    "id": "QywNzaDWzdwu"
   },
   "outputs": [],
   "source": [
    "# 追加する\n",
    "row_1 = pd.DataFrame(dict(zip(df.columns, [[-1, -2]]*df.columns.size)))\n",
    "row_2 = pd.Series([-3]*df.columns.size, index=df.columns)\n",
    "row_3 = pd.Series([-4]*df.columns.size, index=df.columns)\n",
    "\n",
    "# DataFrame に行を追加し新しい DataFrame を作成\n",
    "df_2 = df.append(row_1, ignore_index=True)\n",
    "df_2 = df_2.append([row_2, row_3], ignore_index=True)\n",
    "df_2.tail(5)"
   ]
  },
  {
   "cell_type": "markdown",
   "metadata": {
    "id": "S94YrfPDzdwu"
   },
   "source": [
    "`pandas.DataFrame.drop` を用いると、任意の行も削除できる。"
   ]
  },
  {
   "cell_type": "code",
   "execution_count": null,
   "metadata": {
    "id": "mkVVdm3tzdwu"
   },
   "outputs": [],
   "source": [
    "df_2.drop(index=150, inplace=True)\n",
    "df_2.drop(index=[i for i in range(151,154)], inplace=False)"
   ]
  },
  {
   "cell_type": "markdown",
   "metadata": {
    "id": "eB879o0jzdwv"
   },
   "source": [
    "#### データの並び替え\n",
    "\n",
    "[`pandas.DataFrame.sort_index`](https://pandas.pydata.org/pandas-docs/stable/reference/api/pandas.DataFrame.sort_index.html) で、`DataFrame` の `index` に基づく並び替えができる。また、[`pandas.DataFrame.sort_values`](https://pandas.pydata.org/pandas-docs/stable/reference/api/pandas.DataFrame.sort_values.html) で、任意の列の値による並び替えできる。列は複数指定可能で、指定する順序で優先度が決まる。いずれのメソッドも、`inplace:bool` の引数により、もとの `DataFrame` を上書きするかどうかを操作できる。また、 `ascending:bool` の引数により、昇順(`True`)か降順(`False`)を指定できる。"
   ]
  },
  {
   "cell_type": "code",
   "execution_count": null,
   "metadata": {
    "id": "5s76SXdSzdwv"
   },
   "outputs": [],
   "source": [
    "sorted_df = df.sort_values(['sepal_length', 'sepal_width'], ascending=False)\n",
    "sorted_df.head(10)"
   ]
  },
  {
   "cell_type": "markdown",
   "metadata": {
    "id": "yKHK-Ovwzdww"
   },
   "source": [
    "#### データの連結\n",
    "\n",
    "[`pandas.concat`](https://pandas.pydata.org/docs/reference/api/pandas.concat.html) を用いると、複数の `DataFrame` を連結(concatenate)して新たな `DataFrame` を作成できる。  \n",
    "`ignore_index=True` の引数を与えることで、連結した `DataFrame` での `index` が自動で割り当てられる。\n",
    "`axis` 引数で結合する方向を指定できる。`axis=0 (default)` の場合行方向に連結し、`axis=1` を指定すると、列方向に連結する。"
   ]
  },
  {
   "cell_type": "code",
   "execution_count": null,
   "metadata": {
    "id": "GD8biFblzdww"
   },
   "outputs": [],
   "source": [
    "# 行方向に連結\n",
    "concatenated_df = pd.concat([df[:5], df[-5:]], ignore_index=False, axis=0)\n",
    "concatenated_df.head(10)"
   ]
  },
  {
   "cell_type": "code",
   "execution_count": null,
   "metadata": {
    "id": "k4lyX5iqzdww"
   },
   "outputs": [],
   "source": [
    "# 列方向に連結\n",
    "concatenated_df = pd.concat([df.loc[:, 'sepal_length'], df.loc[:, ['sepal_width']]], axis=1)\n",
    "concatenated_df.head(10)"
   ]
  },
  {
   "cell_type": "markdown",
   "metadata": {
    "id": "qWao6ha4zdww"
   },
   "source": [
    "#### データの結合\n",
    "\n",
    "[`pandas.merge()`](https://pandas.pydata.org/docs/reference/api/pandas.merge.html) を用いて、任意の列の値をキーとして異なるデータフレームを結合することができる。"
   ]
  },
  {
   "cell_type": "code",
   "execution_count": null,
   "metadata": {
    "id": "YtSA3oKDzdww"
   },
   "outputs": [],
   "source": [
    "# sepal_length と petal_length の列からなる3行のデータ\n",
    "df_1 = pd.concat([df.loc[[0,51,101],['sepal_length']], \n",
    "                  df.loc[[0,51,101], ['petal_length']]],\n",
    "                 axis=1)\n",
    "\n",
    "# sepal_width と petal_length 列からなる3行のデータ\n",
    "df_2 = pd.concat([df.loc[[0,51,101],['sepal_width']], \n",
    "                  df.loc[[0,51,101], ['petal_length']]],\n",
    "                 axis=1)\n",
    "\n",
    "# 2つのデータフレームを petal_length 列の値をキーにして結合\n",
    "merged_df = pd.merge(df_1, df_2, on='petal_length')\n",
    "merged_df"
   ]
  },
  {
   "cell_type": "markdown",
   "metadata": {
    "id": "Xn_mkqmPzdww"
   },
   "source": [
    "#### データのグループ化\n",
    "[`pandas.DataFrame.groupby()`](https://pandas.pydata.org/pandas-docs/stable/reference/api/pandas.DataFrame.groupby.html) を使うと、任意の列の値に基づいて、同じ値を持つ行をグルーピングできる。列は複数指定可能。`groupby` メソッドを適用すると `DataFrameGroupBy` が作成され、`DataFrame` と同様の操作を多く適用できる。"
   ]
  },
  {
   "cell_type": "code",
   "execution_count": null,
   "metadata": {
    "id": "hT9XvIdczdwx"
   },
   "outputs": [],
   "source": [
    "# DataFrame の target 列の値で行をグループ化\n",
    "grouped_df = df.groupby('target')"
   ]
  },
  {
   "cell_type": "code",
   "execution_count": null,
   "metadata": {
    "id": "uvh_Oc0yzdwx"
   },
   "outputs": [],
   "source": [
    "# グループごとの先頭5行を表示\n",
    "grouped_df.head(5)"
   ]
  },
  {
   "cell_type": "code",
   "execution_count": null,
   "metadata": {
    "id": "GFiRm7Rjzdwx"
   },
   "outputs": [],
   "source": [
    "# グループごとの各列の値の平均値を算出\n",
    "grouped_df.mean()"
   ]
  },
  {
   "cell_type": "markdown",
   "metadata": {},
   "source": [
    "#### 時系列データの扱い"
   ]
  },
  {
   "cell_type": "markdown",
   "metadata": {},
   "source": [
    "ここでは、別に用意した csv ファイルを用いて説明する。"
   ]
  },
  {
   "cell_type": "code",
   "execution_count": null,
   "metadata": {},
   "outputs": [],
   "source": [
    "df = pd.read_csv('./data/train/datetime.csv')\n",
    "df"
   ]
  },
  {
   "cell_type": "markdown",
   "metadata": {},
   "source": [
    "ここで用意した csv ファイルを `pandas.read_csv` で読み込むと `datetime` 列は以下のように、ただのオブジェクトとして読み込まれる。"
   ]
  },
  {
   "cell_type": "code",
   "execution_count": null,
   "metadata": {},
   "outputs": [],
   "source": [
    "print(df.datetime.dtype)"
   ]
  },
  {
   "cell_type": "markdown",
   "metadata": {},
   "source": [
    "時刻のオブジェクトとして扱うには、[`pandas.to_datetime`](https://pandas.pydata.org/docs/reference/api/pandas.to_datetime.html) を用いる。"
   ]
  },
  {
   "cell_type": "code",
   "execution_count": null,
   "metadata": {},
   "outputs": [],
   "source": [
    "df['datetime'] = pd.to_datetime(df.datetime)\n",
    "print(df.datetime.dtype)"
   ]
  },
  {
   "cell_type": "markdown",
   "metadata": {},
   "source": [
    "`read_csv()`の引数`parse_date`にカラム名を指定すると`to_datetime()`の処理を省略できる。"
   ]
  },
  {
   "cell_type": "code",
   "execution_count": null,
   "metadata": {},
   "outputs": [],
   "source": [
    "df = pd.read_csv('./data/train/datetime.csv',\n",
    "                 parse_dates=['datetime'])\n",
    "df.datetime"
   ]
  },
  {
   "cell_type": "markdown",
   "metadata": {},
   "source": [
    "`to_datetime()`の`format`指定"
   ]
  },
  {
   "cell_type": "code",
   "execution_count": null,
   "metadata": {},
   "outputs": [],
   "source": [
    "df['日時'] = pd.to_datetime(df['日時'], format='%Y年%m月%d日 %H時%M分%S秒')\n",
    "df['日時']"
   ]
  },
  {
   "cell_type": "markdown",
   "metadata": {},
   "source": [
    "timezoneの指定"
   ]
  },
  {
   "cell_type": "code",
   "execution_count": null,
   "metadata": {},
   "outputs": [],
   "source": [
    "df['日時'] = df['日時'].dt.tz_localize('Asia/Tokyo')\n",
    "df['日時']"
   ]
  },
  {
   "cell_type": "markdown",
   "metadata": {},
   "source": [
    "`str`型で出力形式を指定"
   ]
  },
  {
   "cell_type": "code",
   "execution_count": null,
   "metadata": {},
   "outputs": [],
   "source": [
    "df['datetime'].dt.strftime('%Y年%m月%d日 %H時%M分%S秒')"
   ]
  },
  {
   "cell_type": "markdown",
   "metadata": {},
   "source": [
    "UNIX時間 (エポック秒) の取得\n",
    "\n",
    "`astype(int)`で`int`型にできる"
   ]
  },
  {
   "cell_type": "code",
   "execution_count": null,
   "metadata": {},
   "outputs": [],
   "source": [
    "df['datetime'].map(pd.Timestamp.timestamp).astype(int) # unit of second"
   ]
  },
  {
   "cell_type": "code",
   "execution_count": null,
   "metadata": {},
   "outputs": [],
   "source": [
    "pd.Series([value.value for value in df['datetime']]) # unit of nano-second"
   ]
  },
  {
   "cell_type": "markdown",
   "metadata": {},
   "source": [
    "[`datetime.datetime`](https://docs.python.org/ja/3/library/datetime.html#datetime.datetime)型に変換"
   ]
  },
  {
   "cell_type": "code",
   "execution_count": null,
   "metadata": {},
   "outputs": [],
   "source": [
    "df['datetime'].dt.to_pydatetime()"
   ]
  },
  {
   "cell_type": "markdown",
   "metadata": {},
   "source": [
    "[`between_time`](https://pandas.pydata.org/pandas-docs/stable/reference/api/pandas.DataFrame.between_time.html) で「朝7時から8時の間」といったデータを抽出できる。"
   ]
  },
  {
   "cell_type": "code",
   "execution_count": null,
   "metadata": {},
   "outputs": [],
   "source": [
    "df.set_index('datetime', inplace=True)"
   ]
  },
  {
   "cell_type": "code",
   "execution_count": null,
   "metadata": {},
   "outputs": [],
   "source": [
    "df.between_time('0:15', '7:45')"
   ]
  },
  {
   "cell_type": "markdown",
   "metadata": {
    "id": "BwyOZphMIcev"
   },
   "source": [
    "# Matplotlib\n",
    "\n",
    "[Matplotlib](https://matplotlib.org/)は、グラフを可視化するためのモジュールを含むライブラリ。以下では、 Matplotlib を使った、グラフの基本的な描画について説明する。\n",
    "\n",
    "Matoplotlibライブラリを使用するには、まず `matplotlib` をインポートする。ここでは、基本的なグラフを描画するための [`matplotlib.pyplot`](https://matplotlib.org/stable/api/_as_gen/matplotlib.pyplot.html) モジュールをインポートする。  \n",
    "慣例として、このモジュールを `plt` と別名をつけてコードの中で使用する。"
   ]
  },
  {
   "cell_type": "code",
   "execution_count": null,
   "metadata": {
    "id": "7uuTfFP_Icev"
   },
   "outputs": [],
   "source": [
    "from matplotlib import pyplot as plt"
   ]
  },
  {
   "cell_type": "markdown",
   "metadata": {
    "id": "2sX8ulhyIcew"
   },
   "source": [
    "## 線グラフ\n",
    "\n",
    "`pyplot` モジュールの [`plot()`](https://matplotlib.org/stable/api/_as_gen/matplotlib.pyplot.plot.html) メソッドを用いて、リストの要素の数値を縦軸の値としてグラフを描画する。  \n",
    "`plot()` メソッドの引数に `list` をひとつだけ与えると、リストの要素の数値を縦軸の値とし、 `list` の各要素のインデックスを横軸の値としてグラフを描画する。"
   ]
  },
  {
   "cell_type": "code",
   "execution_count": null,
   "metadata": {
    "id": "hjl2NpSNIcew"
   },
   "outputs": [],
   "source": [
    "y = [ 0, 1, 4, 9, 16 ] # 縦軸\n",
    "\n",
    "plt.plot(y)\n",
    "plt.show()"
   ]
  },
  {
   "cell_type": "markdown",
   "metadata": {
    "id": "KXUkTediIcew"
   },
   "source": [
    "`plot()` メソッドの引数に、 `list` をふたつ与えると、横軸、縦軸、両方の値としてを指定することができる。"
   ]
  },
  {
   "cell_type": "code",
   "execution_count": null,
   "metadata": {
    "id": "sX-b-FerIcew"
   },
   "outputs": [],
   "source": [
    "x =[ 0, 1, 2, 3, 4 ] # 横軸\n",
    "\n",
    "plt.plot(x, y)\n",
    "plt.show()"
   ]
  },
  {
   "cell_type": "markdown",
   "metadata": {
    "id": "LIJsTPTOIcex"
   },
   "source": [
    "`list` 以外にも、 array-like なオブジェクトであれば、引数に指定できる。例えば `numpy.ndarray` や `pandas.Series` など。"
   ]
  },
  {
   "cell_type": "code",
   "execution_count": null,
   "metadata": {},
   "outputs": [],
   "source": [
    "x_np_ary = np.array(x)\n",
    "y_np_ary = np.array(y)\n",
    "\n",
    "plt.plot(x_np_ary, y_np_ary)\n",
    "plt.show()"
   ]
  },
  {
   "cell_type": "code",
   "execution_count": null,
   "metadata": {},
   "outputs": [],
   "source": [
    "x_pd_ser = pd.Series(data=x)\n",
    "y_pd_ser = pd.Series(data=y)\n",
    "\n",
    "plt.plot(x_pd_ser, y_pd_ser)\n",
    "plt.show()"
   ]
  },
  {
   "cell_type": "markdown",
   "metadata": {
    "id": "pGVcqFtgIcex"
   },
   "source": [
    "以下のようにグラフを複数まとめて表示することもできる。複数のグラフを表示すると、データごとに異なる色が自動で割り当てられる。"
   ]
  },
  {
   "cell_type": "code",
   "execution_count": null,
   "metadata": {
    "id": "_TIVk2-yIcex"
   },
   "outputs": [],
   "source": [
    "y_1 =[0, 1, 2, 3, 4]\n",
    "y_2 =[0, 1, 4, 9, 16]\n",
    "\n",
    "plt.plot(x, y_1)\n",
    "plt.plot(x, y_2)\n",
    "plt.show()"
   ]
  },
  {
   "cell_type": "markdown",
   "metadata": {
    "id": "KwOBjJi7Icey"
   },
   "source": [
    "`plot()` メソッドではグラフの線の色、形状、データポイントのマーカの種類を、それぞれ以下のように `linestyle`, `color`, `marker` 引数で指定して変更できる。  \n",
    "引数として指定可能な値は、以下を参照のこと。\n",
    "\n",
    "- [linestyle](https://matplotlib.org/stable/api/_as_gen/matplotlib.lines.Line2D.html#matplotlib.lines.Line2D.set_linestyle)\n",
    "- [color](https://matplotlib.org/stable/api/colors_api.html)\n",
    "- [marker](https://matplotlib.org/stable/api/markers_api.html)"
   ]
  },
  {
   "cell_type": "code",
   "execution_count": null,
   "metadata": {
    "id": "qvXdrinHIcey"
   },
   "outputs": [],
   "source": [
    "plt.plot(x, y_1, linestyle='--', color='blue', marker='o') \n",
    "plt.plot(x, y_2, linestyle=':', color='orange', marker='*')\n",
    "plt.show()"
   ]
  },
  {
   "cell_type": "markdown",
   "metadata": {
    "id": "rPvnZ5jgIcey"
   },
   "source": [
    "`plot()` メソッドの `label` 引数に各データの凡例を文字列として渡し、[`legend()`](https://matplotlib.org/stable/api/_as_gen/matplotlib.pyplot.legend.html) メソッドを実行することで、グラフ内に凡例を表示できる。  \n",
    "`legend()` メソッドの `loc` の引数で凡例を表示する位置を指定できる。`loc='best'`とすると、最適な位置に自動で配置される。"
   ]
  },
  {
   "cell_type": "code",
   "execution_count": null,
   "metadata": {
    "id": "rqtv4fpmIcey"
   },
   "outputs": [],
   "source": [
    "plt.plot(x, y_1, linestyle='--', color='blue', marker='o', label='linear')\n",
    "plt.plot(x, y_2, linestyle=':', color='orange', marker='*', label='quadric')\n",
    "plt.legend(loc='best')\n",
    "plt.show()"
   ]
  },
  {
   "cell_type": "markdown",
   "metadata": {
    "id": "Voj86Q7jIcez"
   },
   "source": [
    "グラフのタイトルや軸ラベルの表示は、[`title()`](https://matplotlib.org/stable/api/_as_gen/matplotlib.pyplot.title.html#matplotlib.pyplot.title), [`xlabel()`](https://matplotlib.org/stable/api/_as_gen/matplotlib.pyplot.xlabel.html#matplotlib.pyplot.xlabel), [`ylabel()`](https://matplotlib.org/stable/api/_as_gen/matplotlib.pyplot.ylabel.html#matplotlib.pyplot.ylabel)メソッドを用いる。  \n",
    "また、[`grid()`](https://matplotlib.org/stable/api/_as_gen/matplotlib.pyplot.grid.html) メソッドを用いるとグリッドを表示できる。"
   ]
  },
  {
   "cell_type": "code",
   "execution_count": null,
   "metadata": {
    "id": "K8VemQCgIcez"
   },
   "outputs": [],
   "source": [
    "plt.plot(x, y_1, linestyle='--', color='blue', marker='o', label='linear')\n",
    "plt.plot(x, y_2, linestyle=':', color='orange', marker='*', label='quadric')\n",
    "plt.legend(loc='best')\n",
    "\n",
    "plt.title('Linear and Quadric') # タイトル\n",
    "plt.xlabel('horizontal') # 横軸のラベル\n",
    "plt.ylabel('vertical') # 縦軸のラベル\n",
    "plt.grid(True) #グリッド\n",
    "plt.show()"
   ]
  },
  {
   "cell_type": "markdown",
   "metadata": {
    "id": "ECTxARmlIcez"
   },
   "source": [
    "グラフを描画するときのプロット数を増やすことで任意の曲線のグラフを作成することもできる。  \n",
    "以下では、`numpy` モジュールの `arange()` メソッドを用いて、$-\\pi$ から $\\pi$ の範囲を `0.1` 刻みで横軸の値を配列として準備する。  \n",
    "それら横軸の値に対して、`numpy` モジュールの [`cos()`](https://numpy.org/doc/stable/reference/generated/numpy.cos.html) メソッドと [`sin()`](https://numpy.org/doc/stable/reference/generated/numpy.sin.html) メソッドを用いて、縦軸の値をそれぞれ準備し、余弦曲線と正弦曲線を描画する。"
   ]
  },
  {
   "cell_type": "code",
   "execution_count": null,
   "metadata": {
    "id": "TGvapcSVIcez"
   },
   "outputs": [],
   "source": [
    "#　グラフの横軸の値となる配列\n",
    "x = np.arange(-np.pi, np.pi, 0.1)\n",
    "\n",
    "# 上記配列を cos(), sin() のメソッドに渡し, 縦軸の値として描画\n",
    "plt.plot(x, np.cos(x))\n",
    "plt.plot(x, np.sin(x))\n",
    "\n",
    "plt.title('trigonal function curves')  # グラフのタイトル\n",
    "plt.xlabel('x') # 横軸のラベル\n",
    "plt.ylabel('y') # 縦軸のラベル\n",
    "plt.grid(True) #グリッド\n",
    "plt.show()"
   ]
  },
  {
   "cell_type": "markdown",
   "metadata": {
    "id": "9i3eTmySIcez"
   },
   "source": [
    "プロットの数を少なくすると、曲線は、直線のつなぎ合わせで描画されていることがわかる。"
   ]
  },
  {
   "cell_type": "code",
   "execution_count": null,
   "metadata": {
    "id": "DvsU28SCIcez"
   },
   "outputs": [],
   "source": [
    "x = np.arange(-np.pi, np.pi, 0.5)\n",
    "plt.plot(x, np.cos(x))\n",
    "plt.plot(x,np.sin(x))\n",
    "plt.title('trigonal function curves')\n",
    "plt.xlabel('x')\n",
    "plt.ylabel('y')\n",
    "plt.grid(True)\n",
    "plt.show()"
   ]
  },
  {
   "cell_type": "markdown",
   "metadata": {
    "id": "8XSrp8iMIce2"
   },
   "source": [
    "## 散布図\n",
    "\n",
    "`pyplot` モジュールの [`scatter()`](https://matplotlib.org/stable/api/_as_gen/matplotlib.pyplot.scatter.html) メソッドを用いて、散布図を描画できる。\n",
    "\n",
    "\n",
    "以下では、生成した20個の乱数を要素とする配列 `x`, `y` の各要素の値の組を点としてプロットした散布図を表示する。  \n",
    "プロットする点のマーカの色や形状は、線グラフの時と同様に、 `color`, `marker` 引数で指定して変更できる。  \n",
    "加えて、`s`, `alpha` 引数で、それぞれマーカの大きさと透明度を指定することができる。"
   ]
  },
  {
   "cell_type": "code",
   "execution_count": null,
   "metadata": {
    "id": "6yu1oAKyIce2"
   },
   "outputs": [],
   "source": [
    "x = np.random.rand(20)\n",
    "y = np.random.rand(20)\n",
    "\n",
    "# scatter メソッドで散布図を描画\n",
    "plt.scatter(x, y, s=100, alpha=0.5)\n",
    "plt.show()"
   ]
  },
  {
   "cell_type": "markdown",
   "metadata": {
    "id": "zTP0MRHPIce3"
   },
   "source": [
    "以下のように、`plot()` メソッドを用いても同様の散布図を表示することができる。  \n",
    "具体的には、`plot()`メソッドの第3引数`fmt`にプロットする点のマーカの形状を指定することで実現できる。"
   ]
  },
  {
   "cell_type": "code",
   "execution_count": null,
   "metadata": {
    "id": "eNKwverTIce3"
   },
   "outputs": [],
   "source": [
    "x = np.random.rand(20)\n",
    "y = np.random.rand(20)\n",
    "\n",
    "plt.plot(x, y, 'o', ms=10, alpha=0.5)\n",
    "plt.show()"
   ]
  },
  {
   "cell_type": "markdown",
   "metadata": {
    "id": "BkHBFmq3Ice4"
   },
   "source": [
    "## 棒グラフ\n",
    "\n",
    "棒グラフは、`pyplot` モジュールの [`bar()`](https://matplotlib.org/stable/api/_as_gen/matplotlib.pyplot.bar.html#matplotlib.pyplot.bar) メソッドを用いて描画できる。  \n",
    "\n",
    "以下では、生成した10個の乱数を要素とする配列 `y` の各要素の値を縦軸の値とした棒グラフを表示する。  \n",
    "ランダムに生成した10個の要素からなる配列 `y` の各要素の値を縦の棒グラフで表示しています。  \n",
    "また、横軸の値は、`numpy` モジュールの `arange()` メソッドを用いて、`1` から `10` の整数とする。"
   ]
  },
  {
   "cell_type": "code",
   "execution_count": null,
   "metadata": {
    "id": "TYSDB9n8Ice4"
   },
   "outputs": [],
   "source": [
    "x = np.arange(1, 11, 1)\n",
    "y = np.random.rand(len(x))\n",
    "\n",
    "# bar メソッドで棒グラフを描画\n",
    "plt.bar(x, y)\n",
    "plt.show()"
   ]
  },
  {
   "cell_type": "markdown",
   "metadata": {
    "id": "eyvFJvsXIce5"
   },
   "source": [
    "## ヒストグラム\n",
    "\n",
    "`pyplot` モジュールの [`hist()`](https://matplotlib.org/stable/api/_as_gen/matplotlib.pyplot.hist.html) メソッドを用いて、ヒストグラムは描画できる。\n",
    "\n",
    "以下では、[`numpy.random.randn()`](https://numpy.org/doc/stable/reference/random/generated/numpy.random.randn.html) メソッドを用いて、正規分布に従った1000個の乱数を要素とする配列を用意し、ヒストグラムとして表示する。  \n",
    "`hist()` メソッドの `bins` 引数でヒストグラムのビンの数を指定する。"
   ]
  },
  {
   "cell_type": "code",
   "execution_count": null,
   "metadata": {
    "id": "ORHa34R8Ice5"
   },
   "outputs": [],
   "source": [
    "# 正規分布に従った1000個の乱数を要素とする配列 \n",
    "d = np.random.randn(1000)\n",
    "\n",
    "# hist メソッドでヒストグラムを描画\n",
    "plt.hist(d, bins=20)\n",
    "plt.show()"
   ]
  },
  {
   "cell_type": "markdown",
   "metadata": {},
   "source": [
    "`bins='auto'` とするとデータに合わせていい感じにビン数が設定されて表示される。"
   ]
  },
  {
   "cell_type": "code",
   "execution_count": null,
   "metadata": {
    "id": "ORHa34R8Ice5"
   },
   "outputs": [],
   "source": [
    "plt.hist(d, bins='auto')\n",
    "plt.show()"
   ]
  },
  {
   "cell_type": "markdown",
   "metadata": {
    "id": "air8dZH_Ice6"
   },
   "source": [
    "## ヒートマップ\n",
    "\n",
    "3次元の情報を2次元平面で表現する方法の一つにヒートマップがある。  \n",
    "ヒートマップでは、3次元の情報のうち2つの次元の情報をそれぞれ2次元平面の縦軸と横軸で表し、残りの1つの次元を色の濃淡や種類で表す。  \n",
    "例えば、部屋の温度情報として、部屋を上からみたときの平面上の位置の情報とその位置での部屋の温度がある場合、ヒートマップはこの情報の有効な可視化の方法である。\n",
    "\n",
    "`pyplot` モジュールの [`imshow()`](https://matplotlib.org/stable/api/_as_gen/matplotlib.pyplot.imshow.html) メソッドを用いて、ヒートマップを描画できる。  \n",
    "`colorbar()` メソッドは、行列の値と色の濃淡の対応(3つ目の次元の軸情報)を表示する。"
   ]
  },
  {
   "cell_type": "code",
   "execution_count": null,
   "metadata": {
    "id": "_6TSb1uXIce6"
   },
   "outputs": [],
   "source": [
    "# 10行10列のランダム要素からなる行列\n",
    "ary = np.random.rand(100)\n",
    "ary = ary.reshape(10, 10)\n",
    "\n",
    "\n",
    "# imshowメソッドでヒートマップを描画\n",
    "image = plt.imshow(ary, cmap='plasma')\n",
    "plt.colorbar(image)\n",
    "plt.show()"
   ]
  },
  {
   "cell_type": "markdown",
   "metadata": {
    "id": "l5hgaWVmIce6"
   },
   "source": [
    "## グラフの画像ファイル出力\n",
    "**`savefig()`** メソッドを用いると、以下のように作成したグラフを画像としてファイルに保存することができます。"
   ]
  },
  {
   "cell_type": "code",
   "execution_count": null,
   "metadata": {
    "id": "g0z6klhzIce7"
   },
   "outputs": [],
   "source": [
    "x = np.arange(-np.pi, np.pi, 0.1)\n",
    "plt.plot(x, np.cos(x), label='cos')\n",
    "plt.plot(x, np.sin(x), label='sin')\n",
    "plt.legend()\n",
    "plt.title('trigonal function curves')  \n",
    "plt.xlabel('x') \n",
    "plt.ylabel('y') \n",
    "plt.grid(True)\n",
    "\n",
    "# savefig() メソッドでグラフを画像保存\n",
    "plt.savefig('./out/trigonal.png')"
   ]
  },
  {
   "cell_type": "markdown",
   "metadata": {},
   "source": [
    "## チートシート\n",
    "\n",
    "ここまで紹介してきたのは、`matplotlib` ライブラリの機能のほんの一部。  \n",
    "あんなこと、こんなことができないかは、公式ドキュメントを探ってみること。  \n",
    "`matplotlib` が公開している[チートシート](https://github.com/matplotlib/cheatsheets)が調べごとの足がかりになるので参考にすると良い。"
   ]
  }
 ],
 "metadata": {
  "kernelspec": {
   "display_name": "Python 3",
   "language": "python",
   "name": "python3"
  },
  "language_info": {
   "codemirror_mode": {
    "name": "ipython",
    "version": 3
   },
   "file_extension": ".py",
   "mimetype": "text/x-python",
   "name": "python",
   "nbconvert_exporter": "python",
   "pygments_lexer": "ipython3",
   "version": "3.7.8"
  },
  "toc-autonumbering": true,
  "toc-showmarkdowntxt": false
 },
 "nbformat": 4,
 "nbformat_minor": 4
}
