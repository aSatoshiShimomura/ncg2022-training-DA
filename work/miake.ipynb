{
 "cells": [
  {
   "cell_type": "markdown",
   "id": "f411bc08-e1ae-48d7-911b-c7260e888b61",
   "metadata": {
    "tags": []
   },
   "source": [
    "# 三明のノートブック\n",
    "## 分析内容\n",
    "視聴時間毎の文末における「草」の頻度分析"
   ]
  },
  {
   "cell_type": "markdown",
   "id": "1fd0a063-7d18-43db-a1bb-7ea4979b14c4",
   "metadata": {},
   "source": [
    "## 前処理\n",
    "### 汎用的なものをimport"
   ]
  },
  {
   "cell_type": "code",
   "execution_count": 1,
   "id": "f634ed7c-dfbb-4af1-85be-d41314bc5f09",
   "metadata": {},
   "outputs": [],
   "source": [
    "import os\n",
    "import pandas as pd\n",
    "import numpy as np\n",
    "from matplotlib import pyplot as plt\n",
    "import datetime as dt"
   ]
  },
  {
   "cell_type": "markdown",
   "id": "b61f9337-66e1-42b9-9ff2-08a1ec86d113",
   "metadata": {},
   "source": [
    "### データの読み込み"
   ]
  },
  {
   "cell_type": "code",
   "execution_count": 2,
   "id": "49d330da-4ef7-44a5-b5c1-1e87fe3fdbd9",
   "metadata": {},
   "outputs": [],
   "source": [
    "# タコピーのコメントの読み込み\n",
    "df_comment = pd.read_csv(\"./data/comments_takopi.csv\", header=0, index_col=None, parse_dates=[\"inserted_at\"])"
   ]
  },
  {
   "cell_type": "markdown",
   "id": "8c33f124-09e1-415a-b961-e9a1cae6b850",
   "metadata": {},
   "source": [
    "### 時間とコメントのみの分析"
   ]
  },
  {
   "cell_type": "code",
   "execution_count": 3,
   "id": "7db1b81c-99e2-4a42-b993-11c516714357",
   "metadata": {},
   "outputs": [
    {
     "data": {
      "text/html": [
       "<div>\n",
       "<style scoped>\n",
       "    .dataframe tbody tr th:only-of-type {\n",
       "        vertical-align: middle;\n",
       "    }\n",
       "\n",
       "    .dataframe tbody tr th {\n",
       "        vertical-align: top;\n",
       "    }\n",
       "\n",
       "    .dataframe thead th {\n",
       "        text-align: right;\n",
       "    }\n",
       "</style>\n",
       "<table border=\"1\" class=\"dataframe\">\n",
       "  <thead>\n",
       "    <tr style=\"text-align: right;\">\n",
       "      <th></th>\n",
       "      <th>message</th>\n",
       "    </tr>\n",
       "    <tr>\n",
       "      <th>inserted_at</th>\n",
       "      <th></th>\n",
       "    </tr>\n",
       "  </thead>\n",
       "  <tbody>\n",
       "    <tr>\n",
       "      <th>2021-12-10 00:01:22+09:00</th>\n",
       "      <td>一緒に学校って…友達にみられるかもよ…</td>\n",
       "    </tr>\n",
       "    <tr>\n",
       "      <th>2021-12-10 00:01:22+09:00</th>\n",
       "      <td>1コメ</td>\n",
       "    </tr>\n",
       "    <tr>\n",
       "      <th>2021-12-10 00:01:25+09:00</th>\n",
       "      <td>すごいのがはじまった！金曜日激戦に。。</td>\n",
       "    </tr>\n",
       "    <tr>\n",
       "      <th>2021-12-10 00:01:29+09:00</th>\n",
       "      <td>シンプルに好き</td>\n",
       "    </tr>\n",
       "    <tr>\n",
       "      <th>2021-12-10 00:02:13+09:00</th>\n",
       "      <td>面白いけど流石にエグすぎるかも...!</td>\n",
       "    </tr>\n",
       "    <tr>\n",
       "      <th>...</th>\n",
       "      <td>...</td>\n",
       "    </tr>\n",
       "    <tr>\n",
       "      <th>2022-03-31 19:12:58+09:00</th>\n",
       "      <td>明日更新ないんだな。\\n毎週続きが気になってたなぁ。</td>\n",
       "    </tr>\n",
       "    <tr>\n",
       "      <th>2022-03-31 19:19:27+09:00</th>\n",
       "      <td>過去の過ちを認めて急に懺悔・謝罪してくる親がリアルすぎる。そんなの親の勝手な自己満足だし、受...</td>\n",
       "    </tr>\n",
       "    <tr>\n",
       "      <th>2022-03-31 19:34:35+09:00</th>\n",
       "      <td>\"いじめ・虐待\"の部分にフォーカスして読んでた人は、この結末にカタルシスを得られないから「納...</td>\n",
       "    </tr>\n",
       "    <tr>\n",
       "      <th>2022-03-31 19:50:13+09:00</th>\n",
       "      <td>完走ありがとうございました。\\nお疲れ様でした。</td>\n",
       "    </tr>\n",
       "    <tr>\n",
       "      <th>2022-03-31 20:07:10+09:00</th>\n",
       "      <td>今まではタコピーが唯一の癒しやったけど、親父のとこに行くとこで少しイライラというか「は？」っ...</td>\n",
       "    </tr>\n",
       "  </tbody>\n",
       "</table>\n",
       "<p>84241 rows × 1 columns</p>\n",
       "</div>"
      ],
      "text/plain": [
       "                                                                     message\n",
       "inserted_at                                                                 \n",
       "2021-12-10 00:01:22+09:00                                一緒に学校って…友達にみられるかもよ…\n",
       "2021-12-10 00:01:22+09:00                                                1コメ\n",
       "2021-12-10 00:01:25+09:00                                すごいのがはじまった！金曜日激戦に。。\n",
       "2021-12-10 00:01:29+09:00                                            シンプルに好き\n",
       "2021-12-10 00:02:13+09:00                                面白いけど流石にエグすぎるかも...!\n",
       "...                                                                      ...\n",
       "2022-03-31 19:12:58+09:00                         明日更新ないんだな。\\n毎週続きが気になってたなぁ。\n",
       "2022-03-31 19:19:27+09:00  過去の過ちを認めて急に懺悔・謝罪してくる親がリアルすぎる。そんなの親の勝手な自己満足だし、受...\n",
       "2022-03-31 19:34:35+09:00  \"いじめ・虐待\"の部分にフォーカスして読んでた人は、この結末にカタルシスを得られないから「納...\n",
       "2022-03-31 19:50:13+09:00                           完走ありがとうございました。\\nお疲れ様でした。\n",
       "2022-03-31 20:07:10+09:00  今まではタコピーが唯一の癒しやったけど、親父のとこに行くとこで少しイライラというか「は？」っ...\n",
       "\n",
       "[84241 rows x 1 columns]"
      ]
     },
     "execution_count": 3,
     "metadata": {},
     "output_type": "execute_result"
    }
   ],
   "source": [
    "# データの切り出し\n",
    "df_com_time  = df_comment[[\"inserted_at\",\"message\"]].copy()\n",
    "df_com_time[\"inserted_at\"] = pd.to_datetime(df_com_time[\"inserted_at\"],utc=True)\n",
    "# 日本時間にする\n",
    "df_com_time.index = pd.DatetimeIndex(df_com_time.inserted_at, name=\"inserted_at\")\n",
    "df_com_time.index = df_com_time.index.tz_convert(\"Asia/Tokyo\")\n",
    "df_comment_time = df_com_time[[\"message\"]].copy()\n",
    "df_comment_time\n",
    "\n",
    "#df_com_time.inserted_at = df_com_time.index\n",
    "# df_com_time.index = df_com_time.index.strftime('%Y年%m月%d日 %H時%M分%S秒') # 日本時間に変換できているかの確認用\n",
    "# df_comment_time = df_com_time.reset_index(drop=True).copy()"
   ]
  },
  {
   "cell_type": "markdown",
   "id": "61a649d5-a0e6-4bf9-b98e-b8c7c6c46670",
   "metadata": {},
   "source": [
    "### 文末が特定のワードのものを抜き出す  \n",
    "抜き出すワード  \n",
    "- 草\n",
    "- w\n",
    "- 笑"
   ]
  },
  {
   "cell_type": "code",
   "execution_count": 4,
   "id": "5757309f-225e-4034-9d92-4ffa61498967",
   "metadata": {},
   "outputs": [
    {
     "data": {
      "text/html": [
       "<div>\n",
       "<style scoped>\n",
       "    .dataframe tbody tr th:only-of-type {\n",
       "        vertical-align: middle;\n",
       "    }\n",
       "\n",
       "    .dataframe tbody tr th {\n",
       "        vertical-align: top;\n",
       "    }\n",
       "\n",
       "    .dataframe thead th {\n",
       "        text-align: right;\n",
       "    }\n",
       "</style>\n",
       "<table border=\"1\" class=\"dataframe\">\n",
       "  <thead>\n",
       "    <tr style=\"text-align: right;\">\n",
       "      <th></th>\n",
       "      <th>message</th>\n",
       "    </tr>\n",
       "    <tr>\n",
       "      <th>inserted_at</th>\n",
       "      <th></th>\n",
       "    </tr>\n",
       "  </thead>\n",
       "  <tbody>\n",
       "    <tr>\n",
       "      <th>2021-12-10 00:06:05+09:00</th>\n",
       "      <td>可愛いおもえもんで草</td>\n",
       "    </tr>\n",
       "    <tr>\n",
       "      <th>2021-12-10 00:13:53+09:00</th>\n",
       "      <td>人のもので死ぬな笑</td>\n",
       "    </tr>\n",
       "    <tr>\n",
       "      <th>2021-12-10 00:26:53+09:00</th>\n",
       "      <td>タコピーリベンジャーズwwwww</td>\n",
       "    </tr>\n",
       "    <tr>\n",
       "      <th>2021-12-10 00:32:07+09:00</th>\n",
       "      <td>面白い、けど少年というか子供向けじゃないなwww</td>\n",
       "    </tr>\n",
       "    <tr>\n",
       "      <th>2021-12-10 00:41:16+09:00</th>\n",
       "      <td>重すぎだろw</td>\n",
       "    </tr>\n",
       "    <tr>\n",
       "      <th>...</th>\n",
       "      <td>...</td>\n",
       "    </tr>\n",
       "    <tr>\n",
       "      <th>2022-03-31 11:23:00+09:00</th>\n",
       "      <td>この漫画の親はまともな奴おらんのかw</td>\n",
       "    </tr>\n",
       "    <tr>\n",
       "      <th>2022-03-31 13:53:30+09:00</th>\n",
       "      <td>あたしイッヌ飼ってるんでメンタルクソほどやられた。まりな、さすがにイッヌを巻き込むのは違くな...</td>\n",
       "    </tr>\n",
       "    <tr>\n",
       "      <th>2022-03-31 13:58:59+09:00</th>\n",
       "      <td>東着いてくんのきっしょ！笑笑まりなは永久ほぞーん(*-`ω´-)９ ﾖｯｼｬｧ!!笑笑</td>\n",
       "    </tr>\n",
       "    <tr>\n",
       "      <th>2022-03-31 14:40:20+09:00</th>\n",
       "      <td>東くん！！！笑</td>\n",
       "    </tr>\n",
       "    <tr>\n",
       "      <th>2022-03-31 16:29:42+09:00</th>\n",
       "      <td>面白んだけど辛いわwww</td>\n",
       "    </tr>\n",
       "  </tbody>\n",
       "</table>\n",
       "<p>1290 rows × 1 columns</p>\n",
       "</div>"
      ],
      "text/plain": [
       "                                                                     message\n",
       "inserted_at                                                                 \n",
       "2021-12-10 00:06:05+09:00                                         可愛いおもえもんで草\n",
       "2021-12-10 00:13:53+09:00                                          人のもので死ぬな笑\n",
       "2021-12-10 00:26:53+09:00                                   タコピーリベンジャーズwwwww\n",
       "2021-12-10 00:32:07+09:00                           面白い、けど少年というか子供向けじゃないなwww\n",
       "2021-12-10 00:41:16+09:00                                             重すぎだろw\n",
       "...                                                                      ...\n",
       "2022-03-31 11:23:00+09:00                                 この漫画の親はまともな奴おらんのかw\n",
       "2022-03-31 13:53:30+09:00  あたしイッヌ飼ってるんでメンタルクソほどやられた。まりな、さすがにイッヌを巻き込むのは違くな...\n",
       "2022-03-31 13:58:59+09:00        東着いてくんのきっしょ！笑笑まりなは永久ほぞーん(*-`ω´-)９ ﾖｯｼｬｧ!!笑笑\n",
       "2022-03-31 14:40:20+09:00                                            東くん！！！笑\n",
       "2022-03-31 16:29:42+09:00                                       面白んだけど辛いわwww\n",
       "\n",
       "[1290 rows x 1 columns]"
      ]
     },
     "execution_count": 4,
     "metadata": {},
     "output_type": "execute_result"
    }
   ],
   "source": [
    "df_only_target = df_comment_time[df_comment_time[\"message\"].str.match('.*(草|w|笑)$')]\n",
    "df_only_target"
   ]
  },
  {
   "cell_type": "markdown",
   "id": "d79d8ef8-c4a3-4754-892e-2aedcc6ffc4c",
   "metadata": {},
   "source": [
    "## 人がよく「w,草,笑」を文末で使う時間帯の可視化\n",
    "### 時間帯ごとのデータの切り方の例"
   ]
  },
  {
   "cell_type": "code",
   "execution_count": 5,
   "id": "b36b85b7-6c67-4fb6-9baa-fcf906a3b851",
   "metadata": {},
   "outputs": [],
   "source": [
    "hoge = df_only_target.between_time(\"0:00:00\", \"6:00:00\")\n",
    "hoge.index = hoge.index.strftime('%Y年%m月%d日 %H時%M分%S秒') # 日本時間に変換できているかの確認用"
   ]
  },
  {
   "cell_type": "markdown",
   "id": "ba159ca4-e23d-4846-aa8d-fbe65f2d9b33",
   "metadata": {},
   "source": [
    "### 2時間毎にデータの内訳を確認"
   ]
  },
  {
   "cell_type": "code",
   "execution_count": 6,
   "id": "5547cf6c-15eb-4e4b-b6ec-45fb1397d477",
   "metadata": {},
   "outputs": [
    {
     "name": "stdout",
     "output_type": "stream",
     "text": [
      "0時 - 2時\t| 1.48% \ttotal: 37220, \ttarget: 550\n",
      "2時 - 4時\t| 1.43% \ttotal: 5655, \ttarget: 81\n",
      "4時 - 6時\t| 1.38% \ttotal: 2761, \ttarget: 38\n",
      "6時 - 8時\t| 1.54% \ttotal: 5581, \ttarget: 86\n",
      "8時 - 10時\t| 1.28% \ttotal: 6108, \ttarget: 78\n",
      "10時 - 12時\t| 1.66% \ttotal: 4888, \ttarget: 81\n",
      "12時 - 14時\t| 1.50% \ttotal: 4735, \ttarget: 71\n",
      "14時 - 16時\t| 1.91% \ttotal: 3453, \ttarget: 66\n",
      "16時 - 18時\t| 1.75% \ttotal: 3307, \ttarget: 58\n",
      "18時 - 20時\t| 1.48% \ttotal: 3313, \ttarget: 49\n",
      "20時 - 22時\t| 2.03% \ttotal: 3588, \ttarget: 73\n",
      "22時 - 0時\t| 1.62% \ttotal: 3637, \ttarget: 59\n"
     ]
    }
   ],
   "source": [
    "delimitation = list(range(0,24,2))\n",
    "delimitation.append(0)\n",
    "total_arr = []\n",
    "target_arr = []\n",
    "rate_arr = []\n",
    "for i in range(len(delimitation) - 1):\n",
    "    total_num = df_comment_time.between_time(\"{}:00:00\".format(delimitation[i]),\n",
    "                                             \"{}:00:00\".format(delimitation[i+1])).shape[0]\n",
    "    target_num = df_only_target.between_time(\"{}:00:00\".format(delimitation[i]),\n",
    "                                             \"{}:00:00\".format(delimitation[i+1])).shape[0]\n",
    "    total_arr.append(total_num)\n",
    "    target_arr.append(target_num)\n",
    "    rate_arr.append(target_num / total_num * 100)\n",
    "    print(\"{0}時 - {1}時\\t| {2:.2f}% \\ttotal: {3}, \\ttarget: {4}\".format(delimitation[i],\n",
    "                                                                        delimitation[i+1],\n",
    "                                                                        rate_arr[-1], \n",
    "                                                                        total_num,\n",
    "                                                                        target_num))"
   ]
  },
  {
   "cell_type": "markdown",
   "id": "0000e63b-d1d8-4acb-b80b-98af591aeaa3",
   "metadata": {},
   "source": [
    "### ヒストグラムの描画\n",
    "#### 全てのコメント数"
   ]
  },
  {
   "cell_type": "code",
   "execution_count": 7,
   "id": "9d068689-e329-4e77-aff9-b2e812524236",
   "metadata": {},
   "outputs": [
    {
     "data": {
      "image/png": "[encoded data removed]",
      "text/plain": [
       "<Figure size 432x288 with 1 Axes>"
      ]
     },
     "metadata": {
      "needs_background": "light"
     },
     "output_type": "display_data"
    }
   ],
   "source": [
    "plt.hist(np.asarray(df_comment_time.index.hour), bins=24)\n",
    "plt.show()"
   ]
  },
  {
   "cell_type": "markdown",
   "id": "0c08d7df-1fa6-4657-b1ba-ce418dd0f2b5",
   "metadata": {},
   "source": [
    "#### 対象となるコメント数"
   ]
  },
  {
   "cell_type": "code",
   "execution_count": 8,
   "id": "d1b7fdec-1adc-4127-8170-f4397b861282",
   "metadata": {},
   "outputs": [
    {
     "data": {
      "image/png": "[encoded data removed]",
      "text/plain": [
       "<Figure size 432x288 with 1 Axes>"
      ]
     },
     "metadata": {
      "needs_background": "light"
     },
     "output_type": "display_data"
    }
   ],
   "source": [
    "plt.hist(np.asarray(df_only_target.index.hour), bins=24)\n",
    "plt.show()"
   ]
  },
  {
   "cell_type": "code",
   "execution_count": 9,
   "id": "62430ca3-bcd8-426b-b07e-2c2e6563d999",
   "metadata": {},
   "outputs": [
    {
     "data": {
      "image/png": "[encoded data removed]",
      "text/plain": [
       "<Figure size 432x288 with 1 Axes>"
      ]
     },
     "metadata": {
      "needs_background": "light"
     },
     "output_type": "display_data"
    }
   ],
   "source": [
    "plt.plot(delimitation[:-1], rate_arr)\n",
    "plt.title(\"対象となる単語の割合\")\n",
    "plt.xlabel(\"時間帯\") \n",
    "plt.ylabel(\"割合[%]\") \n",
    "plt.grid(True)"
   ]
  }
 ],
 "metadata": {
  "kernelspec": {
   "display_name": "Python 3 (ipykernel)",
   "language": "python",
   "name": "python3"
  },
  "language_info": {
   "codemirror_mode": {
    "name": "ipython",
    "version": 3
   },
   "file_extension": ".py",
   "mimetype": "text/x-python",
   "name": "python",
   "nbconvert_exporter": "python",
   "pygments_lexer": "ipython3",
   "version": "3.8.13"
  }
 },
 "nbformat": 4,
 "nbformat_minor": 5
}
