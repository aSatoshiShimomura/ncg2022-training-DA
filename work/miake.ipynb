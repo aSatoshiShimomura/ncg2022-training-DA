{
 "cells": [
  {
   "cell_type": "markdown",
   "id": "f411bc08-e1ae-48d7-911b-c7260e888b61",
   "metadata": {
    "tags": []
   },
   "source": [
    "# 三明のノートブック\n",
    "## 分析内容\n",
    "視聴時間毎の文末における「草」の頻度分析"
   ]
  },
  {
   "cell_type": "markdown",
   "id": "1fd0a063-7d18-43db-a1bb-7ea4979b14c4",
   "metadata": {},
   "source": [
    "## 前処理\n",
    "### 汎用的なものをimport"
   ]
  },
  {
   "cell_type": "code",
   "execution_count": 1,
   "id": "f634ed7c-dfbb-4af1-85be-d41314bc5f09",
   "metadata": {},
   "outputs": [],
   "source": [
    "import os\n",
    "import pandas as pd\n",
    "import numpy as np\n",
    "from matplotlib import pyplot as plt\n",
    "import datetime as dt"
   ]
  },
  {
   "cell_type": "markdown",
   "id": "b61f9337-66e1-42b9-9ff2-08a1ec86d113",
   "metadata": {},
   "source": [
    "### データの読み込み"
   ]
  },
  {
   "cell_type": "code",
   "execution_count": 2,
   "id": "49d330da-4ef7-44a5-b5c1-1e87fe3fdbd9",
   "metadata": {},
   "outputs": [],
   "source": [
    "df_comment = pd.read_csv(\"./data/comments.csv\", header=0, index_col=None, parse_dates=[\"inserted_at\"])"
   ]
  },
  {
   "cell_type": "markdown",
   "id": "8c33f124-09e1-415a-b961-e9a1cae6b850",
   "metadata": {},
   "source": [
    "### 時間とコメントのみの分析"
   ]
  },
  {
   "cell_type": "code",
   "execution_count": 3,
   "id": "7db1b81c-99e2-4a42-b993-11c516714357",
   "metadata": {},
   "outputs": [
    {
     "data": {
      "text/html": [
       "<div>\n",
       "<style scoped>\n",
       "    .dataframe tbody tr th:only-of-type {\n",
       "        vertical-align: middle;\n",
       "    }\n",
       "\n",
       "    .dataframe tbody tr th {\n",
       "        vertical-align: top;\n",
       "    }\n",
       "\n",
       "    .dataframe thead th {\n",
       "        text-align: right;\n",
       "    }\n",
       "</style>\n",
       "<table border=\"1\" class=\"dataframe\">\n",
       "  <thead>\n",
       "    <tr style=\"text-align: right;\">\n",
       "      <th></th>\n",
       "      <th>content_id</th>\n",
       "      <th>message</th>\n",
       "    </tr>\n",
       "    <tr>\n",
       "      <th>inserted_at</th>\n",
       "      <th></th>\n",
       "      <th></th>\n",
       "    </tr>\n",
       "  </thead>\n",
       "  <tbody>\n",
       "    <tr>\n",
       "      <th>2021-11-01 00:00:16+09:00</th>\n",
       "      <td>1016369</td>\n",
       "      <td>アニメ化おめでとう！！！！！</td>\n",
       "    </tr>\n",
       "    <tr>\n",
       "      <th>2021-11-01 00:00:30+09:00</th>\n",
       "      <td>1016369</td>\n",
       "      <td>アニメ化おめでとう！！まじか？！</td>\n",
       "    </tr>\n",
       "    <tr>\n",
       "      <th>2021-11-01 00:00:35+09:00</th>\n",
       "      <td>1016369</td>\n",
       "      <td>遂にアニメ化来た！おめでとう！！！！</td>\n",
       "    </tr>\n",
       "    <tr>\n",
       "      <th>2021-11-01 00:00:40+09:00</th>\n",
       "      <td>1016369</td>\n",
       "      <td>やっぱりアニメ化か！おめでとうございます🎊</td>\n",
       "    </tr>\n",
       "    <tr>\n",
       "      <th>2021-11-01 00:00:41+09:00</th>\n",
       "      <td>1016369</td>\n",
       "      <td>おめでとうアニメ化！アーニャ可愛いなぁ</td>\n",
       "    </tr>\n",
       "    <tr>\n",
       "      <th>...</th>\n",
       "      <td>...</td>\n",
       "      <td>...</td>\n",
       "    </tr>\n",
       "    <tr>\n",
       "      <th>2022-03-31 18:27:27+09:00</th>\n",
       "      <td>1026940</td>\n",
       "      <td>キャラデザすごすぎぃ…ウルト○マンに出てくる怪獣みたいに洗練されてるじゃん…</td>\n",
       "    </tr>\n",
       "    <tr>\n",
       "      <th>2022-03-31 18:47:30+09:00</th>\n",
       "      <td>1025345</td>\n",
       "      <td>雷(トニト)一閃は草</td>\n",
       "    </tr>\n",
       "    <tr>\n",
       "      <th>2022-03-31 19:18:28+09:00</th>\n",
       "      <td>1026940</td>\n",
       "      <td>ジジは何食べてそんなにデカくなったんだ</td>\n",
       "    </tr>\n",
       "    <tr>\n",
       "      <th>2022-03-31 19:23:10+09:00</th>\n",
       "      <td>1016995</td>\n",
       "      <td>最高だわ…</td>\n",
       "    </tr>\n",
       "    <tr>\n",
       "      <th>2022-03-31 19:30:15+09:00</th>\n",
       "      <td>1026940</td>\n",
       "      <td>やぱぱーって歌ってんじゃんよ！</td>\n",
       "    </tr>\n",
       "  </tbody>\n",
       "</table>\n",
       "<p>101213 rows × 2 columns</p>\n",
       "</div>"
      ],
      "text/plain": [
       "                           content_id                                 message\n",
       "inserted_at                                                                  \n",
       "2021-11-01 00:00:16+09:00     1016369                          アニメ化おめでとう！！！！！\n",
       "2021-11-01 00:00:30+09:00     1016369                        アニメ化おめでとう！！まじか？！\n",
       "2021-11-01 00:00:35+09:00     1016369                      遂にアニメ化来た！おめでとう！！！！\n",
       "2021-11-01 00:00:40+09:00     1016369                   やっぱりアニメ化か！おめでとうございます🎊\n",
       "2021-11-01 00:00:41+09:00     1016369                     おめでとうアニメ化！アーニャ可愛いなぁ\n",
       "...                               ...                                     ...\n",
       "2022-03-31 18:27:27+09:00     1026940  キャラデザすごすぎぃ…ウルト○マンに出てくる怪獣みたいに洗練されてるじゃん…\n",
       "2022-03-31 18:47:30+09:00     1025345                              雷(トニト)一閃は草\n",
       "2022-03-31 19:18:28+09:00     1026940                     ジジは何食べてそんなにデカくなったんだ\n",
       "2022-03-31 19:23:10+09:00     1016995                                   最高だわ…\n",
       "2022-03-31 19:30:15+09:00     1026940                         やぱぱーって歌ってんじゃんよ！\n",
       "\n",
       "[101213 rows x 2 columns]"
      ]
     },
     "execution_count": 3,
     "metadata": {},
     "output_type": "execute_result"
    }
   ],
   "source": [
    "# データの切り出し\n",
    "df_com_time  = df_comment[[\"inserted_at\",\"message\",\"content_id\"]].copy()\n",
    "df_com_time[\"inserted_at\"] = pd.to_datetime(df_com_time[\"inserted_at\"],utc=True)\n",
    "# 日本時間にする\n",
    "df_com_time.index = pd.DatetimeIndex(df_com_time.inserted_at, name=\"inserted_at\")\n",
    "df_com_time.index = df_com_time.index.tz_convert(\"Asia/Tokyo\")\n",
    "df_comment_time = df_com_time[[\"content_id\",\"message\"]].copy()\n",
    "df_comment_time\n",
    "\n",
    "#df_com_time.inserted_at = df_com_time.index\n",
    "# df_com_time.index = df_com_time.index.strftime(\"%Y年%m月%d日 %H時%M分%S秒\") # 日本時間に変換できているかの確認用\n",
    "# df_comment_time = df_com_time.reset_index(drop=True).copy()"
   ]
  },
  {
   "cell_type": "markdown",
   "id": "61a649d5-a0e6-4bf9-b98e-b8c7c6c46670",
   "metadata": {},
   "source": [
    "### 文末が特定のワードのものを抜き出す  \n",
    "抜き出すワード  \n",
    "- 草\n",
    "- w\n",
    "- 笑"
   ]
  },
  {
   "cell_type": "code",
   "execution_count": 4,
   "id": "5757309f-225e-4034-9d92-4ffa61498967",
   "metadata": {},
   "outputs": [
    {
     "data": {
      "text/html": [
       "<div>\n",
       "<style scoped>\n",
       "    .dataframe tbody tr th:only-of-type {\n",
       "        vertical-align: middle;\n",
       "    }\n",
       "\n",
       "    .dataframe tbody tr th {\n",
       "        vertical-align: top;\n",
       "    }\n",
       "\n",
       "    .dataframe thead th {\n",
       "        text-align: right;\n",
       "    }\n",
       "</style>\n",
       "<table border=\"1\" class=\"dataframe\">\n",
       "  <thead>\n",
       "    <tr style=\"text-align: right;\">\n",
       "      <th></th>\n",
       "      <th>content_id</th>\n",
       "      <th>message</th>\n",
       "    </tr>\n",
       "    <tr>\n",
       "      <th>inserted_at</th>\n",
       "      <th></th>\n",
       "      <th></th>\n",
       "    </tr>\n",
       "  </thead>\n",
       "  <tbody>\n",
       "    <tr>\n",
       "      <th>2021-12-13 00:20:10+09:00</th>\n",
       "      <td>1018845</td>\n",
       "      <td>笑</td>\n",
       "    </tr>\n",
       "    <tr>\n",
       "      <th>2021-12-13 02:32:22+09:00</th>\n",
       "      <td>1018845</td>\n",
       "      <td>草</td>\n",
       "    </tr>\n",
       "    <tr>\n",
       "      <th>2021-12-13 09:37:50+09:00</th>\n",
       "      <td>1018845</td>\n",
       "      <td>草\\nこの家族ならではだな</td>\n",
       "    </tr>\n",
       "    <tr>\n",
       "      <th>2021-12-13 12:50:57+09:00</th>\n",
       "      <td>1018845</td>\n",
       "      <td>笑</td>\n",
       "    </tr>\n",
       "    <tr>\n",
       "      <th>2021-12-13 19:53:03+09:00</th>\n",
       "      <td>1018845</td>\n",
       "      <td>wwwwww</td>\n",
       "    </tr>\n",
       "    <tr>\n",
       "      <th>2022-01-23 00:11:23+09:00</th>\n",
       "      <td>1021172</td>\n",
       "      <td>草</td>\n",
       "    </tr>\n",
       "    <tr>\n",
       "      <th>2022-01-24 00:03:00+09:00</th>\n",
       "      <td>1021552</td>\n",
       "      <td>www</td>\n",
       "    </tr>\n",
       "    <tr>\n",
       "      <th>2022-01-24 00:03:02+09:00</th>\n",
       "      <td>1021552</td>\n",
       "      <td>www</td>\n",
       "    </tr>\n",
       "    <tr>\n",
       "      <th>2022-01-26 16:04:21+09:00</th>\n",
       "      <td>1021172</td>\n",
       "      <td>www</td>\n",
       "    </tr>\n",
       "    <tr>\n",
       "      <th>2022-02-07 01:26:11+09:00</th>\n",
       "      <td>1022903</td>\n",
       "      <td>wwwwwww</td>\n",
       "    </tr>\n",
       "    <tr>\n",
       "      <th>2022-02-22 00:05:44+09:00</th>\n",
       "      <td>1023950</td>\n",
       "      <td>wwwwwwwwwwwwwwwwwwwwwww</td>\n",
       "    </tr>\n",
       "    <tr>\n",
       "      <th>2022-02-23 15:08:11+09:00</th>\n",
       "      <td>1023950</td>\n",
       "      <td>草</td>\n",
       "    </tr>\n",
       "    <tr>\n",
       "      <th>2022-02-26 00:03:46+09:00</th>\n",
       "      <td>1023987</td>\n",
       "      <td>www</td>\n",
       "    </tr>\n",
       "    <tr>\n",
       "      <th>2022-03-08 00:04:10+09:00</th>\n",
       "      <td>1025355</td>\n",
       "      <td>ww\\nなるほどねww\\nタロウいい考えだわwだけどさww\\nえぐっwwwwwwwwww</td>\n",
       "    </tr>\n",
       "    <tr>\n",
       "      <th>2022-03-08 19:19:53+09:00</th>\n",
       "      <td>1025355</td>\n",
       "      <td>草</td>\n",
       "    </tr>\n",
       "    <tr>\n",
       "      <th>2022-03-21 03:25:41+09:00</th>\n",
       "      <td>1022903</td>\n",
       "      <td>草</td>\n",
       "    </tr>\n",
       "    <tr>\n",
       "      <th>2022-03-22 00:41:52+09:00</th>\n",
       "      <td>1026359</td>\n",
       "      <td>草</td>\n",
       "    </tr>\n",
       "    <tr>\n",
       "      <th>2022-03-22 05:30:27+09:00</th>\n",
       "      <td>1026359</td>\n",
       "      <td>草</td>\n",
       "    </tr>\n",
       "    <tr>\n",
       "      <th>2022-03-22 06:35:54+09:00</th>\n",
       "      <td>1026359</td>\n",
       "      <td>草</td>\n",
       "    </tr>\n",
       "  </tbody>\n",
       "</table>\n",
       "</div>"
      ],
      "text/plain": [
       "                           content_id  \\\n",
       "inserted_at                             \n",
       "2021-12-13 00:20:10+09:00     1018845   \n",
       "2021-12-13 02:32:22+09:00     1018845   \n",
       "2021-12-13 09:37:50+09:00     1018845   \n",
       "2021-12-13 12:50:57+09:00     1018845   \n",
       "2021-12-13 19:53:03+09:00     1018845   \n",
       "2022-01-23 00:11:23+09:00     1021172   \n",
       "2022-01-24 00:03:00+09:00     1021552   \n",
       "2022-01-24 00:03:02+09:00     1021552   \n",
       "2022-01-26 16:04:21+09:00     1021172   \n",
       "2022-02-07 01:26:11+09:00     1022903   \n",
       "2022-02-22 00:05:44+09:00     1023950   \n",
       "2022-02-23 15:08:11+09:00     1023950   \n",
       "2022-02-26 00:03:46+09:00     1023987   \n",
       "2022-03-08 00:04:10+09:00     1025355   \n",
       "2022-03-08 19:19:53+09:00     1025355   \n",
       "2022-03-21 03:25:41+09:00     1022903   \n",
       "2022-03-22 00:41:52+09:00     1026359   \n",
       "2022-03-22 05:30:27+09:00     1026359   \n",
       "2022-03-22 06:35:54+09:00     1026359   \n",
       "\n",
       "                                                                message  \n",
       "inserted_at                                                              \n",
       "2021-12-13 00:20:10+09:00                                             笑  \n",
       "2021-12-13 02:32:22+09:00                                             草  \n",
       "2021-12-13 09:37:50+09:00                                 草\\nこの家族ならではだな  \n",
       "2021-12-13 12:50:57+09:00                                             笑  \n",
       "2021-12-13 19:53:03+09:00                                        wwwwww  \n",
       "2022-01-23 00:11:23+09:00                                             草  \n",
       "2022-01-24 00:03:00+09:00                                           www  \n",
       "2022-01-24 00:03:02+09:00                                           www  \n",
       "2022-01-26 16:04:21+09:00                                           www  \n",
       "2022-02-07 01:26:11+09:00                                       wwwwwww  \n",
       "2022-02-22 00:05:44+09:00                       wwwwwwwwwwwwwwwwwwwwwww  \n",
       "2022-02-23 15:08:11+09:00                                             草  \n",
       "2022-02-26 00:03:46+09:00                                           www  \n",
       "2022-03-08 00:04:10+09:00  ww\\nなるほどねww\\nタロウいい考えだわwだけどさww\\nえぐっwwwwwwwwww  \n",
       "2022-03-08 19:19:53+09:00                                             草  \n",
       "2022-03-21 03:25:41+09:00                                             草  \n",
       "2022-03-22 00:41:52+09:00                                             草  \n",
       "2022-03-22 05:30:27+09:00                                             草  \n",
       "2022-03-22 06:35:54+09:00                                             草  "
      ]
     },
     "execution_count": 4,
     "metadata": {},
     "output_type": "execute_result"
    }
   ],
   "source": [
    "kusaRegex = \"草(?=[…、。\\swWｗＷ()]|$)\"#'草(?:\\\\n|$)'\n",
    "waraRegex = \"笑(?=[…、。\\swWｗＷ()]|$)\"#'笑(?:\\\\n|$)'\n",
    "sibaRegex = \"[wWｗＷ]+(?=[…、。\\s()]|$)\"#'w(?:\\\\n|$)'\n",
    "regex = kusaRegex + '|' +  waraRegex + '|' + sibaRegex\n",
    "df_only_target = df_comment_time[df_comment_time[\"message\"].str.contains(regex)]\n",
    "df_only_target"
   ]
  },
  {
   "cell_type": "markdown",
   "id": "d79d8ef8-c4a3-4754-892e-2aedcc6ffc4c",
   "metadata": {},
   "source": [
    "## 人がよく「w,草,笑」を文末で使う時間帯の可視化\n",
    "### 時間帯ごとのデータの切り方の例"
   ]
  },
  {
   "cell_type": "code",
   "execution_count": 5,
   "id": "b36b85b7-6c67-4fb6-9baa-fcf906a3b851",
   "metadata": {},
   "outputs": [],
   "source": [
    "hoge = df_only_target.between_time(\"0:00:00\", \"6:00:00\")\n",
    "hoge.index = hoge.index.strftime(\"%Y年%m月%d日 %H時%M分%S秒\") # 日本時間に変換できているかの確認用"
   ]
  },
  {
   "cell_type": "markdown",
   "id": "ba159ca4-e23d-4846-aa8d-fbe65f2d9b33",
   "metadata": {},
   "source": [
    "### 2時間毎にデータの内訳を確認"
   ]
  },
  {
   "cell_type": "code",
   "execution_count": 6,
   "id": "5547cf6c-15eb-4e4b-b6ec-45fb1397d477",
   "metadata": {},
   "outputs": [
    {
     "name": "stdout",
     "output_type": "stream",
     "text": [
      "0時 - 2時\t| 0.02% \ttotal: 40676, \ttarget: 9\n",
      "2時 - 4時\t| 0.03% \ttotal: 6402, \ttarget: 2\n",
      "4時 - 6時\t| 0.03% \ttotal: 3433, \ttarget: 1\n",
      "6時 - 8時\t| 0.01% \ttotal: 7764, \ttarget: 1\n",
      "8時 - 10時\t| 0.01% \ttotal: 9013, \ttarget: 1\n",
      "10時 - 12時\t| 0.00% \ttotal: 6347, \ttarget: 0\n",
      "12時 - 14時\t| 0.02% \ttotal: 6412, \ttarget: 1\n",
      "14時 - 16時\t| 0.02% \ttotal: 4204, \ttarget: 1\n",
      "16時 - 18時\t| 0.03% \ttotal: 3984, \ttarget: 1\n",
      "18時 - 20時\t| 0.05% \ttotal: 4139, \ttarget: 2\n",
      "20時 - 22時\t| 0.00% \ttotal: 4440, \ttarget: 0\n",
      "22時 - 0時\t| 0.00% \ttotal: 4406, \ttarget: 0\n"
     ]
    }
   ],
   "source": [
    "delimitation = list(range(0,24,2))\n",
    "delimitation.append(0)\n",
    "rate_arr = [] # 対象となる単語を含むコメントの割合\n",
    "for i in range(len(delimitation) - 1):\n",
    "    total_num = df_comment_time.between_time(\"{}:00:00\".format(delimitation[i]),\n",
    "                                             \"{}:00:00\".format(delimitation[i+1])).shape[0]\n",
    "    target_num = df_only_target.between_time(\"{}:00:00\".format(delimitation[i]),\n",
    "                                             \"{}:00:00\".format(delimitation[i+1])).shape[0]\n",
    "    rate_arr.append(target_num / total_num * 100)\n",
    "    print(\"{0}時 - {1}時\\t| {2:.2f}% \\ttotal: {3}, \\ttarget: {4}\".format(delimitation[i],\n",
    "                                                                        delimitation[i+1],\n",
    "                                                                        rate_arr[-1], \n",
    "                                                                        total_num,\n",
    "                                                                        target_num))"
   ]
  },
  {
   "cell_type": "markdown",
   "id": "0000e63b-d1d8-4acb-b80b-98af591aeaa3",
   "metadata": {},
   "source": [
    "### ヒストグラムの描画\n",
    "#### 全てのコメント数"
   ]
  },
  {
   "cell_type": "code",
   "execution_count": 7,
   "id": "9d068689-e329-4e77-aff9-b2e812524236",
   "metadata": {},
   "outputs": [
    {
     "data": {
      "image/png": "[encoded data removed]",
      "text/plain": [
       "<Figure size 432x288 with 1 Axes>"
      ]
     },
     "metadata": {
      "needs_background": "light"
     },
     "output_type": "display_data"
    }
   ],
   "source": [
    "plt.hist(np.asarray(df_comment_time.index.hour), bins=24)\n",
    "plt.show()"
   ]
  },
  {
   "cell_type": "markdown",
   "id": "0c08d7df-1fa6-4657-b1ba-ce418dd0f2b5",
   "metadata": {},
   "source": [
    "#### 対象となるコメント数"
   ]
  },
  {
   "cell_type": "code",
   "execution_count": 8,
   "id": "d1b7fdec-1adc-4127-8170-f4397b861282",
   "metadata": {},
   "outputs": [
    {
     "data": {
      "image/png": "[encoded data removed]",
      "text/plain": [
       "<Figure size 432x288 with 1 Axes>"
      ]
     },
     "metadata": {
      "needs_background": "light"
     },
     "output_type": "display_data"
    }
   ],
   "source": [
    "plt.hist(np.asarray(df_only_target.index.hour), bins=24)\n",
    "plt.show()"
   ]
  },
  {
   "cell_type": "code",
   "execution_count": 9,
   "id": "62430ca3-bcd8-426b-b07e-2c2e6563d999",
   "metadata": {},
   "outputs": [
    {
     "data": {
      "image/png": "[encoded data removed]",
      "text/plain": [
       "<Figure size 432x288 with 1 Axes>"
      ]
     },
     "metadata": {
      "needs_background": "light"
     },
     "output_type": "display_data"
    }
   ],
   "source": [
    "plt.plot(delimitation[:-1], rate_arr)\n",
    "plt.title(\"対象となる単語を含むコメントの割合\")\n",
    "plt.xlabel(\"時間帯\") \n",
    "plt.ylabel(\"割合[%]\") \n",
    "plt.grid(True)"
   ]
  },
  {
   "cell_type": "markdown",
   "id": "6c99293b-6b1d-49b7-9b1c-6cbacee7fea9",
   "metadata": {},
   "source": [
    "## 作品ごとの文末表現の違い\n",
    "### データフレームの作成"
   ]
  },
  {
   "cell_type": "code",
   "execution_count": 10,
   "id": "20a11904-0bcf-4499-805b-909c71ad591a",
   "metadata": {},
   "outputs": [],
   "source": [
    "# データの読み出し\n",
    "df_con = pd.read_csv(\"./data/contents.csv\",header=0,index_col=None)\n",
    "df_com = pd.read_csv(\"./data/comments.csv\", header=0, index_col=None, parse_dates=[\"inserted_at\"])\n",
    "\n",
    "# データの切り出し\n",
    "df_com_reduced  = df_com[[\"inserted_at\",\"message\",\"content_id\"]]\n",
    "df_con_reduced  = df_con[[\"work_name\", \"content_id\"]]\n",
    "\n",
    "# データのマージ\n",
    "df_com_time = df_con_reduced.merge(df_com_reduced, on=[\"content_id\"])\n",
    "\n",
    "# 日本時間にする\n",
    "df_com_time[\"inserted_at\"] = pd.to_datetime(df_com_time[\"inserted_at\"],utc=True)\n",
    "df_com_time.index = pd.DatetimeIndex(df_com_time.inserted_at, name=\"inserted_at\")\n",
    "df_com_time.index = df_com_time.index.tz_convert(\"Asia/Tokyo\")\n",
    "df_comment_time = df_com_time[[\"work_name\",\"message\"]].copy()\n",
    "\n",
    "# 特定のワードで切り出す\n",
    "df_only_target = df_comment_time[df_comment_time[\"message\"].str.match(regex)]"
   ]
  },
  {
   "cell_type": "markdown",
   "id": "6095504e-a70f-46ec-bef2-ad86d81d9ab3",
   "metadata": {},
   "source": [
    "### 作品毎の対象となる単語を含むコメントの割合を算出"
   ]
  },
  {
   "cell_type": "code",
   "execution_count": 11,
   "id": "7c4ef349-c3e2-4468-87c8-80b48ae49a6d",
   "metadata": {},
   "outputs": [
    {
     "name": "stdout",
     "output_type": "stream",
     "text": [
      "---------------------------------\n",
      "作品名: 阿波連さんははかれない\n",
      "0時 - 2時\t| 0.06% \ttotal: 1699, \ttarget: 1\n",
      "2時 - 4時\t| 0.00% \ttotal: 294, \ttarget: 0\n",
      "4時 - 6時\t| 0.00% \ttotal: 145, \ttarget: 0\n",
      "6時 - 8時\t| 0.00% \ttotal: 254, \ttarget: 0\n",
      "8時 - 10時\t| 0.00% \ttotal: 389, \ttarget: 0\n",
      "10時 - 12時\t| 0.00% \ttotal: 301, \ttarget: 0\n",
      "12時 - 14時\t| 0.00% \ttotal: 224, \ttarget: 0\n",
      "14時 - 16時\t| 0.00% \ttotal: 145, \ttarget: 0\n",
      "16時 - 18時\t| 0.81% \ttotal: 123, \ttarget: 1\n",
      "18時 - 20時\t| 0.00% \ttotal: 108, \ttarget: 0\n",
      "20時 - 22時\t| 0.00% \ttotal: 137, \ttarget: 0\n",
      "22時 - 0時\t| 0.00% \ttotal: 142, \ttarget: 0\n",
      "---------------------------------\n",
      "作品名: 左ききのエレン\n",
      "0時 - 2時\t| 0.03% \ttotal: 3144, \ttarget: 1\n",
      "2時 - 4時\t| 0.00% \ttotal: 440, \ttarget: 0\n",
      "4時 - 6時\t| 0.00% \ttotal: 284, \ttarget: 0\n",
      "6時 - 8時\t| 0.00% \ttotal: 487, \ttarget: 0\n",
      "8時 - 10時\t| 0.00% \ttotal: 613, \ttarget: 0\n",
      "10時 - 12時\t| 0.00% \ttotal: 430, \ttarget: 0\n",
      "12時 - 14時\t| 0.00% \ttotal: 389, \ttarget: 0\n",
      "14時 - 16時\t| 0.00% \ttotal: 265, \ttarget: 0\n",
      "16時 - 18時\t| 0.00% \ttotal: 229, \ttarget: 0\n",
      "18時 - 20時\t| 0.00% \ttotal: 223, \ttarget: 0\n",
      "20時 - 22時\t| 0.00% \ttotal: 207, \ttarget: 0\n",
      "22時 - 0時\t| 0.00% \ttotal: 227, \ttarget: 0\n",
      "---------------------------------\n",
      "作品名: SPY×FAMILY\n",
      "0時 - 2時\t| 0.04% \ttotal: 9419, \ttarget: 4\n",
      "2時 - 4時\t| 0.14% \ttotal: 1433, \ttarget: 2\n",
      "4時 - 6時\t| 0.00% \ttotal: 728, \ttarget: 0\n",
      "6時 - 8時\t| 0.00% \ttotal: 1592, \ttarget: 0\n",
      "8時 - 10時\t| 0.05% \ttotal: 2018, \ttarget: 1\n",
      "10時 - 12時\t| 0.00% \ttotal: 1544, \ttarget: 0\n",
      "12時 - 14時\t| 0.06% \ttotal: 1654, \ttarget: 1\n",
      "14時 - 16時\t| 0.00% \ttotal: 1223, \ttarget: 0\n",
      "16時 - 18時\t| 0.00% \ttotal: 1166, \ttarget: 0\n",
      "18時 - 20時\t| 0.08% \ttotal: 1280, \ttarget: 1\n",
      "20時 - 22時\t| 0.00% \ttotal: 1355, \ttarget: 0\n",
      "22時 - 0時\t| 0.00% \ttotal: 1392, \ttarget: 0\n",
      "---------------------------------\n",
      "作品名: 怪獣８号\n",
      "0時 - 2時\t| 0.00% \ttotal: 10764, \ttarget: 0\n",
      "2時 - 4時\t| 0.00% \ttotal: 2182, \ttarget: 0\n",
      "4時 - 6時\t| 0.00% \ttotal: 1186, \ttarget: 0\n",
      "6時 - 8時\t| 0.00% \ttotal: 2656, \ttarget: 0\n",
      "8時 - 10時\t| 0.00% \ttotal: 2990, \ttarget: 0\n",
      "10時 - 12時\t| 0.00% \ttotal: 2135, \ttarget: 0\n",
      "12時 - 14時\t| 0.00% \ttotal: 2194, \ttarget: 0\n",
      "14時 - 16時\t| 0.00% \ttotal: 1428, \ttarget: 0\n",
      "16時 - 18時\t| 0.00% \ttotal: 1349, \ttarget: 0\n",
      "18時 - 20時\t| 0.00% \ttotal: 1397, \ttarget: 0\n",
      "20時 - 22時\t| 0.00% \ttotal: 1396, \ttarget: 0\n",
      "22時 - 0時\t| 0.00% \ttotal: 1403, \ttarget: 0\n",
      "---------------------------------\n",
      "作品名: 鴨乃橋ロンの禁断推理\n",
      "0時 - 2時\t| 0.00% \ttotal: 1259, \ttarget: 0\n",
      "2時 - 4時\t| 0.00% \ttotal: 229, \ttarget: 0\n",
      "4時 - 6時\t| 0.00% \ttotal: 110, \ttarget: 0\n",
      "6時 - 8時\t| 0.00% \ttotal: 220, \ttarget: 0\n",
      "8時 - 10時\t| 0.00% \ttotal: 304, \ttarget: 0\n",
      "10時 - 12時\t| 0.00% \ttotal: 268, \ttarget: 0\n",
      "12時 - 14時\t| 0.00% \ttotal: 222, \ttarget: 0\n",
      "14時 - 16時\t| 0.00% \ttotal: 140, \ttarget: 0\n",
      "16時 - 18時\t| 0.00% \ttotal: 120, \ttarget: 0\n",
      "18時 - 20時\t| 0.00% \ttotal: 101, \ttarget: 0\n",
      "20時 - 22時\t| 0.00% \ttotal: 146, \ttarget: 0\n",
      "22時 - 0時\t| 0.00% \ttotal: 140, \ttarget: 0\n",
      "---------------------------------\n",
      "作品名: ダンダダン\n",
      "0時 - 2時\t| 0.02% \ttotal: 14391, \ttarget: 3\n",
      "2時 - 4時\t| 0.00% \ttotal: 1824, \ttarget: 0\n",
      "4時 - 6時\t| 0.10% \ttotal: 980, \ttarget: 1\n",
      "6時 - 8時\t| 0.04% \ttotal: 2555, \ttarget: 1\n",
      "8時 - 10時\t| 0.00% \ttotal: 2699, \ttarget: 0\n",
      "10時 - 12時\t| 0.00% \ttotal: 1669, \ttarget: 0\n",
      "12時 - 14時\t| 0.00% \ttotal: 1729, \ttarget: 0\n",
      "14時 - 16時\t| 0.10% \ttotal: 1003, \ttarget: 1\n",
      "16時 - 18時\t| 0.00% \ttotal: 997, \ttarget: 0\n",
      "18時 - 20時\t| 0.10% \ttotal: 1030, \ttarget: 1\n",
      "20時 - 22時\t| 0.00% \ttotal: 1199, \ttarget: 0\n",
      "22時 - 0時\t| 0.00% \ttotal: 1102, \ttarget: 0\n"
     ]
    }
   ],
   "source": [
    "# 作品名のリスト\n",
    "work_name_list = list(df_con[[\"work_name\"]][~df_con[[\"work_name\"]].duplicated()].work_name)\n",
    "\n",
    "rate_dict = {}\n",
    "\n",
    "for work_name in work_name_list:\n",
    "    rate_arr = [] # 対象となる単語を含むコメントの割合\n",
    "    print(\"---------------------------------\")\n",
    "    print(\"作品名: {}\".format(work_name))\n",
    "    df_work = df_comment_time[df_comment_time[\"work_name\"] == work_name]\n",
    "    df_work_target = df_only_target[df_only_target[\"work_name\"] == work_name]\n",
    "    for i in range(len(delimitation) - 1):\n",
    "        total_num = df_work.between_time(\"{}:00:00\".format(delimitation[i]),\n",
    "                                         \"{}:00:00\".format(delimitation[i+1])).shape[0]\n",
    "        target_num = df_work_target.between_time(\"{}:00:00\".format(delimitation[i]),\n",
    "                                                 \"{}:00:00\".format(delimitation[i+1])).shape[0]\n",
    "        rate_arr.append(target_num / total_num * 100)\n",
    "        print(\"{0}時 - {1}時\\t| {2:.2f}% \\ttotal: {3}, \\ttarget: {4}\".format(delimitation[i],\n",
    "                                                                            delimitation[i+1],\n",
    "                                                                            rate_arr[-1], \n",
    "                                                                            total_num,\n",
    "                                                                            target_num))\n",
    "    rate_dict[work_name] = rate_arr"
   ]
  },
  {
   "cell_type": "markdown",
   "id": "70ad715d-1a99-45b1-8678-f1f481ceebc5",
   "metadata": {},
   "source": [
    "### グラフ表示"
   ]
  },
  {
   "cell_type": "code",
   "execution_count": 12,
   "id": "a3fb75f8-2cd5-4991-aabd-0131fbb068c9",
   "metadata": {},
   "outputs": [
    {
     "data": {
      "image/png": "[encoded data removed]",
      "text/plain": [
       "<Figure size 432x288 with 1 Axes>"
      ]
     },
     "metadata": {
      "needs_background": "light"
     },
     "output_type": "display_data"
    }
   ],
   "source": [
    "for work_name in work_name_list:\n",
    "    plt.plot(delimitation[:-1], np.asarray(rate_dict[work_name]), label=work_name)\n",
    "plt.title(\"対象となる単語を含むコメントの割合\", fontsize=12)\n",
    "plt.xlabel(\"時間帯\", fontsize=12) \n",
    "plt.ylabel(\"割合[%]\", fontsize=12) \n",
    "plt.legend(bbox_to_anchor=(1.05, 1), loc=\"upper left\", fontsize=12)\n",
    "plt.grid(True)"
   ]
  }
 ],
 "metadata": {
  "kernelspec": {
   "display_name": "Python 3 (ipykernel)",
   "language": "python",
   "name": "python3"
  },
  "language_info": {
   "codemirror_mode": {
    "name": "ipython",
    "version": 3
   },
   "file_extension": ".py",
   "mimetype": "text/x-python",
   "name": "python",
   "nbconvert_exporter": "python",
   "pygments_lexer": "ipython3",
   "version": "3.8.13"
  }
 },
 "nbformat": 4,
 "nbformat_minor": 5
}
