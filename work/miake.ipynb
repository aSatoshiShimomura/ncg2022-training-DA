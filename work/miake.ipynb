{
 "cells": [
  {
   "cell_type": "markdown",
   "id": "f411bc08-e1ae-48d7-911b-c7260e888b61",
   "metadata": {
    "tags": []
   },
   "source": [
    "# 三明のノートブック\n",
    "## 分析内容\n",
    "視聴時間毎の文末における「草」の頻度分析"
   ]
  },
  {
   "cell_type": "markdown",
   "id": "1fd0a063-7d18-43db-a1bb-7ea4979b14c4",
   "metadata": {},
   "source": [
    "## 前処理\n",
    "### 汎用的なものをimport"
   ]
  },
  {
   "cell_type": "code",
   "execution_count": 1,
   "id": "f634ed7c-dfbb-4af1-85be-d41314bc5f09",
   "metadata": {},
   "outputs": [],
   "source": [
    "import os\n",
    "import pandas as pd\n",
    "import numpy as np\n",
    "from matplotlib import pyplot as plt\n",
    "import datetime as dt"
   ]
  },
  {
   "cell_type": "markdown",
   "id": "b61f9337-66e1-42b9-9ff2-08a1ec86d113",
   "metadata": {},
   "source": [
    "### データの読み込み"
   ]
  },
  {
   "cell_type": "code",
   "execution_count": 2,
   "id": "49d330da-4ef7-44a5-b5c1-1e87fe3fdbd9",
   "metadata": {},
   "outputs": [],
   "source": [
    "df_comment = pd.read_csv(\"./data/comments.csv\", header=0, index_col=None, parse_dates=[\"inserted_at\"])"
   ]
  },
  {
   "cell_type": "markdown",
   "id": "8c33f124-09e1-415a-b961-e9a1cae6b850",
   "metadata": {},
   "source": [
    "### 時間とコメントのみの分析"
   ]
  },
  {
   "cell_type": "code",
   "execution_count": 3,
   "id": "7db1b81c-99e2-4a42-b993-11c516714357",
   "metadata": {},
   "outputs": [
    {
     "data": {
      "text/html": [
       "<div>\n",
       "<style scoped>\n",
       "    .dataframe tbody tr th:only-of-type {\n",
       "        vertical-align: middle;\n",
       "    }\n",
       "\n",
       "    .dataframe tbody tr th {\n",
       "        vertical-align: top;\n",
       "    }\n",
       "\n",
       "    .dataframe thead th {\n",
       "        text-align: right;\n",
       "    }\n",
       "</style>\n",
       "<table border=\"1\" class=\"dataframe\">\n",
       "  <thead>\n",
       "    <tr style=\"text-align: right;\">\n",
       "      <th></th>\n",
       "      <th>message</th>\n",
       "    </tr>\n",
       "    <tr>\n",
       "      <th>inserted_at</th>\n",
       "      <th></th>\n",
       "    </tr>\n",
       "  </thead>\n",
       "  <tbody>\n",
       "    <tr>\n",
       "      <th>2021-11-01 00:00:16+09:00</th>\n",
       "      <td>アニメ化おめでとう！！！！！</td>\n",
       "    </tr>\n",
       "    <tr>\n",
       "      <th>2021-11-01 00:00:30+09:00</th>\n",
       "      <td>アニメ化おめでとう！！まじか？！</td>\n",
       "    </tr>\n",
       "    <tr>\n",
       "      <th>2021-11-01 00:00:35+09:00</th>\n",
       "      <td>遂にアニメ化来た！おめでとう！！！！</td>\n",
       "    </tr>\n",
       "    <tr>\n",
       "      <th>2021-11-01 00:00:40+09:00</th>\n",
       "      <td>やっぱりアニメ化か！おめでとうございます🎊</td>\n",
       "    </tr>\n",
       "    <tr>\n",
       "      <th>2021-11-01 00:00:41+09:00</th>\n",
       "      <td>おめでとうアニメ化！アーニャ可愛いなぁ</td>\n",
       "    </tr>\n",
       "    <tr>\n",
       "      <th>...</th>\n",
       "      <td>...</td>\n",
       "    </tr>\n",
       "    <tr>\n",
       "      <th>2022-03-31 18:27:27+09:00</th>\n",
       "      <td>キャラデザすごすぎぃ…ウルト○マンに出てくる怪獣みたいに洗練されてるじゃん…</td>\n",
       "    </tr>\n",
       "    <tr>\n",
       "      <th>2022-03-31 18:47:30+09:00</th>\n",
       "      <td>雷(トニト)一閃は草</td>\n",
       "    </tr>\n",
       "    <tr>\n",
       "      <th>2022-03-31 19:18:28+09:00</th>\n",
       "      <td>ジジは何食べてそんなにデカくなったんだ</td>\n",
       "    </tr>\n",
       "    <tr>\n",
       "      <th>2022-03-31 19:23:10+09:00</th>\n",
       "      <td>最高だわ…</td>\n",
       "    </tr>\n",
       "    <tr>\n",
       "      <th>2022-03-31 19:30:15+09:00</th>\n",
       "      <td>やぱぱーって歌ってんじゃんよ！</td>\n",
       "    </tr>\n",
       "  </tbody>\n",
       "</table>\n",
       "<p>101213 rows × 1 columns</p>\n",
       "</div>"
      ],
      "text/plain": [
       "                                                          message\n",
       "inserted_at                                                      \n",
       "2021-11-01 00:00:16+09:00                          アニメ化おめでとう！！！！！\n",
       "2021-11-01 00:00:30+09:00                        アニメ化おめでとう！！まじか？！\n",
       "2021-11-01 00:00:35+09:00                      遂にアニメ化来た！おめでとう！！！！\n",
       "2021-11-01 00:00:40+09:00                   やっぱりアニメ化か！おめでとうございます🎊\n",
       "2021-11-01 00:00:41+09:00                     おめでとうアニメ化！アーニャ可愛いなぁ\n",
       "...                                                           ...\n",
       "2022-03-31 18:27:27+09:00  キャラデザすごすぎぃ…ウルト○マンに出てくる怪獣みたいに洗練されてるじゃん…\n",
       "2022-03-31 18:47:30+09:00                              雷(トニト)一閃は草\n",
       "2022-03-31 19:18:28+09:00                     ジジは何食べてそんなにデカくなったんだ\n",
       "2022-03-31 19:23:10+09:00                                   最高だわ…\n",
       "2022-03-31 19:30:15+09:00                         やぱぱーって歌ってんじゃんよ！\n",
       "\n",
       "[101213 rows x 1 columns]"
      ]
     },
     "execution_count": 3,
     "metadata": {},
     "output_type": "execute_result"
    }
   ],
   "source": [
    "# データの切り出し\n",
    "df_com_time  = df_comment[[\"inserted_at\",\"message\"]].copy()\n",
    "df_com_time[\"inserted_at\"] = pd.to_datetime(df_com_time[\"inserted_at\"],utc=True)\n",
    "# 日本時間にする\n",
    "df_com_time.index = pd.DatetimeIndex(df_com_time.inserted_at, name=\"inserted_at\")\n",
    "df_com_time.index = df_com_time.index.tz_convert(\"Asia/Tokyo\")\n",
    "df_comment_time = df_com_time[[\"message\"]].copy()\n",
    "df_comment_time\n",
    "\n",
    "#df_com_time.inserted_at = df_com_time.index\n",
    "# df_com_time.index = df_com_time.index.strftime('%Y年%m月%d日 %H時%M分%S秒') # 日本時間に変換できているかの確認用\n",
    "# df_comment_time = df_com_time.reset_index(drop=True).copy()"
   ]
  },
  {
   "cell_type": "markdown",
   "id": "61a649d5-a0e6-4bf9-b98e-b8c7c6c46670",
   "metadata": {},
   "source": [
    "### 文末が特定のワードのものを抜き出す  \n",
    "抜き出すワード  \n",
    "- 草\n",
    "- w\n",
    "- 笑"
   ]
  },
  {
   "cell_type": "code",
   "execution_count": 4,
   "id": "5757309f-225e-4034-9d92-4ffa61498967",
   "metadata": {},
   "outputs": [
    {
     "data": {
      "text/html": [
       "<div>\n",
       "<style scoped>\n",
       "    .dataframe tbody tr th:only-of-type {\n",
       "        vertical-align: middle;\n",
       "    }\n",
       "\n",
       "    .dataframe tbody tr th {\n",
       "        vertical-align: top;\n",
       "    }\n",
       "\n",
       "    .dataframe thead th {\n",
       "        text-align: right;\n",
       "    }\n",
       "</style>\n",
       "<table border=\"1\" class=\"dataframe\">\n",
       "  <thead>\n",
       "    <tr style=\"text-align: right;\">\n",
       "      <th></th>\n",
       "      <th>message</th>\n",
       "    </tr>\n",
       "    <tr>\n",
       "      <th>inserted_at</th>\n",
       "      <th></th>\n",
       "    </tr>\n",
       "  </thead>\n",
       "  <tbody>\n",
       "    <tr>\n",
       "      <th>2021-11-01 00:02:34+09:00</th>\n",
       "      <td>12P完璧にどっかの骨川で草</td>\n",
       "    </tr>\n",
       "    <tr>\n",
       "      <th>2021-11-01 00:02:46+09:00</th>\n",
       "      <td>コメ欄でアニメ化を知って感想吹き飛んだ笑</td>\n",
       "    </tr>\n",
       "    <tr>\n",
       "      <th>2021-11-01 00:03:42+09:00</th>\n",
       "      <td>うんこが漏れそうは草</td>\n",
       "    </tr>\n",
       "    <tr>\n",
       "      <th>2021-11-01 00:05:14+09:00</th>\n",
       "      <td>ハナクソ草</td>\n",
       "    </tr>\n",
       "    <tr>\n",
       "      <th>2021-11-01 00:05:23+09:00</th>\n",
       "      <td>残りのうんこ爆弾が…www</td>\n",
       "    </tr>\n",
       "    <tr>\n",
       "      <th>...</th>\n",
       "      <td>...</td>\n",
       "    </tr>\n",
       "    <tr>\n",
       "      <th>2022-03-31 13:04:39+09:00</th>\n",
       "      <td>ペニーチンコスw</td>\n",
       "    </tr>\n",
       "    <tr>\n",
       "      <th>2022-03-31 13:53:46+09:00</th>\n",
       "      <td>トニとおばさんなんか好きww</td>\n",
       "    </tr>\n",
       "    <tr>\n",
       "      <th>2022-03-31 16:09:38+09:00</th>\n",
       "      <td>らんまw</td>\n",
       "    </tr>\n",
       "    <tr>\n",
       "      <th>2022-03-31 16:11:23+09:00</th>\n",
       "      <td>ぷりんです ららららいwww</td>\n",
       "    </tr>\n",
       "    <tr>\n",
       "      <th>2022-03-31 18:47:30+09:00</th>\n",
       "      <td>雷(トニト)一閃は草</td>\n",
       "    </tr>\n",
       "  </tbody>\n",
       "</table>\n",
       "<p>5832 rows × 1 columns</p>\n",
       "</div>"
      ],
      "text/plain": [
       "                                        message\n",
       "inserted_at                                    \n",
       "2021-11-01 00:02:34+09:00        12P完璧にどっかの骨川で草\n",
       "2021-11-01 00:02:46+09:00  コメ欄でアニメ化を知って感想吹き飛んだ笑\n",
       "2021-11-01 00:03:42+09:00            うんこが漏れそうは草\n",
       "2021-11-01 00:05:14+09:00                 ハナクソ草\n",
       "2021-11-01 00:05:23+09:00         残りのうんこ爆弾が…www\n",
       "...                                         ...\n",
       "2022-03-31 13:04:39+09:00              ペニーチンコスw\n",
       "2022-03-31 13:53:46+09:00        トニとおばさんなんか好きww\n",
       "2022-03-31 16:09:38+09:00                  らんまw\n",
       "2022-03-31 16:11:23+09:00        ぷりんです ららららいwww\n",
       "2022-03-31 18:47:30+09:00            雷(トニト)一閃は草\n",
       "\n",
       "[5832 rows x 1 columns]"
      ]
     },
     "execution_count": 4,
     "metadata": {},
     "output_type": "execute_result"
    }
   ],
   "source": [
    "df_only_target = df_comment_time[df_comment_time[\"message\"].str.match('.*(草|w|笑)$')]\n",
    "df_only_target"
   ]
  },
  {
   "cell_type": "markdown",
   "id": "d79d8ef8-c4a3-4754-892e-2aedcc6ffc4c",
   "metadata": {},
   "source": [
    "## 人がよく「w,草,笑」を文末で使う時間帯の可視化\n",
    "### 時間帯ごとのデータの切り方の例"
   ]
  },
  {
   "cell_type": "code",
   "execution_count": 5,
   "id": "b36b85b7-6c67-4fb6-9baa-fcf906a3b851",
   "metadata": {},
   "outputs": [],
   "source": [
    "hoge = df_only_target.between_time(\"0:00:00\", \"6:00:00\")\n",
    "hoge.index = hoge.index.strftime('%Y年%m月%d日 %H時%M分%S秒') # 日本時間に変換できているかの確認用"
   ]
  },
  {
   "cell_type": "markdown",
   "id": "ba159ca4-e23d-4846-aa8d-fbe65f2d9b33",
   "metadata": {},
   "source": [
    "### 2時間毎にデータの内訳を確認"
   ]
  },
  {
   "cell_type": "code",
   "execution_count": 6,
   "id": "5547cf6c-15eb-4e4b-b6ec-45fb1397d477",
   "metadata": {},
   "outputs": [
    {
     "name": "stdout",
     "output_type": "stream",
     "text": [
      "0時 - 2時\t| 5.79% \ttotal: 40676, \ttarget: 2355\n",
      "2時 - 4時\t| 5.08% \ttotal: 6402, \ttarget: 325\n",
      "4時 - 6時\t| 4.86% \ttotal: 3433, \ttarget: 167\n",
      "6時 - 8時\t| 5.10% \ttotal: 7764, \ttarget: 396\n",
      "8時 - 10時\t| 5.57% \ttotal: 9013, \ttarget: 502\n",
      "10時 - 12時\t| 6.11% \ttotal: 6347, \ttarget: 388\n",
      "12時 - 14時\t| 6.16% \ttotal: 6412, \ttarget: 395\n",
      "14時 - 16時\t| 7.02% \ttotal: 4204, \ttarget: 295\n",
      "16時 - 18時\t| 6.22% \ttotal: 3984, \ttarget: 248\n",
      "18時 - 20時\t| 5.75% \ttotal: 4139, \ttarget: 238\n",
      "20時 - 22時\t| 5.41% \ttotal: 4440, \ttarget: 240\n",
      "22時 - 0時\t| 6.45% \ttotal: 4406, \ttarget: 284\n"
     ]
    }
   ],
   "source": [
    "delimitation = list(range(0,24,2))\n",
    "delimitation.append(0)\n",
    "total_arr = []\n",
    "target_arr = []\n",
    "rate_arr = []\n",
    "for i in range(len(delimitation) - 1):\n",
    "    total_num = df_comment_time.between_time(\"{}:00:00\".format(delimitation[i]),\n",
    "                                             \"{}:00:00\".format(delimitation[i+1])).shape[0]\n",
    "    target_num = df_only_target.between_time(\"{}:00:00\".format(delimitation[i]),\n",
    "                                             \"{}:00:00\".format(delimitation[i+1])).shape[0]\n",
    "    total_arr.append(total_num)\n",
    "    target_arr.append(target_num)\n",
    "    rate_arr.append(target_num / total_num * 100)\n",
    "    print(\"{0}時 - {1}時\\t| {2:.2f}% \\ttotal: {3}, \\ttarget: {4}\".format(delimitation[i],\n",
    "                                                                        delimitation[i+1],\n",
    "                                                                        rate_arr[-1], \n",
    "                                                                        total_num,\n",
    "                                                                        target_num))"
   ]
  },
  {
   "cell_type": "markdown",
   "id": "0000e63b-d1d8-4acb-b80b-98af591aeaa3",
   "metadata": {},
   "source": [
    "### ヒストグラムの描画\n",
    "#### 全てのコメント数"
   ]
  },
  {
   "cell_type": "code",
   "execution_count": 7,
   "id": "9d068689-e329-4e77-aff9-b2e812524236",
   "metadata": {},
   "outputs": [
    {
     "data": {
      "image/png": "[encoded data removed]",
      "text/plain": [
       "<Figure size 432x288 with 1 Axes>"
      ]
     },
     "metadata": {
      "needs_background": "light"
     },
     "output_type": "display_data"
    }
   ],
   "source": [
    "plt.hist(np.asarray(df_comment_time.index.hour), bins=24)\n",
    "plt.show()"
   ]
  },
  {
   "cell_type": "markdown",
   "id": "0c08d7df-1fa6-4657-b1ba-ce418dd0f2b5",
   "metadata": {},
   "source": [
    "#### 対象となるコメント数"
   ]
  },
  {
   "cell_type": "code",
   "execution_count": 8,
   "id": "d1b7fdec-1adc-4127-8170-f4397b861282",
   "metadata": {},
   "outputs": [
    {
     "data": {
      "image/png": "[encoded data removed]",
      "text/plain": [
       "<Figure size 432x288 with 1 Axes>"
      ]
     },
     "metadata": {
      "needs_background": "light"
     },
     "output_type": "display_data"
    }
   ],
   "source": [
    "plt.hist(np.asarray(df_only_target.index.hour), bins=24)\n",
    "plt.show()"
   ]
  },
  {
   "cell_type": "code",
   "execution_count": 9,
   "id": "62430ca3-bcd8-426b-b07e-2c2e6563d999",
   "metadata": {},
   "outputs": [
    {
     "data": {
      "image/png": "[encoded data removed]",
      "text/plain": [
       "<Figure size 432x288 with 1 Axes>"
      ]
     },
     "metadata": {
      "needs_background": "light"
     },
     "output_type": "display_data"
    }
   ],
   "source": [
    "plt.plot(delimitation[:-1], rate_arr)\n",
    "plt.title(\"対象となる単語の割合\")\n",
    "plt.xlabel(\"時間帯\") \n",
    "plt.ylabel(\"割合[%]\") \n",
    "plt.grid(True)"
   ]
  }
 ],
 "metadata": {
  "kernelspec": {
   "display_name": "Python 3 (ipykernel)",
   "language": "python",
   "name": "python3"
  },
  "language_info": {
   "codemirror_mode": {
    "name": "ipython",
    "version": 3
   },
   "file_extension": ".py",
   "mimetype": "text/x-python",
   "name": "python",
   "nbconvert_exporter": "python",
   "pygments_lexer": "ipython3",
   "version": "3.8.13"
  }
 },
 "nbformat": 4,
 "nbformat_minor": 5
}
