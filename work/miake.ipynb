{
 "cells": [
  {
   "cell_type": "markdown",
   "id": "f411bc08-e1ae-48d7-911b-c7260e888b61",
   "metadata": {
    "tags": []
   },
   "source": [
    "# 三明のノートブック\n",
    "## 分析内容\n",
    "視聴時間毎の文末における「草」の頻度分析"
   ]
  },
  {
   "cell_type": "markdown",
   "id": "1fd0a063-7d18-43db-a1bb-7ea4979b14c4",
   "metadata": {},
   "source": [
    "## 前処理\n",
    "### 汎用的なものをimport"
   ]
  },
  {
   "cell_type": "code",
   "execution_count": 1,
   "id": "f634ed7c-dfbb-4af1-85be-d41314bc5f09",
   "metadata": {},
   "outputs": [],
   "source": [
    "import os\n",
    "import pandas as pd\n",
    "import numpy as np\n",
    "from matplotlib import pyplot as plt\n",
    "import datetime as dt"
   ]
  },
  {
   "cell_type": "markdown",
   "id": "b61f9337-66e1-42b9-9ff2-08a1ec86d113",
   "metadata": {},
   "source": [
    "### データの読み込み"
   ]
  },
  {
   "cell_type": "code",
   "execution_count": 2,
   "id": "49d330da-4ef7-44a5-b5c1-1e87fe3fdbd9",
   "metadata": {},
   "outputs": [],
   "source": [
    "df_comment = pd.read_csv(\"./data/comments.csv\", header=0, index_col=None, parse_dates=[\"inserted_at\"])"
   ]
  },
  {
   "cell_type": "markdown",
   "id": "8c33f124-09e1-415a-b961-e9a1cae6b850",
   "metadata": {},
   "source": [
    "### 時間とコメントのみの分析"
   ]
  },
  {
   "cell_type": "code",
   "execution_count": 3,
   "id": "7db1b81c-99e2-4a42-b993-11c516714357",
   "metadata": {},
   "outputs": [
    {
     "data": {
      "text/html": [
       "<div>\n",
       "<style scoped>\n",
       "    .dataframe tbody tr th:only-of-type {\n",
       "        vertical-align: middle;\n",
       "    }\n",
       "\n",
       "    .dataframe tbody tr th {\n",
       "        vertical-align: top;\n",
       "    }\n",
       "\n",
       "    .dataframe thead th {\n",
       "        text-align: right;\n",
       "    }\n",
       "</style>\n",
       "<table border=\"1\" class=\"dataframe\">\n",
       "  <thead>\n",
       "    <tr style=\"text-align: right;\">\n",
       "      <th></th>\n",
       "      <th>content_id</th>\n",
       "      <th>message</th>\n",
       "    </tr>\n",
       "    <tr>\n",
       "      <th>inserted_at</th>\n",
       "      <th></th>\n",
       "      <th></th>\n",
       "    </tr>\n",
       "  </thead>\n",
       "  <tbody>\n",
       "    <tr>\n",
       "      <th>2021-11-01 00:00:16+09:00</th>\n",
       "      <td>1016369</td>\n",
       "      <td>アニメ化おめでとう！！！！！</td>\n",
       "    </tr>\n",
       "    <tr>\n",
       "      <th>2021-11-01 00:00:30+09:00</th>\n",
       "      <td>1016369</td>\n",
       "      <td>アニメ化おめでとう！！まじか？！</td>\n",
       "    </tr>\n",
       "    <tr>\n",
       "      <th>2021-11-01 00:00:35+09:00</th>\n",
       "      <td>1016369</td>\n",
       "      <td>遂にアニメ化来た！おめでとう！！！！</td>\n",
       "    </tr>\n",
       "    <tr>\n",
       "      <th>2021-11-01 00:00:40+09:00</th>\n",
       "      <td>1016369</td>\n",
       "      <td>やっぱりアニメ化か！おめでとうございます🎊</td>\n",
       "    </tr>\n",
       "    <tr>\n",
       "      <th>2021-11-01 00:00:41+09:00</th>\n",
       "      <td>1016369</td>\n",
       "      <td>おめでとうアニメ化！アーニャ可愛いなぁ</td>\n",
       "    </tr>\n",
       "    <tr>\n",
       "      <th>...</th>\n",
       "      <td>...</td>\n",
       "      <td>...</td>\n",
       "    </tr>\n",
       "    <tr>\n",
       "      <th>2022-03-31 18:27:27+09:00</th>\n",
       "      <td>1026940</td>\n",
       "      <td>キャラデザすごすぎぃ…ウルト○マンに出てくる怪獣みたいに洗練されてるじゃん…</td>\n",
       "    </tr>\n",
       "    <tr>\n",
       "      <th>2022-03-31 18:47:30+09:00</th>\n",
       "      <td>1025345</td>\n",
       "      <td>雷(トニト)一閃は草</td>\n",
       "    </tr>\n",
       "    <tr>\n",
       "      <th>2022-03-31 19:18:28+09:00</th>\n",
       "      <td>1026940</td>\n",
       "      <td>ジジは何食べてそんなにデカくなったんだ</td>\n",
       "    </tr>\n",
       "    <tr>\n",
       "      <th>2022-03-31 19:23:10+09:00</th>\n",
       "      <td>1016995</td>\n",
       "      <td>最高だわ…</td>\n",
       "    </tr>\n",
       "    <tr>\n",
       "      <th>2022-03-31 19:30:15+09:00</th>\n",
       "      <td>1026940</td>\n",
       "      <td>やぱぱーって歌ってんじゃんよ！</td>\n",
       "    </tr>\n",
       "  </tbody>\n",
       "</table>\n",
       "<p>101213 rows × 2 columns</p>\n",
       "</div>"
      ],
      "text/plain": [
       "                           content_id                                 message\n",
       "inserted_at                                                                  \n",
       "2021-11-01 00:00:16+09:00     1016369                          アニメ化おめでとう！！！！！\n",
       "2021-11-01 00:00:30+09:00     1016369                        アニメ化おめでとう！！まじか？！\n",
       "2021-11-01 00:00:35+09:00     1016369                      遂にアニメ化来た！おめでとう！！！！\n",
       "2021-11-01 00:00:40+09:00     1016369                   やっぱりアニメ化か！おめでとうございます🎊\n",
       "2021-11-01 00:00:41+09:00     1016369                     おめでとうアニメ化！アーニャ可愛いなぁ\n",
       "...                               ...                                     ...\n",
       "2022-03-31 18:27:27+09:00     1026940  キャラデザすごすぎぃ…ウルト○マンに出てくる怪獣みたいに洗練されてるじゃん…\n",
       "2022-03-31 18:47:30+09:00     1025345                              雷(トニト)一閃は草\n",
       "2022-03-31 19:18:28+09:00     1026940                     ジジは何食べてそんなにデカくなったんだ\n",
       "2022-03-31 19:23:10+09:00     1016995                                   最高だわ…\n",
       "2022-03-31 19:30:15+09:00     1026940                         やぱぱーって歌ってんじゃんよ！\n",
       "\n",
       "[101213 rows x 2 columns]"
      ]
     },
     "execution_count": 3,
     "metadata": {},
     "output_type": "execute_result"
    }
   ],
   "source": [
    "# データの切り出し\n",
    "df_com_time  = df_comment[[\"inserted_at\",\"message\",\"content_id\"]].copy()\n",
    "df_com_time[\"inserted_at\"] = pd.to_datetime(df_com_time[\"inserted_at\"],utc=True)\n",
    "# 日本時間にする\n",
    "df_com_time.index = pd.DatetimeIndex(df_com_time.inserted_at, name=\"inserted_at\")\n",
    "df_com_time.index = df_com_time.index.tz_convert(\"Asia/Tokyo\")\n",
    "df_comment_time = df_com_time[[\"content_id\",\"message\"]].copy()\n",
    "df_comment_time\n",
    "\n",
    "#df_com_time.inserted_at = df_com_time.index\n",
    "# df_com_time.index = df_com_time.index.strftime('%Y年%m月%d日 %H時%M分%S秒') # 日本時間に変換できているかの確認用\n",
    "# df_comment_time = df_com_time.reset_index(drop=True).copy()"
   ]
  },
  {
   "cell_type": "markdown",
   "id": "61a649d5-a0e6-4bf9-b98e-b8c7c6c46670",
   "metadata": {},
   "source": [
    "### 文末が特定のワードのものを抜き出す  \n",
    "抜き出すワード  \n",
    "- 草\n",
    "- w\n",
    "- 笑"
   ]
  },
  {
   "cell_type": "code",
   "execution_count": 4,
   "id": "5757309f-225e-4034-9d92-4ffa61498967",
   "metadata": {},
   "outputs": [
    {
     "data": {
      "text/html": [
       "<div>\n",
       "<style scoped>\n",
       "    .dataframe tbody tr th:only-of-type {\n",
       "        vertical-align: middle;\n",
       "    }\n",
       "\n",
       "    .dataframe tbody tr th {\n",
       "        vertical-align: top;\n",
       "    }\n",
       "\n",
       "    .dataframe thead th {\n",
       "        text-align: right;\n",
       "    }\n",
       "</style>\n",
       "<table border=\"1\" class=\"dataframe\">\n",
       "  <thead>\n",
       "    <tr style=\"text-align: right;\">\n",
       "      <th></th>\n",
       "      <th>content_id</th>\n",
       "      <th>message</th>\n",
       "    </tr>\n",
       "    <tr>\n",
       "      <th>inserted_at</th>\n",
       "      <th></th>\n",
       "      <th></th>\n",
       "    </tr>\n",
       "  </thead>\n",
       "  <tbody>\n",
       "    <tr>\n",
       "      <th>2021-11-01 00:02:34+09:00</th>\n",
       "      <td>1016369</td>\n",
       "      <td>12P完璧にどっかの骨川で草</td>\n",
       "    </tr>\n",
       "    <tr>\n",
       "      <th>2021-11-01 00:02:46+09:00</th>\n",
       "      <td>1016369</td>\n",
       "      <td>コメ欄でアニメ化を知って感想吹き飛んだ笑</td>\n",
       "    </tr>\n",
       "    <tr>\n",
       "      <th>2021-11-01 00:03:42+09:00</th>\n",
       "      <td>1016369</td>\n",
       "      <td>うんこが漏れそうは草</td>\n",
       "    </tr>\n",
       "    <tr>\n",
       "      <th>2021-11-01 00:05:14+09:00</th>\n",
       "      <td>1016369</td>\n",
       "      <td>ハナクソ草</td>\n",
       "    </tr>\n",
       "    <tr>\n",
       "      <th>2021-11-01 00:05:23+09:00</th>\n",
       "      <td>1016369</td>\n",
       "      <td>残りのうんこ爆弾が…www</td>\n",
       "    </tr>\n",
       "    <tr>\n",
       "      <th>...</th>\n",
       "      <td>...</td>\n",
       "      <td>...</td>\n",
       "    </tr>\n",
       "    <tr>\n",
       "      <th>2022-03-31 13:04:39+09:00</th>\n",
       "      <td>1026940</td>\n",
       "      <td>ペニーチンコスw</td>\n",
       "    </tr>\n",
       "    <tr>\n",
       "      <th>2022-03-31 13:53:46+09:00</th>\n",
       "      <td>1025345</td>\n",
       "      <td>トニとおばさんなんか好きww</td>\n",
       "    </tr>\n",
       "    <tr>\n",
       "      <th>2022-03-31 16:09:38+09:00</th>\n",
       "      <td>1026359</td>\n",
       "      <td>らんまw</td>\n",
       "    </tr>\n",
       "    <tr>\n",
       "      <th>2022-03-31 16:11:23+09:00</th>\n",
       "      <td>1018845</td>\n",
       "      <td>ぷりんです ららららいwww</td>\n",
       "    </tr>\n",
       "    <tr>\n",
       "      <th>2022-03-31 18:47:30+09:00</th>\n",
       "      <td>1025345</td>\n",
       "      <td>雷(トニト)一閃は草</td>\n",
       "    </tr>\n",
       "  </tbody>\n",
       "</table>\n",
       "<p>5832 rows × 2 columns</p>\n",
       "</div>"
      ],
      "text/plain": [
       "                           content_id               message\n",
       "inserted_at                                                \n",
       "2021-11-01 00:02:34+09:00     1016369        12P完璧にどっかの骨川で草\n",
       "2021-11-01 00:02:46+09:00     1016369  コメ欄でアニメ化を知って感想吹き飛んだ笑\n",
       "2021-11-01 00:03:42+09:00     1016369            うんこが漏れそうは草\n",
       "2021-11-01 00:05:14+09:00     1016369                 ハナクソ草\n",
       "2021-11-01 00:05:23+09:00     1016369         残りのうんこ爆弾が…www\n",
       "...                               ...                   ...\n",
       "2022-03-31 13:04:39+09:00     1026940              ペニーチンコスw\n",
       "2022-03-31 13:53:46+09:00     1025345        トニとおばさんなんか好きww\n",
       "2022-03-31 16:09:38+09:00     1026359                  らんまw\n",
       "2022-03-31 16:11:23+09:00     1018845        ぷりんです ららららいwww\n",
       "2022-03-31 18:47:30+09:00     1025345            雷(トニト)一閃は草\n",
       "\n",
       "[5832 rows x 2 columns]"
      ]
     },
     "execution_count": 4,
     "metadata": {},
     "output_type": "execute_result"
    }
   ],
   "source": [
    "df_only_target = df_comment_time[df_comment_time[\"message\"].str.match('.*(草|w|笑)$')]\n",
    "df_only_target"
   ]
  },
  {
   "cell_type": "markdown",
   "id": "d79d8ef8-c4a3-4754-892e-2aedcc6ffc4c",
   "metadata": {},
   "source": [
    "## 人がよく「w,草,笑」を文末で使う時間帯の可視化\n",
    "### 時間帯ごとのデータの切り方の例"
   ]
  },
  {
   "cell_type": "code",
   "execution_count": 5,
   "id": "b36b85b7-6c67-4fb6-9baa-fcf906a3b851",
   "metadata": {},
   "outputs": [],
   "source": [
    "hoge = df_only_target.between_time(\"0:00:00\", \"6:00:00\")\n",
    "hoge.index = hoge.index.strftime('%Y年%m月%d日 %H時%M分%S秒') # 日本時間に変換できているかの確認用"
   ]
  },
  {
   "cell_type": "markdown",
   "id": "ba159ca4-e23d-4846-aa8d-fbe65f2d9b33",
   "metadata": {},
   "source": [
    "### 2時間毎にデータの内訳を確認"
   ]
  },
  {
   "cell_type": "code",
   "execution_count": 6,
   "id": "5547cf6c-15eb-4e4b-b6ec-45fb1397d477",
   "metadata": {},
   "outputs": [
    {
     "name": "stdout",
     "output_type": "stream",
     "text": [
      "0時 - 2時\t| 5.79% \ttotal: 40676, \ttarget: 2355\n",
      "2時 - 4時\t| 5.08% \ttotal: 6402, \ttarget: 325\n",
      "4時 - 6時\t| 4.86% \ttotal: 3433, \ttarget: 167\n",
      "6時 - 8時\t| 5.10% \ttotal: 7764, \ttarget: 396\n",
      "8時 - 10時\t| 5.57% \ttotal: 9013, \ttarget: 502\n",
      "10時 - 12時\t| 6.11% \ttotal: 6347, \ttarget: 388\n",
      "12時 - 14時\t| 6.16% \ttotal: 6412, \ttarget: 395\n",
      "14時 - 16時\t| 7.02% \ttotal: 4204, \ttarget: 295\n",
      "16時 - 18時\t| 6.22% \ttotal: 3984, \ttarget: 248\n",
      "18時 - 20時\t| 5.75% \ttotal: 4139, \ttarget: 238\n",
      "20時 - 22時\t| 5.41% \ttotal: 4440, \ttarget: 240\n",
      "22時 - 0時\t| 6.45% \ttotal: 4406, \ttarget: 284\n"
     ]
    }
   ],
   "source": [
    "delimitation = list(range(0,24,2))\n",
    "delimitation.append(0)\n",
    "rate_arr = []　# 対象となる単語を含むコメントの割合\n",
    "for i in range(len(delimitation) - 1):\n",
    "    total_num = df_comment_time.between_time(\"{}:00:00\".format(delimitation[i]),\n",
    "                                             \"{}:00:00\".format(delimitation[i+1])).shape[0]\n",
    "    target_num = df_only_target.between_time(\"{}:00:00\".format(delimitation[i]),\n",
    "                                             \"{}:00:00\".format(delimitation[i+1])).shape[0]\n",
    "    rate_arr.append(target_num / total_num * 100)\n",
    "    print(\"{0}時 - {1}時\\t| {2:.2f}% \\ttotal: {3}, \\ttarget: {4}\".format(delimitation[i],\n",
    "                                                                        delimitation[i+1],\n",
    "                                                                        rate_arr[-1], \n",
    "                                                                        total_num,\n",
    "                                                                        target_num))"
   ]
  },
  {
   "cell_type": "markdown",
   "id": "0000e63b-d1d8-4acb-b80b-98af591aeaa3",
   "metadata": {},
   "source": [
    "### ヒストグラムの描画\n",
    "#### 全てのコメント数"
   ]
  },
  {
   "cell_type": "code",
   "execution_count": null,
   "id": "9d068689-e329-4e77-aff9-b2e812524236",
   "metadata": {},
   "outputs": [
    {
     "ename": "AttributeError",
     "evalue": "'Rectangle' object has no property 'fontsize'",
     "output_type": "error",
     "traceback": [
      "\u001b[0;31m---------------------------------------------------------------------------\u001b[0m",
      "\u001b[0;31mAttributeError\u001b[0m                            Traceback (most recent call last)",
      "Input \u001b[0;32mIn [62]\u001b[0m, in \u001b[0;36m<cell line: 1>\u001b[0;34m()\u001b[0m\n\u001b[0;32m----> 1\u001b[0m \u001b[43mplt\u001b[49m\u001b[38;5;241;43m.\u001b[39;49m\u001b[43mhist\u001b[49m\u001b[43m(\u001b[49m\u001b[43mnp\u001b[49m\u001b[38;5;241;43m.\u001b[39;49m\u001b[43masarray\u001b[49m\u001b[43m(\u001b[49m\u001b[43mdf_comment_time\u001b[49m\u001b[38;5;241;43m.\u001b[39;49m\u001b[43mindex\u001b[49m\u001b[38;5;241;43m.\u001b[39;49m\u001b[43mhour\u001b[49m\u001b[43m)\u001b[49m\u001b[43m,\u001b[49m\u001b[43m \u001b[49m\u001b[43mbins\u001b[49m\u001b[38;5;241;43m=\u001b[39;49m\u001b[38;5;241;43m24\u001b[39;49m\u001b[43m,\u001b[49m\u001b[43m \u001b[49m\u001b[43mfontsize\u001b[49m\u001b[38;5;241;43m=\u001b[39;49m\u001b[38;5;241;43m12\u001b[39;49m\u001b[43m)\u001b[49m\n\u001b[1;32m      2\u001b[0m plt\u001b[38;5;241m.\u001b[39mshow()\n",
      "File \u001b[0;32m/usr/local/lib/python3.8/site-packages/matplotlib/pyplot.py:2590\u001b[0m, in \u001b[0;36mhist\u001b[0;34m(x, bins, range, density, weights, cumulative, bottom, histtype, align, orientation, rwidth, log, color, label, stacked, data, **kwargs)\u001b[0m\n\u001b[1;32m   2584\u001b[0m \u001b[38;5;129m@_copy_docstring_and_deprecators\u001b[39m(Axes\u001b[38;5;241m.\u001b[39mhist)\n\u001b[1;32m   2585\u001b[0m \u001b[38;5;28;01mdef\u001b[39;00m \u001b[38;5;21mhist\u001b[39m(\n\u001b[1;32m   2586\u001b[0m         x, bins\u001b[38;5;241m=\u001b[39m\u001b[38;5;28;01mNone\u001b[39;00m, \u001b[38;5;28mrange\u001b[39m\u001b[38;5;241m=\u001b[39m\u001b[38;5;28;01mNone\u001b[39;00m, density\u001b[38;5;241m=\u001b[39m\u001b[38;5;28;01mFalse\u001b[39;00m, weights\u001b[38;5;241m=\u001b[39m\u001b[38;5;28;01mNone\u001b[39;00m,\n\u001b[1;32m   2587\u001b[0m         cumulative\u001b[38;5;241m=\u001b[39m\u001b[38;5;28;01mFalse\u001b[39;00m, bottom\u001b[38;5;241m=\u001b[39m\u001b[38;5;28;01mNone\u001b[39;00m, histtype\u001b[38;5;241m=\u001b[39m\u001b[38;5;124m'\u001b[39m\u001b[38;5;124mbar\u001b[39m\u001b[38;5;124m'\u001b[39m, align\u001b[38;5;241m=\u001b[39m\u001b[38;5;124m'\u001b[39m\u001b[38;5;124mmid\u001b[39m\u001b[38;5;124m'\u001b[39m,\n\u001b[1;32m   2588\u001b[0m         orientation\u001b[38;5;241m=\u001b[39m\u001b[38;5;124m'\u001b[39m\u001b[38;5;124mvertical\u001b[39m\u001b[38;5;124m'\u001b[39m, rwidth\u001b[38;5;241m=\u001b[39m\u001b[38;5;28;01mNone\u001b[39;00m, log\u001b[38;5;241m=\u001b[39m\u001b[38;5;28;01mFalse\u001b[39;00m, color\u001b[38;5;241m=\u001b[39m\u001b[38;5;28;01mNone\u001b[39;00m,\n\u001b[1;32m   2589\u001b[0m         label\u001b[38;5;241m=\u001b[39m\u001b[38;5;28;01mNone\u001b[39;00m, stacked\u001b[38;5;241m=\u001b[39m\u001b[38;5;28;01mFalse\u001b[39;00m, \u001b[38;5;241m*\u001b[39m, data\u001b[38;5;241m=\u001b[39m\u001b[38;5;28;01mNone\u001b[39;00m, \u001b[38;5;241m*\u001b[39m\u001b[38;5;241m*\u001b[39mkwargs):\n\u001b[0;32m-> 2590\u001b[0m     \u001b[38;5;28;01mreturn\u001b[39;00m \u001b[43mgca\u001b[49m\u001b[43m(\u001b[49m\u001b[43m)\u001b[49m\u001b[38;5;241;43m.\u001b[39;49m\u001b[43mhist\u001b[49m\u001b[43m(\u001b[49m\n\u001b[1;32m   2591\u001b[0m \u001b[43m        \u001b[49m\u001b[43mx\u001b[49m\u001b[43m,\u001b[49m\u001b[43m \u001b[49m\u001b[43mbins\u001b[49m\u001b[38;5;241;43m=\u001b[39;49m\u001b[43mbins\u001b[49m\u001b[43m,\u001b[49m\u001b[43m \u001b[49m\u001b[38;5;28;43mrange\u001b[39;49m\u001b[38;5;241;43m=\u001b[39;49m\u001b[38;5;28;43mrange\u001b[39;49m\u001b[43m,\u001b[49m\u001b[43m \u001b[49m\u001b[43mdensity\u001b[49m\u001b[38;5;241;43m=\u001b[39;49m\u001b[43mdensity\u001b[49m\u001b[43m,\u001b[49m\u001b[43m \u001b[49m\u001b[43mweights\u001b[49m\u001b[38;5;241;43m=\u001b[39;49m\u001b[43mweights\u001b[49m\u001b[43m,\u001b[49m\n\u001b[1;32m   2592\u001b[0m \u001b[43m        \u001b[49m\u001b[43mcumulative\u001b[49m\u001b[38;5;241;43m=\u001b[39;49m\u001b[43mcumulative\u001b[49m\u001b[43m,\u001b[49m\u001b[43m \u001b[49m\u001b[43mbottom\u001b[49m\u001b[38;5;241;43m=\u001b[39;49m\u001b[43mbottom\u001b[49m\u001b[43m,\u001b[49m\u001b[43m \u001b[49m\u001b[43mhisttype\u001b[49m\u001b[38;5;241;43m=\u001b[39;49m\u001b[43mhisttype\u001b[49m\u001b[43m,\u001b[49m\n\u001b[1;32m   2593\u001b[0m \u001b[43m        \u001b[49m\u001b[43malign\u001b[49m\u001b[38;5;241;43m=\u001b[39;49m\u001b[43malign\u001b[49m\u001b[43m,\u001b[49m\u001b[43m \u001b[49m\u001b[43morientation\u001b[49m\u001b[38;5;241;43m=\u001b[39;49m\u001b[43morientation\u001b[49m\u001b[43m,\u001b[49m\u001b[43m \u001b[49m\u001b[43mrwidth\u001b[49m\u001b[38;5;241;43m=\u001b[39;49m\u001b[43mrwidth\u001b[49m\u001b[43m,\u001b[49m\u001b[43m \u001b[49m\u001b[43mlog\u001b[49m\u001b[38;5;241;43m=\u001b[39;49m\u001b[43mlog\u001b[49m\u001b[43m,\u001b[49m\n\u001b[1;32m   2594\u001b[0m \u001b[43m        \u001b[49m\u001b[43mcolor\u001b[49m\u001b[38;5;241;43m=\u001b[39;49m\u001b[43mcolor\u001b[49m\u001b[43m,\u001b[49m\u001b[43m \u001b[49m\u001b[43mlabel\u001b[49m\u001b[38;5;241;43m=\u001b[39;49m\u001b[43mlabel\u001b[49m\u001b[43m,\u001b[49m\u001b[43m \u001b[49m\u001b[43mstacked\u001b[49m\u001b[38;5;241;43m=\u001b[39;49m\u001b[43mstacked\u001b[49m\u001b[43m,\u001b[49m\n\u001b[1;32m   2595\u001b[0m \u001b[43m        \u001b[49m\u001b[38;5;241;43m*\u001b[39;49m\u001b[38;5;241;43m*\u001b[39;49m\u001b[43m(\u001b[49m\u001b[43m{\u001b[49m\u001b[38;5;124;43m\"\u001b[39;49m\u001b[38;5;124;43mdata\u001b[39;49m\u001b[38;5;124;43m\"\u001b[39;49m\u001b[43m:\u001b[49m\u001b[43m \u001b[49m\u001b[43mdata\u001b[49m\u001b[43m}\u001b[49m\u001b[43m \u001b[49m\u001b[38;5;28;43;01mif\u001b[39;49;00m\u001b[43m \u001b[49m\u001b[43mdata\u001b[49m\u001b[43m \u001b[49m\u001b[38;5;129;43;01mis\u001b[39;49;00m\u001b[43m \u001b[49m\u001b[38;5;129;43;01mnot\u001b[39;49;00m\u001b[43m \u001b[49m\u001b[38;5;28;43;01mNone\u001b[39;49;00m\u001b[43m \u001b[49m\u001b[38;5;28;43;01melse\u001b[39;49;00m\u001b[43m \u001b[49m\u001b[43m{\u001b[49m\u001b[43m}\u001b[49m\u001b[43m)\u001b[49m\u001b[43m,\u001b[49m\u001b[43m \u001b[49m\u001b[38;5;241;43m*\u001b[39;49m\u001b[38;5;241;43m*\u001b[39;49m\u001b[43mkwargs\u001b[49m\u001b[43m)\u001b[49m\n",
      "File \u001b[0;32m/usr/local/lib/python3.8/site-packages/matplotlib/__init__.py:1412\u001b[0m, in \u001b[0;36m_preprocess_data.<locals>.inner\u001b[0;34m(ax, data, *args, **kwargs)\u001b[0m\n\u001b[1;32m   1409\u001b[0m \u001b[38;5;129m@functools\u001b[39m\u001b[38;5;241m.\u001b[39mwraps(func)\n\u001b[1;32m   1410\u001b[0m \u001b[38;5;28;01mdef\u001b[39;00m \u001b[38;5;21minner\u001b[39m(ax, \u001b[38;5;241m*\u001b[39margs, data\u001b[38;5;241m=\u001b[39m\u001b[38;5;28;01mNone\u001b[39;00m, \u001b[38;5;241m*\u001b[39m\u001b[38;5;241m*\u001b[39mkwargs):\n\u001b[1;32m   1411\u001b[0m     \u001b[38;5;28;01mif\u001b[39;00m data \u001b[38;5;129;01mis\u001b[39;00m \u001b[38;5;28;01mNone\u001b[39;00m:\n\u001b[0;32m-> 1412\u001b[0m         \u001b[38;5;28;01mreturn\u001b[39;00m \u001b[43mfunc\u001b[49m\u001b[43m(\u001b[49m\u001b[43max\u001b[49m\u001b[43m,\u001b[49m\u001b[43m \u001b[49m\u001b[38;5;241;43m*\u001b[39;49m\u001b[38;5;28;43mmap\u001b[39;49m\u001b[43m(\u001b[49m\u001b[43msanitize_sequence\u001b[49m\u001b[43m,\u001b[49m\u001b[43m \u001b[49m\u001b[43margs\u001b[49m\u001b[43m)\u001b[49m\u001b[43m,\u001b[49m\u001b[43m \u001b[49m\u001b[38;5;241;43m*\u001b[39;49m\u001b[38;5;241;43m*\u001b[39;49m\u001b[43mkwargs\u001b[49m\u001b[43m)\u001b[49m\n\u001b[1;32m   1414\u001b[0m     bound \u001b[38;5;241m=\u001b[39m new_sig\u001b[38;5;241m.\u001b[39mbind(ax, \u001b[38;5;241m*\u001b[39margs, \u001b[38;5;241m*\u001b[39m\u001b[38;5;241m*\u001b[39mkwargs)\n\u001b[1;32m   1415\u001b[0m     auto_label \u001b[38;5;241m=\u001b[39m (bound\u001b[38;5;241m.\u001b[39marguments\u001b[38;5;241m.\u001b[39mget(label_namer)\n\u001b[1;32m   1416\u001b[0m                   \u001b[38;5;129;01mor\u001b[39;00m bound\u001b[38;5;241m.\u001b[39mkwargs\u001b[38;5;241m.\u001b[39mget(label_namer))\n",
      "File \u001b[0;32m/usr/local/lib/python3.8/site-packages/matplotlib/axes/_axes.py:6791\u001b[0m, in \u001b[0;36mAxes.hist\u001b[0;34m(self, x, bins, range, density, weights, cumulative, bottom, histtype, align, orientation, rwidth, log, color, label, stacked, **kwargs)\u001b[0m\n\u001b[1;32m   6789\u001b[0m \u001b[38;5;28;01mif\u001b[39;00m patch:\n\u001b[1;32m   6790\u001b[0m     p \u001b[38;5;241m=\u001b[39m patch[\u001b[38;5;241m0\u001b[39m]\n\u001b[0;32m-> 6791\u001b[0m     \u001b[43mp\u001b[49m\u001b[38;5;241;43m.\u001b[39;49m\u001b[43mupdate\u001b[49m\u001b[43m(\u001b[49m\u001b[43mkwargs\u001b[49m\u001b[43m)\u001b[49m\n\u001b[1;32m   6792\u001b[0m     \u001b[38;5;28;01mif\u001b[39;00m lbl \u001b[38;5;129;01mis\u001b[39;00m \u001b[38;5;129;01mnot\u001b[39;00m \u001b[38;5;28;01mNone\u001b[39;00m:\n\u001b[1;32m   6793\u001b[0m         p\u001b[38;5;241m.\u001b[39mset_label(lbl)\n",
      "File \u001b[0;32m/usr/local/lib/python3.8/site-packages/matplotlib/artist.py:1064\u001b[0m, in \u001b[0;36mArtist.update\u001b[0;34m(self, props)\u001b[0m\n\u001b[1;32m   1062\u001b[0m             func \u001b[38;5;241m=\u001b[39m \u001b[38;5;28mgetattr\u001b[39m(\u001b[38;5;28mself\u001b[39m, \u001b[38;5;124mf\u001b[39m\u001b[38;5;124m\"\u001b[39m\u001b[38;5;124mset_\u001b[39m\u001b[38;5;132;01m{\u001b[39;00mk\u001b[38;5;132;01m}\u001b[39;00m\u001b[38;5;124m\"\u001b[39m, \u001b[38;5;28;01mNone\u001b[39;00m)\n\u001b[1;32m   1063\u001b[0m             \u001b[38;5;28;01mif\u001b[39;00m \u001b[38;5;129;01mnot\u001b[39;00m callable(func):\n\u001b[0;32m-> 1064\u001b[0m                 \u001b[38;5;28;01mraise\u001b[39;00m \u001b[38;5;167;01mAttributeError\u001b[39;00m(\u001b[38;5;124mf\u001b[39m\u001b[38;5;124m\"\u001b[39m\u001b[38;5;132;01m{\u001b[39;00m\u001b[38;5;28mtype\u001b[39m(\u001b[38;5;28mself\u001b[39m)\u001b[38;5;241m.\u001b[39m\u001b[38;5;18m__name__\u001b[39m\u001b[38;5;132;01m!r}\u001b[39;00m\u001b[38;5;124m object \u001b[39m\u001b[38;5;124m\"\u001b[39m\n\u001b[1;32m   1065\u001b[0m                                      \u001b[38;5;124mf\u001b[39m\u001b[38;5;124m\"\u001b[39m\u001b[38;5;124mhas no property \u001b[39m\u001b[38;5;132;01m{\u001b[39;00mk\u001b[38;5;132;01m!r}\u001b[39;00m\u001b[38;5;124m\"\u001b[39m)\n\u001b[1;32m   1066\u001b[0m             ret\u001b[38;5;241m.\u001b[39mappend(func(v))\n\u001b[1;32m   1067\u001b[0m \u001b[38;5;28;01mif\u001b[39;00m ret:\n",
      "\u001b[0;31mAttributeError\u001b[0m: 'Rectangle' object has no property 'fontsize'"
     ]
    },
    {
     "data": {
      "image/png": "[encoded data removed]",
      "text/plain": [
       "<Figure size 432x288 with 1 Axes>"
      ]
     },
     "metadata": {
      "needs_background": "light"
     },
     "output_type": "display_data"
    }
   ],
   "source": [
    "plt.hist(np.asarray(df_comment_time.index.hour), bins=24)\n",
    "plt.show()"
   ]
  },
  {
   "cell_type": "markdown",
   "id": "0c08d7df-1fa6-4657-b1ba-ce418dd0f2b5",
   "metadata": {},
   "source": [
    "#### 対象となるコメント数"
   ]
  },
  {
   "cell_type": "code",
   "execution_count": 8,
   "id": "d1b7fdec-1adc-4127-8170-f4397b861282",
   "metadata": {},
   "outputs": [
    {
     "data": {
      "image/png": "[encoded data removed]",
      "text/plain": [
       "<Figure size 432x288 with 1 Axes>"
      ]
     },
     "metadata": {
      "needs_background": "light"
     },
     "output_type": "display_data"
    }
   ],
   "source": [
    "plt.hist(np.asarray(df_only_target.index.hour), bins=24)\n",
    "plt.show()"
   ]
  },
  {
   "cell_type": "code",
   "execution_count": 9,
   "id": "62430ca3-bcd8-426b-b07e-2c2e6563d999",
   "metadata": {},
   "outputs": [
    {
     "data": {
      "image/png": "[encoded data removed]",
      "text/plain": [
       "<Figure size 432x288 with 1 Axes>"
      ]
     },
     "metadata": {
      "needs_background": "light"
     },
     "output_type": "display_data"
    }
   ],
   "source": [
    "plt.plot(delimitation[:-1], rate_arr)\n",
    "plt.title(\"対象となる単語を含むコメントの割合\")\n",
    "plt.xlabel(\"時間帯\") \n",
    "plt.ylabel(\"割合[%]\") \n",
    "plt.grid(True)"
   ]
  },
  {
   "cell_type": "markdown",
   "id": "6c99293b-6b1d-49b7-9b1c-6cbacee7fea9",
   "metadata": {},
   "source": [
    "## 作品ごとの文末表現の違い\n",
    "### データフレームの作成"
   ]
  },
  {
   "cell_type": "code",
   "execution_count": 38,
   "id": "20a11904-0bcf-4499-805b-909c71ad591a",
   "metadata": {},
   "outputs": [
    {
     "data": {
      "text/plain": [
       "['阿波連さんははかれない', '左ききのエレン', 'SPY×FAMILY', '怪獣８号', '鴨乃橋ロンの禁断推理', 'ダンダダン']"
      ]
     },
     "execution_count": 38,
     "metadata": {},
     "output_type": "execute_result"
    }
   ],
   "source": [
    "# データの読み出し\n",
    "df_con = pd.read_csv(\"./data/contents.csv\",header=0,index_col=None)\n",
    "df_com = pd.read_csv(\"./data/comments.csv\", header=0, index_col=None, parse_dates=[\"inserted_at\"])\n",
    "\n",
    "# データの切り出し\n",
    "df_com_reduced  = df_com[[\"inserted_at\",\"message\",\"content_id\"]]\n",
    "df_con_reduced  = df_con[[\"work_name\", \"content_id\"]]\n",
    "\n",
    "# データのマージ\n",
    "df_com_time = df_con_reduced.merge(df_com_reduced, on=[\"content_id\"])\n",
    "\n",
    "# 日本時間にする\n",
    "df_com_time[\"inserted_at\"] = pd.to_datetime(df_com_time[\"inserted_at\"],utc=True)\n",
    "df_com_time.index = pd.DatetimeIndex(df_com_time.inserted_at, name=\"inserted_at\")\n",
    "df_com_time.index = df_com_time.index.tz_convert(\"Asia/Tokyo\")\n",
    "df_comment_time = df_com_time[[\"work_name\",\"message\"]].copy()\n",
    "\n",
    "# 特定のワードで切り出す\n",
    "df_only_target = df_comment_time[df_comment_time[\"message\"].str.match('.*(草|w|笑)$')]"
   ]
  },
  {
   "cell_type": "markdown",
   "id": "6095504e-a70f-46ec-bef2-ad86d81d9ab3",
   "metadata": {},
   "source": [
    "### 作品毎の対象となる単語を含むコメントの割合を算出"
   ]
  },
  {
   "cell_type": "code",
   "execution_count": 43,
   "id": "7c4ef349-c3e2-4468-87c8-80b48ae49a6d",
   "metadata": {},
   "outputs": [
    {
     "name": "stdout",
     "output_type": "stream",
     "text": [
      "---------------------------------\n",
      "作品名: 阿波連さんははかれない\n",
      "0時 - 2時\t| 8.36% \ttotal: 1699, \ttarget: 142\n",
      "2時 - 4時\t| 6.46% \ttotal: 294, \ttarget: 19\n",
      "4時 - 6時\t| 11.03% \ttotal: 145, \ttarget: 16\n",
      "6時 - 8時\t| 7.09% \ttotal: 254, \ttarget: 18\n",
      "8時 - 10時\t| 5.91% \ttotal: 389, \ttarget: 23\n",
      "10時 - 12時\t| 7.64% \ttotal: 301, \ttarget: 23\n",
      "12時 - 14時\t| 8.04% \ttotal: 224, \ttarget: 18\n",
      "14時 - 16時\t| 7.59% \ttotal: 145, \ttarget: 11\n",
      "16時 - 18時\t| 2.44% \ttotal: 123, \ttarget: 3\n",
      "18時 - 20時\t| 6.48% \ttotal: 108, \ttarget: 7\n",
      "20時 - 22時\t| 8.03% \ttotal: 137, \ttarget: 11\n",
      "22時 - 0時\t| 7.04% \ttotal: 142, \ttarget: 10\n",
      "---------------------------------\n",
      "作品名: 左ききのエレン\n",
      "0時 - 2時\t| 3.21% \ttotal: 3144, \ttarget: 101\n",
      "2時 - 4時\t| 2.50% \ttotal: 440, \ttarget: 11\n",
      "4時 - 6時\t| 3.52% \ttotal: 284, \ttarget: 10\n",
      "6時 - 8時\t| 3.90% \ttotal: 487, \ttarget: 19\n",
      "8時 - 10時\t| 2.77% \ttotal: 613, \ttarget: 17\n",
      "10時 - 12時\t| 3.72% \ttotal: 430, \ttarget: 16\n",
      "12時 - 14時\t| 2.57% \ttotal: 389, \ttarget: 10\n",
      "14時 - 16時\t| 3.40% \ttotal: 265, \ttarget: 9\n",
      "16時 - 18時\t| 4.80% \ttotal: 229, \ttarget: 11\n",
      "18時 - 20時\t| 4.48% \ttotal: 223, \ttarget: 10\n",
      "20時 - 22時\t| 4.83% \ttotal: 207, \ttarget: 10\n",
      "22時 - 0時\t| 2.64% \ttotal: 227, \ttarget: 6\n",
      "---------------------------------\n",
      "作品名: SPY×FAMILY\n",
      "0時 - 2時\t| 9.87% \ttotal: 9419, \ttarget: 930\n",
      "2時 - 4時\t| 9.77% \ttotal: 1433, \ttarget: 140\n",
      "4時 - 6時\t| 7.55% \ttotal: 728, \ttarget: 55\n",
      "6時 - 8時\t| 8.35% \ttotal: 1592, \ttarget: 133\n",
      "8時 - 10時\t| 9.61% \ttotal: 2018, \ttarget: 194\n",
      "10時 - 12時\t| 10.82% \ttotal: 1544, \ttarget: 167\n",
      "12時 - 14時\t| 10.28% \ttotal: 1654, \ttarget: 170\n",
      "14時 - 16時\t| 12.10% \ttotal: 1223, \ttarget: 148\n",
      "16時 - 18時\t| 10.12% \ttotal: 1166, \ttarget: 118\n",
      "18時 - 20時\t| 9.53% \ttotal: 1280, \ttarget: 122\n",
      "20時 - 22時\t| 9.15% \ttotal: 1355, \ttarget: 124\n",
      "22時 - 0時\t| 9.70% \ttotal: 1392, \ttarget: 135\n",
      "---------------------------------\n",
      "作品名: 怪獣８号\n",
      "0時 - 2時\t| 1.80% \ttotal: 10764, \ttarget: 194\n",
      "2時 - 4時\t| 2.02% \ttotal: 2182, \ttarget: 44\n",
      "4時 - 6時\t| 1.85% \ttotal: 1186, \ttarget: 22\n",
      "6時 - 8時\t| 1.88% \ttotal: 2656, \ttarget: 50\n",
      "8時 - 10時\t| 2.11% \ttotal: 2990, \ttarget: 63\n",
      "10時 - 12時\t| 2.11% \ttotal: 2135, \ttarget: 45\n",
      "12時 - 14時\t| 2.51% \ttotal: 2194, \ttarget: 55\n",
      "14時 - 16時\t| 2.31% \ttotal: 1428, \ttarget: 33\n",
      "16時 - 18時\t| 1.93% \ttotal: 1349, \ttarget: 26\n",
      "18時 - 20時\t| 1.86% \ttotal: 1397, \ttarget: 26\n",
      "20時 - 22時\t| 1.58% \ttotal: 1396, \ttarget: 22\n",
      "22時 - 0時\t| 2.64% \ttotal: 1403, \ttarget: 37\n",
      "---------------------------------\n",
      "作品名: 鴨乃橋ロンの禁断推理\n",
      "0時 - 2時\t| 3.97% \ttotal: 1259, \ttarget: 50\n",
      "2時 - 4時\t| 4.37% \ttotal: 229, \ttarget: 10\n",
      "4時 - 6時\t| 3.64% \ttotal: 110, \ttarget: 4\n",
      "6時 - 8時\t| 3.18% \ttotal: 220, \ttarget: 7\n",
      "8時 - 10時\t| 3.62% \ttotal: 304, \ttarget: 11\n",
      "10時 - 12時\t| 6.34% \ttotal: 268, \ttarget: 17\n",
      "12時 - 14時\t| 4.05% \ttotal: 222, \ttarget: 9\n",
      "14時 - 16時\t| 8.57% \ttotal: 140, \ttarget: 12\n",
      "16時 - 18時\t| 7.50% \ttotal: 120, \ttarget: 9\n",
      "18時 - 20時\t| 0.00% \ttotal: 101, \ttarget: 0\n",
      "20時 - 22時\t| 4.11% \ttotal: 146, \ttarget: 6\n",
      "22時 - 0時\t| 6.43% \ttotal: 140, \ttarget: 9\n",
      "---------------------------------\n",
      "作品名: ダンダダン\n",
      "0時 - 2時\t| 6.52% \ttotal: 14391, \ttarget: 938\n",
      "2時 - 4時\t| 5.54% \ttotal: 1824, \ttarget: 101\n",
      "4時 - 6時\t| 6.12% \ttotal: 980, \ttarget: 60\n",
      "6時 - 8時\t| 6.61% \ttotal: 2555, \ttarget: 169\n",
      "8時 - 10時\t| 7.19% \ttotal: 2699, \ttarget: 194\n",
      "10時 - 12時\t| 7.19% \ttotal: 1669, \ttarget: 120\n",
      "12時 - 14時\t| 7.69% \ttotal: 1729, \ttarget: 133\n",
      "14時 - 16時\t| 8.18% \ttotal: 1003, \ttarget: 82\n",
      "16時 - 18時\t| 8.12% \ttotal: 997, \ttarget: 81\n",
      "18時 - 20時\t| 7.09% \ttotal: 1030, \ttarget: 73\n",
      "20時 - 22時\t| 5.59% \ttotal: 1199, \ttarget: 67\n",
      "22時 - 0時\t| 7.89% \ttotal: 1102, \ttarget: 87\n"
     ]
    },
    {
     "data": {
      "text/plain": [
       "{'阿波連さんははかれない': [8.357857563272514,\n",
       "  6.462585034013606,\n",
       "  11.03448275862069,\n",
       "  7.086614173228346,\n",
       "  5.912596401028278,\n",
       "  7.641196013289036,\n",
       "  8.035714285714286,\n",
       "  7.586206896551724,\n",
       "  2.4390243902439024,\n",
       "  6.481481481481481,\n",
       "  8.02919708029197,\n",
       "  7.042253521126761],\n",
       " '左ききのエレン': [3.212468193384224,\n",
       "  2.5,\n",
       "  3.5211267605633805,\n",
       "  3.9014373716632447,\n",
       "  2.7732463295269167,\n",
       "  3.7209302325581395,\n",
       "  2.570694087403599,\n",
       "  3.3962264150943398,\n",
       "  4.8034934497816595,\n",
       "  4.484304932735426,\n",
       "  4.830917874396135,\n",
       "  2.643171806167401],\n",
       " 'SPY×FAMILY': [9.873659624163924,\n",
       "  9.769713886950454,\n",
       "  7.554945054945055,\n",
       "  8.35427135678392,\n",
       "  9.613478691774034,\n",
       "  10.816062176165802,\n",
       "  10.278113663845224,\n",
       "  12.101390024529843,\n",
       "  10.120068610634648,\n",
       "  9.53125,\n",
       "  9.15129151291513,\n",
       "  9.698275862068966],\n",
       " '怪獣８号': [1.8023039762170197,\n",
       "  2.016498625114574,\n",
       "  1.854974704890388,\n",
       "  1.8825301204819278,\n",
       "  2.1070234113712374,\n",
       "  2.107728337236534,\n",
       "  2.506836827711942,\n",
       "  2.3109243697478994,\n",
       "  1.927353595255745,\n",
       "  1.8611309949892625,\n",
       "  1.5759312320916905,\n",
       "  2.6372059871703493],\n",
       " '鴨乃橋ロンの禁断推理': [3.971405877680699,\n",
       "  4.366812227074235,\n",
       "  3.6363636363636362,\n",
       "  3.1818181818181817,\n",
       "  3.618421052631579,\n",
       "  6.343283582089552,\n",
       "  4.054054054054054,\n",
       "  8.571428571428571,\n",
       "  7.5,\n",
       "  0.0,\n",
       "  4.10958904109589,\n",
       "  6.428571428571428],\n",
       " 'ダンダダン': [6.517962615523591,\n",
       "  5.537280701754386,\n",
       "  6.122448979591836,\n",
       "  6.614481409001957,\n",
       "  7.187847350870692,\n",
       "  7.18993409227082,\n",
       "  7.6923076923076925,\n",
       "  8.175473579262214,\n",
       "  8.124373119358076,\n",
       "  7.087378640776699,\n",
       "  5.587989991659716,\n",
       "  7.894736842105263]}"
      ]
     },
     "execution_count": 43,
     "metadata": {},
     "output_type": "execute_result"
    }
   ],
   "source": [
    "# 作品名のリスト\n",
    "work_name_list = list(df_con[[\"work_name\"]][~df_con[[\"work_name\"]].duplicated()].work_name)\n",
    "\n",
    "rate_dict = {}\n",
    "\n",
    "for work_name in work_name_list:\n",
    "    rate_arr = [] # 対象となる単語を含むコメントの割合\n",
    "    print(\"---------------------------------\")\n",
    "    print(\"作品名: {}\".format(work_name))\n",
    "    df_work = df_comment_time[df_comment_time[\"work_name\"] == work_name]\n",
    "    df_work_target = df_only_target[df_only_target[\"work_name\"] == work_name]\n",
    "    for i in range(len(delimitation) - 1):\n",
    "        total_num = df_work.between_time(\"{}:00:00\".format(delimitation[i]),\n",
    "                                         \"{}:00:00\".format(delimitation[i+1])).shape[0]\n",
    "        target_num = df_work_target.between_time(\"{}:00:00\".format(delimitation[i]),\n",
    "                                                 \"{}:00:00\".format(delimitation[i+1])).shape[0]\n",
    "        rate_arr.append(target_num / total_num * 100)\n",
    "        print(\"{0}時 - {1}時\\t| {2:.2f}% \\ttotal: {3}, \\ttarget: {4}\".format(delimitation[i],\n",
    "                                                                            delimitation[i+1],\n",
    "                                                                            rate_arr[-1], \n",
    "                                                                            total_num,\n",
    "                                                                            target_num))\n",
    "    rate_dict[work_name] = rate_arr"
   ]
  },
  {
   "cell_type": "markdown",
   "id": "70ad715d-1a99-45b1-8678-f1f481ceebc5",
   "metadata": {},
   "source": [
    "### グラフ表示"
   ]
  },
  {
   "cell_type": "code",
   "execution_count": 61,
   "id": "a3fb75f8-2cd5-4991-aabd-0131fbb068c9",
   "metadata": {},
   "outputs": [
    {
     "data": {
      "image/png": "[encoded data removed]",
      "text/plain": [
       "<Figure size 432x288 with 1 Axes>"
      ]
     },
     "metadata": {
      "needs_background": "light"
     },
     "output_type": "display_data"
    }
   ],
   "source": [
    "for work_name in work_name_list:\n",
    "    plt.plot(delimitation[:-1], np.asarray(rate_dict[work_name]), label=work_name)\n",
    "plt.title(\"対象となる単語を含むコメントの割合\", fontsize=12)\n",
    "plt.xlabel(\"時間帯\", fontsize=12) \n",
    "plt.ylabel(\"割合[%]\", fontsize=12) \n",
    "plt.legend(bbox_to_anchor=(1.05, 1), loc='upper left', fontsize=12)\n",
    "plt.grid(True)"
   ]
  }
 ],
 "metadata": {
  "kernelspec": {
   "display_name": "Python 3 (ipykernel)",
   "language": "python",
   "name": "python3"
  },
  "language_info": {
   "codemirror_mode": {
    "name": "ipython",
    "version": 3
   },
   "file_extension": ".py",
   "mimetype": "text/x-python",
   "name": "python",
   "nbconvert_exporter": "python",
   "pygments_lexer": "ipython3",
   "version": "3.8.13"
  }
 },
 "nbformat": 4,
 "nbformat_minor": 5
}
